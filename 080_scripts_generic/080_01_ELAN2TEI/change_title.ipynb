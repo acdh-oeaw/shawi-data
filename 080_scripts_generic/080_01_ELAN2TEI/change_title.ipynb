{
 "cells": [
  {
   "cell_type": "code",
   "execution_count": 1,
   "id": "033bf039",
   "metadata": {},
   "outputs": [],
   "source": [
    "# script for changing the title[level=\"a\"] element of the urfa files in the manannot folder\n",
    "# e.g. before: URFA_011, after: Cemetry-Harran"
   ]
  },
  {
   "cell_type": "code",
   "execution_count": 2,
   "id": "eacc4409",
   "metadata": {},
   "outputs": [],
   "source": [
    "import os\n",
    "import re\n",
    "from lxml import etree"
   ]
  },
  {
   "cell_type": "code",
   "execution_count": 5,
   "id": "7db95eaf",
   "metadata": {},
   "outputs": [
    {
     "name": "stdout",
     "output_type": "stream",
     "text": [
      "write to file Urfa-011_Cemetry-Harran-2010.xml\n",
      "write to file Urfa-012_Lentils-Harran-2010.xml\n",
      "write to file Urfa-014_Village_of_Qoran-Harran-2010.xml\n",
      "write to file Urfa-024a_Vegetabels_and_Seasonal_Work-Harran-2010.xml\n",
      "write to file Urfa-024b_Vegetabels_and_Seasonal_Work-Harran-2010.xml\n",
      "write to file Urfa-024_Vegetabels_and_Seasonal_Work-Harran-2010.xml\n",
      "write to file Urfa-027_Cultivation-Harran-2010.xml\n",
      "write to file Urfa-029_Smoking-Harran-2010.xml\n",
      "write to file Urfa-033_Sheikh_Nifil-Harran-2010.xml\n",
      "write to file Urfa-034_Liquorice-Harran-2010.xml\n",
      "write to file Urfa-042_Hospitality-Harran-2010.xml\n",
      "write to file Urfa-043_Truffle-Harran-2010.xml\n",
      "write to file Urfa-044_Sacks-Harran-2010.xml\n",
      "write to file Urfa-045_Gamra_Dariba-Harran-2010.xml\n",
      "write to file Urfa-046_Game_Xwetime-Harran-2010.xml\n",
      "write to file Urfa-047_Game_Qubbeya-Harran-2010.xml\n",
      "write to file Urfa-048_Game_Cab-Harran-2010.xml\n",
      "write to file Urfa-057_Story_of_Magician-Harran-2010.xml\n",
      "write to file Urfa-061_Life_of_al-Harrani-Harran-2010.xml\n",
      "write to file Urfa-068_Tribes_Armenians_Jews-Harran-2010.xml\n",
      "write to file Urfa-069a_Armenians-Harran-2010.xml\n",
      "write to file Urfa-069b_Arabicised_Kurds-Harran-2010.pfsx.xml\n",
      "write to file Urfa-070_Hen_House-Harran-2010.xml\n",
      "write to file Urfa-072_Villages-Harran-2010.xml\n",
      "write to file Urfa-073_Talls_Flood-Harran-2010.xml\n",
      "write to file Urfa-074_Talls_Burial_for_Children-Harran-2010.xml\n",
      "write to file Urfa-075_Corn_and_Language-Harran-2010.xml\n",
      "write to file Urfa-076_Bedouins-Harran-2010.xml\n",
      "write to file Urfa-077a_The_Jinn-Harran-2010.xml\n",
      "write to file Urfa-077b_The_Jinn-Harran-2010.xml\n",
      "write to file Urfa-077c_The_Jinn-Harran-2010.xml\n",
      "write to file Urfa-077d_The_Jinn-Harran-2010.xml\n",
      "write to file Urfa-077e_The_Jinn-Harran-2010.xml\n",
      "write to file Urfa-080_Gazelles_and-Jews-Harran-2010.xml\n",
      "write to file Urfa-081_Food_in_Former_Times-Harran-2010.xml\n",
      "write to file Urfa-085_The_Snake_in_the_Cistern-Harran-2010.xml\n",
      "write to file Urfa-087_Smide-Harran-2010.xml\n",
      "write to file Urfa-092_Sultan_Murad-Harran-2010.xml\n",
      "write to file Urfa-094_Three_Advices-Harran-2010.xml\n",
      "write to file Urfa-097_Three_Daughters-Harran-2010.xml\n",
      "write to file Urfa-098_Young_Woman-Harran-2010.xml\n",
      "write to file Urfa-105_Life_in_Former_Times-Harran-2010.xml\n",
      "write to file Urfa-106_Visa_in_Ankara-Harran-2010.xml\n",
      "write to file Urfa-107_Cotton_Business-Harran-2010.xml\n",
      "write to file Urfa-110_Salim_az-Zir-Harran-2010.xml\n",
      "write to file Urfa-112_Tall_Nasir-Harran-2010.xml\n",
      "write to file Urfa-115_Camel-Harran-2010.xml\n",
      "write to file Urfa-119_Engagement-Harran-2010.xml\n",
      "write to file Urfa-120_Cross_Marriage-Harran-2010.xml\n",
      "write to file Urfa-122_Nimrod-Harran-2010.xml\n",
      "write to file Urfa-123_Stealing_Boy_P1-Harran-2010.xml\n",
      "write to file Urfa-124_Stealing_Boy_P2-Harran-2010.xml\n",
      "write to file Urfa-125_Coffee-Harran-2010.xml\n",
      "write to file Urfa-133_Sheikh_Musa-Harran-2013.xml\n",
      "write to file Urfa-135_Burglars_From_Syria-Harran-2013.xml\n",
      "write to file Urfa-136_Cigkofte-Harran-2013.xml\n",
      "write to file Urfa-139_Lahmacun-Harran-2013.xml\n",
      "write to file Urfa-140_Biyat-Harran-2013.xml\n",
      "write to file Urfa-142_Chilli_Pepper-Harran-2013.xml\n",
      "write to file Urfa-144_Malfuf-Harran-2013.xml\n",
      "write to file Urfa-150_Iclikofte-Harran-2014.xml\n",
      "write to file Urfa-151_Ashura-Harran-2014.xml\n",
      "write to file Urfa-152_Dream-Harran-2014.xml\n",
      "write to file Urfa-153_Sheikh_Hasan-Harran-2014.xml\n",
      "write to file Urfa-155_Childhood-Harran-2014.xml\n",
      "write to file Urfa-158_Moses_and_Dog-Harran-2014.xml\n",
      "write to file Urfa-160_Seyhmus-Harran-2014.xml\n",
      "write to file Urfa-162_Umm_al-Qet-Harran-2014.xml\n",
      "write to file Urfa-163_Quilts-Harran-2014.xml\n",
      "write to file Urfa-164_Baking_Bread-Harran-2014.xml\n",
      "write to file Urfa-167_Sheikh_'Nad-Harran-2014.xml\n",
      "write to file Urfa-173_Woman_with_No_Lover_Short-Harran-2014.xml\n",
      "write to file Urfa-175_Bastig-Harran-2014.xml\n",
      "write to file Urfa-176_Condolences-Harran-2014.xml\n",
      "write to file Urfa-183_Policeman_and_Carp-Harran-2014.xml\n"
     ]
    },
    {
     "ename": "XMLSyntaxError",
     "evalue": "xml:id : attribute value  is not an NCName, line 512, column 62 (Urfa-184_Evil_Eye-Harran-2014.xml, line 512)",
     "output_type": "error",
     "traceback": [
      "Traceback \u001b[1;36m(most recent call last)\u001b[0m:\n",
      "\u001b[0m  File \u001b[0;32m~\\AppData\\Local\\anaconda3\\Lib\\site-packages\\IPython\\core\\interactiveshell.py:3526\u001b[0m in \u001b[0;35mrun_code\u001b[0m\n    exec(code_obj, self.user_global_ns, self.user_ns)\u001b[0m\n",
      "\u001b[0m  Cell \u001b[0;32mIn[5], line 8\u001b[0m\n    tree = etree.parse(file)\u001b[0m\n",
      "\u001b[0m  File \u001b[0;32msrc/lxml/etree.pyx:3541\u001b[0m in \u001b[0;35mlxml.etree.parse\u001b[0m\n",
      "\u001b[0m  File \u001b[0;32msrc/lxml/parser.pxi:1900\u001b[0m in \u001b[0;35mlxml.etree._parseDocument\u001b[0m\n",
      "\u001b[0m  File \u001b[0;32msrc/lxml/parser.pxi:1920\u001b[0m in \u001b[0;35mlxml.etree._parseFilelikeDocument\u001b[0m\n",
      "\u001b[0m  File \u001b[0;32msrc/lxml/parser.pxi:1814\u001b[0m in \u001b[0;35mlxml.etree._parseDocFromFilelike\u001b[0m\n",
      "\u001b[0m  File \u001b[0;32msrc/lxml/parser.pxi:1204\u001b[0m in \u001b[0;35mlxml.etree._BaseParser._parseDocFromFilelike\u001b[0m\n",
      "\u001b[0m  File \u001b[0;32msrc/lxml/parser.pxi:618\u001b[0m in \u001b[0;35mlxml.etree._ParserContext._handleParseResultDoc\u001b[0m\n",
      "\u001b[0m  File \u001b[0;32msrc/lxml/parser.pxi:728\u001b[0m in \u001b[0;35mlxml.etree._handleParseResult\u001b[0m\n",
      "\u001b[1;36m  File \u001b[1;32msrc/lxml/parser.pxi:657\u001b[1;36m in \u001b[1;35mlxml.etree._raiseParseError\u001b[1;36m\n",
      "\u001b[1;36m  File \u001b[1;32m~\\Shawi\\shawi-data\\010_manannot\\Urfa-184_Evil_Eye-Harran-2014.xml:512\u001b[1;36m\u001b[0m\n\u001b[1;33m    <w ana=\"#anid_45763\" xml:id=\"\" join=\"rigth\">u</w>\u001b[0m\n\u001b[1;37m                                              ^\u001b[0m\n\u001b[1;31mXMLSyntaxError\u001b[0m\u001b[1;31m:\u001b[0m xml:id : attribute value  is not an NCName, line 512, column 62\n"
     ]
    }
   ],
   "source": [
    "directory = r'../../010_manannot'\n",
    "namespaces = {'tei': 'http://www.tei-c.org/ns/1.0'}\n",
    "\n",
    "for file in os.listdir(directory):\n",
    "    filename = os.fsdecode(file)\n",
    "    if filename.startswith(\"Urfa\"):\n",
    "        with open(directory + '/' + filename, encoding=\"utf8\") as file:\n",
    "            tree = etree.parse(file)\n",
    "\n",
    "        title = tree.find('.//tei:title[@level=\"a\"]', namespaces=namespaces)\n",
    "        # new title without \"URFA\", document number, year number, hyphens or underscores\n",
    "        new_title = re.split('\\d{3}\\w?_|-\\d{4}\\..{3,}', filename)[1].translate(str.maketrans({'-': ' ', '_': ' '}))\n",
    "        # in case there are file a and b and so on..\n",
    "        title_addition = re.search('\\d{3}(\\w?)_', filename).group(1)\n",
    "        \n",
    "        if title_addition:\n",
    "            new_title = new_title + ' (' + title_addition + ')'\n",
    "\n",
    "        title.text = new_title\n",
    "        print(\"write to file \" + filename)\n",
    "        \n",
    "        with open(directory + '/' + filename, 'wb') as file:\n",
    "            tree.write(file, pretty_print=True, xml_declaration=True, encoding='UTF-8')\n"
   ]
  },
  {
   "cell_type": "code",
   "execution_count": null,
   "id": "f232e1e2",
   "metadata": {},
   "outputs": [],
   "source": []
  }
 ],
 "metadata": {
  "kernelspec": {
   "display_name": "Python 3 (ipykernel)",
   "language": "python",
   "name": "python3"
  },
  "language_info": {
   "codemirror_mode": {
    "name": "ipython",
    "version": 3
   },
   "file_extension": ".py",
   "mimetype": "text/x-python",
   "name": "python",
   "nbconvert_exporter": "python",
   "pygments_lexer": "ipython3",
   "version": "3.11.5"
  }
 },
 "nbformat": 4,
 "nbformat_minor": 5
}
