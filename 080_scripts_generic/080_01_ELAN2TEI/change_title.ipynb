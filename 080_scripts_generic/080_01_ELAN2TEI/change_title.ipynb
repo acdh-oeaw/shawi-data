{
 "cells": [
  {
   "cell_type": "code",
   "execution_count": 3,
   "id": "033bf039",
   "metadata": {},
   "outputs": [],
   "source": [
    "# script for changing the title[level=\"a\"] element of the urfa files in the manannot folder\n",
    "# e.g. before: URFA_011, after: Cemetry Harran"
   ]
  },
  {
   "cell_type": "code",
   "execution_count": 4,
   "id": "eacc4409",
   "metadata": {},
   "outputs": [],
   "source": [
    "import os\n",
    "import re\n",
    "from lxml import etree"
   ]
  },
  {
   "cell_type": "code",
   "execution_count": 2,
   "id": "7db95eaf",
   "metadata": {},
   "outputs": [
    {
     "ename": "NameError",
     "evalue": "name 'os' is not defined",
     "output_type": "error",
     "traceback": [
      "\u001b[1;31m---------------------------------------------------------------------------\u001b[0m",
      "\u001b[1;31mNameError\u001b[0m                                 Traceback (most recent call last)",
      "Cell \u001b[1;32mIn[2], line 4\u001b[0m\n\u001b[0;32m      1\u001b[0m directory \u001b[38;5;241m=\u001b[39m \u001b[38;5;124mr\u001b[39m\u001b[38;5;124m'\u001b[39m\u001b[38;5;124m../../010_manannot\u001b[39m\u001b[38;5;124m'\u001b[39m\n\u001b[0;32m      2\u001b[0m namespaces \u001b[38;5;241m=\u001b[39m {\u001b[38;5;124m'\u001b[39m\u001b[38;5;124mtei\u001b[39m\u001b[38;5;124m'\u001b[39m: \u001b[38;5;124m'\u001b[39m\u001b[38;5;124mhttp://www.tei-c.org/ns/1.0\u001b[39m\u001b[38;5;124m'\u001b[39m}\n\u001b[1;32m----> 4\u001b[0m \u001b[38;5;28;01mfor\u001b[39;00m file \u001b[38;5;129;01min\u001b[39;00m os\u001b[38;5;241m.\u001b[39mlistdir(directory):\n\u001b[0;32m      5\u001b[0m     filename \u001b[38;5;241m=\u001b[39m os\u001b[38;5;241m.\u001b[39mfsdecode(file)\n\u001b[0;32m      6\u001b[0m     \u001b[38;5;28;01mif\u001b[39;00m filename\u001b[38;5;241m.\u001b[39mstartswith(\u001b[38;5;124m\"\u001b[39m\u001b[38;5;124mUrfa\u001b[39m\u001b[38;5;124m\"\u001b[39m):\n",
      "\u001b[1;31mNameError\u001b[0m: name 'os' is not defined"
     ]
    }
   ],
   "source": [
    "directory = r'../../010_manannot'\n",
    "namespaces = {'tei': 'http://www.tei-c.org/ns/1.0'}\n",
    "\n",
    "for file in os.listdir(directory):\n",
    "    filename = os.fsdecode(file)\n",
    "    if filename.startswith(\"Urfa\"):\n",
    "        with open(directory + '/' + filename, encoding=\"utf8\") as file:\n",
    "            tree = etree.parse(file)\n",
    "\n",
    "        title = tree.find('.//tei:title[@level=\"a\"]', namespaces=namespaces)\n",
    "        # new title without \"URFA\", document number, year number, hyphens or underscores\n",
    "        new_title = re.split('\\d{3}\\w?_|-\\d{4}\\..{3,}', filename)[1].translate(str.maketrans({'-': ' ', '_': ' '}))\n",
    "        # in case there are file a and b and so on..\n",
    "        title_addition = re.search('\\d{3}(\\w?)_', filename).group(1)\n",
    "        \n",
    "        if title_addition:\n",
    "            new_title = new_title + ' (' + title_addition + ')'\n",
    "\n",
    "        title.text = new_title\n",
    "        print(\"write to file \" + filename)\n",
    "        \n",
    "        with open(directory + '/' + filename, 'wb') as file:\n",
    "            tree.write(file, pretty_print=True, xml_declaration=True, encoding='UTF-8')\n"
   ]
  },
  {
   "cell_type": "code",
   "execution_count": null,
   "id": "f232e1e2",
   "metadata": {},
   "outputs": [],
   "source": []
  }
 ],
 "metadata": {
  "kernelspec": {
   "display_name": "Python 3 (ipykernel)",
   "language": "python",
   "name": "python3"
  },
  "language_info": {
   "codemirror_mode": {
    "name": "ipython",
    "version": 3
   },
   "file_extension": ".py",
   "mimetype": "text/x-python",
   "name": "python",
   "nbconvert_exporter": "python",
   "pygments_lexer": "ipython3",
   "version": "3.11.5"
  }
 },
 "nbformat": 4,
 "nbformat_minor": 5
}
