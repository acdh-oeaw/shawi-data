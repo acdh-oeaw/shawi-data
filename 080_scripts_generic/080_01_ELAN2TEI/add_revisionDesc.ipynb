{
 "cells": [
  {
   "cell_type": "code",
   "execution_count": 22,
   "id": "b4683575",
   "metadata": {},
   "outputs": [],
   "source": [
    "#script for adding revisionDesc as last part of the teiHeader in the already copied corpus files in the folder 010_manannot"
   ]
  },
  {
   "cell_type": "code",
   "execution_count": 23,
   "id": "7f30b774",
   "metadata": {},
   "outputs": [],
   "source": [
    "import os\n",
    "from lxml import etree"
   ]
  },
  {
   "cell_type": "code",
   "execution_count": 30,
   "id": "7dd1747f",
   "metadata": {},
   "outputs": [
    {
     "ename": "SyntaxError",
     "evalue": "prefix 'tei' not found in prefix map (<string>)",
     "output_type": "error",
     "traceback": [
      "Traceback \u001b[1;36m(most recent call last)\u001b[0m:\n",
      "\u001b[1;36m  File \u001b[1;32msrc/lxml/_elementpath.py:85\u001b[1;36m in \u001b[1;35mlxml._elementpath.xpath_tokenizer\u001b[1;36m\n",
      "\u001b[1;31mKeyError\u001b[0m\n",
      "\nDuring handling of the above exception, another exception occurred:\n",
      "Traceback \u001b[1;36m(most recent call last)\u001b[0m:\n",
      "\u001b[0m  File \u001b[0;32m~\\AppData\\Local\\anaconda3\\Lib\\site-packages\\IPython\\core\\interactiveshell.py:3526\u001b[0m in \u001b[0;35mrun_code\u001b[0m\n    exec(code_obj, self.user_global_ns, self.user_ns)\u001b[0m\n",
      "\u001b[0m  Cell \u001b[0;32mIn[30], line 10\u001b[0m\n    teiHeader = tree.find('.//tei:teiHeader')\u001b[0m\n",
      "\u001b[0m  File \u001b[0;32msrc/lxml/etree.pyx:2238\u001b[0m in \u001b[0;35mlxml.etree._ElementTree.find\u001b[0m\n",
      "\u001b[0m  File \u001b[0;32msrc/lxml/etree.pyx:1550\u001b[0m in \u001b[0;35mlxml.etree._Element.find\u001b[0m\n",
      "\u001b[0m  File \u001b[0;32msrc/lxml/_elementpath.py:323\u001b[0m in \u001b[0;35mlxml._elementpath.find\u001b[0m\n",
      "\u001b[0m  File \u001b[0;32msrc/lxml/_elementpath.py:312\u001b[0m in \u001b[0;35mlxml._elementpath.iterfind\u001b[0m\n",
      "\u001b[0m  File \u001b[0;32msrc/lxml/_elementpath.py:295\u001b[0m in \u001b[0;35mlxml._elementpath._build_path_iterator\u001b[0m\n",
      "\u001b[0m  File \u001b[0;32msrc/lxml/_elementpath.py:120\u001b[0m in \u001b[0;35mlxml._elementpath.prepare_descendant\u001b[0m\n",
      "\u001b[1;36m  File \u001b[1;32msrc/lxml/_elementpath.py:88\u001b[1;36m in \u001b[1;35mxpath_tokenizer\u001b[1;36m\n",
      "\u001b[1;36m  File \u001b[1;32m<string>\u001b[1;36m\u001b[0m\n\u001b[1;31mSyntaxError\u001b[0m\u001b[1;31m:\u001b[0m prefix 'tei' not found in prefix map\n"
     ]
    }
   ],
   "source": [
    "directory = r'../../010_manannot'\n",
    "namespaces = {'tei': 'http://www.tei-c.org/ns/1.0'}\n",
    "\n",
    "for file in os.listdir(directory):\n",
    "    filename = os.fsdecode(file)\n",
    "    if filename.startswith(\"Urfa\"):\n",
    "        with open(directory + '/' + filename, encoding=\"utf8\") as file:\n",
    "            tree = etree.parse(file)\n",
    "            \n",
    "        teiHeader = tree.find('.//tei:teiHeader', namespaces=namespaces)\n",
    "        revisionDesc = etree.SubElement(teiHeader, \"revisionDesc\")\n",
    "        revisionDesc.attrib[\"status\"] = \"draft\"\n",
    "        revisionDesc.tail = \"\\n\\t\"\n",
    "        \n",
    "        print(\"write to file \" + filename)\n",
    "        \n",
    "        with open(directory + '/' + filename, 'wb') as file:\n",
    "            tree.write(file, pretty_print=True, xml_declaration=True, encoding='UTF-8')"
   ]
  },
  {
   "cell_type": "code",
   "execution_count": null,
   "id": "26ea9a29",
   "metadata": {},
   "outputs": [],
   "source": []
  }
 ],
 "metadata": {
  "kernelspec": {
   "display_name": "Python 3 (ipykernel)",
   "language": "python",
   "name": "python3"
  },
  "language_info": {
   "codemirror_mode": {
    "name": "ipython",
    "version": 3
   },
   "file_extension": ".py",
   "mimetype": "text/x-python",
   "name": "python",
   "nbconvert_exporter": "python",
   "pygments_lexer": "ipython3",
   "version": "3.11.5"
  }
 },
 "nbformat": 4,
 "nbformat_minor": 5
}
