{
 "cells": [
  {
   "cell_type": "markdown",
   "id": "a34c743a",
   "metadata": {
    "tags": []
   },
   "source": [
    "# ELAN to TEI conversion \n",
    "\n",
    "**Author:** Daniel Schopper    \n",
    "**Description:** This notebook automates the ELAN to TEI conversion in the SHAWI Project. When finished, it should be ported to a non-interactive script which is triggered by a github action.    \n",
    "**Last Change:** 2022-03-23     \n",
    "**History:**    \n",
    "* 2022-03-10: Initital set up\n",
    "* 2022-03-11: added XSLT transformation via saxonpy\n",
    "* 2022-03-12: added ELAN to TEI conversion\n",
    "* 2022-03-23: integrated merge metadata XSL\n",
    "\n",
    "## TODOS and Open Questions\n",
    "\n",
    "* merge documents, making sure to not overwrite manual changes\n",
    "* replace TEI documents with x-includes\n",
    "* tokenize\n",
    "* validate"
   ]
  },
  {
   "cell_type": "code",
   "execution_count": 1,
   "id": "1c93b1bf",
   "metadata": {},
   "outputs": [],
   "source": [
    "import io\n",
    "# import sharepy\n",
    "import os\n",
    "import logging\n",
    "import requests\n",
    "import pathlib\n",
    "#import filetype – not used\n",
    "from pathlib import Path\n",
    "from urllib.parse import urlsplit\n",
    "import saxonche\n",
    "from zipfile import ZipFile\n",
    "import subprocess\n",
    "from datetime import datetime\n",
    "# from inspect import getmembers, signature\n",
    "logging.basicConfig(format='%(asctime)s - %(message)s', level=logging.INFO)"
   ]
  },
  {
   "cell_type": "markdown",
   "id": "0cd189fd",
   "metadata": {},
   "source": [
    "## Configuration"
   ]
  },
  {
   "cell_type": "code",
   "execution_count": 2,
   "id": "65d673ca-740f-4d11-93b7-a9036750f5e1",
   "metadata": {},
   "outputs": [
    {
     "name": "stderr",
     "output_type": "stream",
     "text": [
      "2025-09-15 09:32:59,801 - SaxonC-HE 12.4.2 from Saxonica\n",
      "2025-09-15 09:32:59,803 - C:\\Users\\mrauschsupola\\Shawi\\shawi-data\\080_scripts_generic\n",
      "2025-09-15 09:32:59,804 - ** setting up directories **\n",
      "2025-09-15 09:32:59,805 - skipped existing directory 'data'\n",
      "2025-09-15 09:32:59,806 - skipped existing directory 'lib'\n"
     ]
    }
   ],
   "source": [
    "# the URL of the Sharepoint installation \n",
    "# sp_baseURL = \"oeawacat.sharepoint.com\"\n",
    "\n",
    "# the sharepoint username + password are taken from the environment\n",
    "# sp_username = os.environ['SP_USERNAME']\n",
    "# sp_pwd = pwd = os.environ['SP_PWD']\n",
    "\n",
    "# the name of the Sharepoint Site\n",
    "# sp_siteName = \"ACDH-CH_p_ShawiTypeArabicDialects_Shawi\"\n",
    "\n",
    "# the path to the Excel file\n",
    "# sp_pathToRecordingsXLSX = \"Shared%20Documents/General/Shawi_Recordings.xlsx\"\n",
    "\n",
    "\n",
    "# the name of the local directory where downloaded data will be stored\n",
    "dataDir = \"data\"\n",
    "\n",
    "# the name of the local directory where downloaded libraries and other auxiliary code will be stored\n",
    "libDir = \"lib\"\n",
    "\n",
    "# the root of the git repository\n",
    "shawidataHomeDir = \"../..\"\n",
    "\n",
    "# path to project-specific stylesheets\n",
    "pathToShawiStylesheetsDir = shawidataHomeDir+\"/082_scripts_xsl\"\n",
    "\n",
    "# the path to the ELAN transcription files\n",
    "pathToELANDir = shawidataHomeDir+\"/122_elan\"\n",
    "\n",
    "# the path to the non-annotated TEI transcription files\n",
    "pathToTEIDir = shawidataHomeDir+\"/103_tei_w\"\n",
    "\n",
    "# the path to the annotated TEI transcription files\n",
    "pathToAnnotatedTEIDir = shawidataHomeDir+\"/010_manannot\"\n",
    "\n",
    "\n",
    "# the path to the NoSkE verticals\n",
    "noSkEVertDir = shawidataHomeDir+\"/130_vert_plain\"\n",
    "\n",
    "# the path to the tei Corpus document produced by this script\n",
    "pathToTeiCorpus = pathToTEIDir+\"/shawiCorpus.xml\"\n",
    "\n",
    "\n",
    "# the path to the audio files\n",
    "pathToRecordingsDir = \"THIS_IS_NOT_USED\"#\"/mnt/univie_orientalistik/SHAWI/Recordings\"\n",
    "\n",
    "with saxonche.PySaxonProcessor(license=False) as proc:\n",
    "    logging.info(proc.version)\n",
    "    proc.set_cwd(os.path.dirname(os.path.abspath('')))\n",
    "    logging.info(proc.cwd)\n",
    "\n",
    "\n",
    "#set up directories\n",
    "logging.info(\"** setting up directories **\")\n",
    "for i in [dataDir,libDir]: \n",
    "    if os.path.exists(i):\n",
    "        logging.info(\"skipped existing directory '\"+i+\"'\")\n",
    "    else:\n",
    "        os.mkdir(i)\n",
    "        logging.info(\"created directory '\"+i+\"'\")\n",
    "        \n",
    "        \n",
    "# define which steps should be skipped. \n",
    "\n",
    "SKIP_PROCESSING = []#[\"runTEICorpo\"]"
   ]
  },
  {
   "cell_type": "markdown",
   "id": "6cfda0dc",
   "metadata": {},
   "source": [
    "## Setup\n",
    "\n",
    "### Step 1: get the latest release of the TEI Stylesheets "
   ]
  },
  {
   "cell_type": "code",
   "execution_count": 3,
   "id": "5960d582",
   "metadata": {
    "scrolled": true
   },
   "outputs": [
    {
     "name": "stderr",
     "output_type": "stream",
     "text": [
      "2025-09-15 09:32:59,817 - ** Fetching library TEIC/TEI **\n",
      "2025-09-15 09:33:00,401 - We have already the latest version (P5_Release_4.10.2). Exiting\n",
      "2025-09-15 09:33:00,402 - \n",
      "2025-09-15 09:33:00,405 - ** Fetching library TEIC/Stylesheets **\n",
      "2025-09-15 09:33:00,923 - We have already the latest version (v7.59.0). Exiting\n",
      "2025-09-15 09:33:00,924 - \n"
     ]
    }
   ],
   "source": [
    "# Setup\n",
    "\n",
    "# fetch the TEI Stylesheets    \n",
    "def installFromGithub(libraryName):\n",
    "    auth = {}\n",
    "    if 'GITHUB_TOKEN' in os.environ:\n",
    "        auth = {\"Authorization\": \"Bearer \"+os.environ['GITHUB_TOKEN']}\n",
    "    headers = {\"Accept\" : \"application/vnd.github.v3+json\"}\n",
    "    repo = libraryName\n",
    "    logging.info(\"** Fetching library \"+repo+\" **\")\n",
    "    libBasePath = libDir+\"/\"+repo\n",
    "    \n",
    "    # First we check which tag name the latest release has\n",
    "    r = requests.get(\"https://api.github.com/repos/\"+repo+\"/releases/latest\", headers={**headers, **auth})\n",
    "    if r.status_code != 200:\n",
    "        logging.error(\"An error occured fetching the latest release. Maybe there isn't any release? \")\n",
    "        logging.error(r.content)\n",
    "        return 1\n",
    "    release = r.json()\n",
    "    tag = release[\"tag_name\"]\n",
    "    \n",
    "    # we check whether we have the latest version already \\\n",
    "    # by checking if the respective path is already installed\n",
    "    libReleasePath = libBasePath+\"/\"+tag\n",
    "    haveLatestVersion = os.path.exists(libReleasePath)\n",
    "    if haveLatestVersion:\n",
    "        logging.info(\"We have already the latest version (\"+tag+\"). Exiting\")\n",
    "        logging.info(\"\")\n",
    "        return libReleasePath\n",
    "    else:\n",
    "        url = release[\"assets\"][0][\"browser_download_url\"]\n",
    "        payload = requests.get(url, headers=auth).content\n",
    "        zipfilename = os.path.basename(url)\n",
    "        os.makedirs(libReleasePath, exist_ok=True)\n",
    "        zipfilePath = libReleasePath +\"/\"+zipfilename\n",
    "        open(zipfilePath, 'wb').write(payload)\n",
    "        ZipFile(zipfilePath).extractall(path=libReleasePath)\n",
    "        logging.info(\"Downloaded latest version (\"+tag+\") to \"+libReleasePath)\n",
    "        logging.info(\"\")\n",
    "        return libReleasePath\n",
    "\n",
    "\n",
    "pathToTEIGuidelines=installFromGithub(\"TEIC/TEI\")\n",
    "pathToTEIStylesheets=installFromGithub(\"TEIC/Stylesheets\")\n"
   ]
  },
  {
   "cell_type": "markdown",
   "id": "27c41966",
   "metadata": {},
   "source": [
    "### Step 2: Download the latest version of the Excel Sheet"
   ]
  },
  {
   "cell_type": "code",
   "execution_count": 4,
   "id": "842ce3c9",
   "metadata": {},
   "outputs": [
    {
     "name": "stderr",
     "output_type": "stream",
     "text": [
      "2025-09-15 09:33:00,931 - data/SHAWI_Recordings.xlsx\n"
     ]
    }
   ],
   "source": [
    "# TODO will need to add credentials if this is run in non-interactive mode\n",
    "def downloadFromSP(sp_filepath, force=False):\n",
    "    url = \"https://\"+sp_baseURL+\"/sites/\"+sp_siteName+\"/\"+sp_filepath\n",
    "    logging.info(\"attempting to download file from '\"+url+\"'\")\n",
    "    filename = os.path.basename(sp_filepath)\n",
    "    downloadPath = dataDir+\"/\"+filename\n",
    "    if os.path.exists(downloadPath) and not force:\n",
    "        logging.info(\"skipping existing file \"+downloadPath)\n",
    "        return downloadPath\n",
    "    else:\n",
    "        s = sharepy.connect(sp_baseURL, username=sp_username, password=sp_pwd)\n",
    "        s.getfile(url, filename=downloadPath)\n",
    "        return downloadPath\n",
    "\n",
    "\n",
    "pathToExcelSheet = \"data/SHAWI_Recordings.xlsx\"\n",
    "# downloadFromSP(sp_pathToRecordingsXLSX, force=\"downloadExcelSheet\" not in SKIP_PROCESSING)\n",
    "logging.info(pathToExcelSheet)"
   ]
  },
  {
   "cell_type": "markdown",
   "id": "f9687813",
   "metadata": {},
   "source": [
    "## Step 2: transform xlsx to TEI table"
   ]
  },
  {
   "cell_type": "code",
   "execution_count": 5,
   "id": "48c1a1d2",
   "metadata": {},
   "outputs": [],
   "source": [
    "def transform(s, xsl, o, parameters=[]):\n",
    "    # processor keeps files open on Windows and in doing so prevents moving or copying them\n",
    "    with saxonche.PySaxonProcessor(license=False) as proc:\n",
    "        proc.set_configuration_property(\"xi\", \"on\")\n",
    "        saxon = proc.new_xslt30_processor()\n",
    "        for i in parameters:\n",
    "            saxon.set_parameter(name=i, value=proc.make_string_value(parameters[i]))\n",
    "        try:\n",
    "            exec = saxon.compile_stylesheet(stylesheet_file=os.path.abspath(xsl))\n",
    "            exec.set_global_context_item(file_name=os.path.abspath(s))\n",
    "            # From the docs saxonc.html#PyXsltExecutable-set_initial_match_selection\n",
    "            # This method does not set the global context item for the transformation;\n",
    "            # if that is required, it can be done separately using the set_global_context_item method.\n",
    "            exec.apply_templates_returning_file(source_file=os.path.abspath(s), output_file=os.path.abspath(o))\n",
    "        except saxonche.PySaxonApiError as e:\n",
    "            logging.info(str(e))\n",
    "            logging.info(os.path.abspath(s)+\" - \"+os.path.abspath(xsl)+\" -> \"+os.path.abspath(o)+\" failed\")\n",
    "        if proc.exception_occurred:\n",
    "            logging.info(proc.get_error_message())\n",
    "            logging.info(os.path.abspath(s)+\" - \"+os.path.abspath(xsl)+\" -> \"+os.path.abspath(o)+\" failed\")\n",
    "        if os.path.exists(os.path.abspath(o)):\n",
    "            return o\n",
    "        else: \n",
    "            logging.info(\"there was an error transforming \"+s+\" with stylesheet \"+xsl)"
   ]
  },
  {
   "cell_type": "code",
   "execution_count": 6,
   "id": "531fda65",
   "metadata": {
    "scrolled": true
   },
   "outputs": [],
   "source": [
    "def xlsx2teitable(xlsx, output):\n",
    "\n",
    "    # first, extract contents of XLSX document to a temp directory\n",
    "    unzipPath=xlsx.replace(\".xlsx\",\"\")\n",
    "    os.makedirs(unzipPath, exist_ok=True)\n",
    "    ZipFile(xlsx).extractall(path=unzipPath)\n",
    "    \n",
    "    # then transform the .rels file using the TEIC Stylesheets \n",
    "    pathToXlsxtoteiXSL=pathToTEIStylesheets+\"/xml/tei/stylesheet/xlsx/xlsxtotei.xsl\"\n",
    "\n",
    "    params = {\n",
    "        \"inputDir\" : pathlib.Path(os.path.abspath(unzipPath)).as_uri(),\n",
    "        \"workDir\" : pathlib.Path(os.path.abspath(unzipPath)).as_uri()\n",
    "        \n",
    "    }\n",
    "\n",
    "    transform(\n",
    "        s = unzipPath+\"/_rels/.rels\", \n",
    "        xsl = pathToXlsxtoteiXSL, \n",
    "        o = output, \n",
    "        parameters=params\n",
    "    )\n",
    "    return"
   ]
  },
  {
   "cell_type": "code",
   "execution_count": 7,
   "id": "e041e152",
   "metadata": {
    "scrolled": true
   },
   "outputs": [
    {
     "name": "stderr",
     "output_type": "stream",
     "text": [
      "2025-09-15 09:33:01,902 - data/SHAWI_Recordings.xml\n"
     ]
    }
   ],
   "source": [
    "pathToTEItable=pathToExcelSheet.replace(\".xlsx\",\".xml\")\n",
    "\n",
    "if not \"xlsx2teitable\" in SKIP_PROCESSING:    \n",
    "    xlsx2teitable(xlsx=pathToExcelSheet, output=pathToTEItable)\n",
    "    debugstring=\"\"\"<!-- \n",
    "   THIS FILE IS INCLUDED IN THE GIT REPOSITORY ONLY FOR DEBUGGING PURPOSES. \n",
    "   \n",
    "   The source of this file is constantly being edited at \n",
    "   https://oeawacat.sharepoint.com/sites/ACDH-CH_p_ShawiTypeArabicDialects_Shawi/_layouts/15/Doc.aspx?sourcedoc={F01FF43B-2409-4E31-A5BF-653E0559B160}&file=SHAWI%20Recordings.xlsx&action=default&mobileredirect=true&cid=f7311564-c2b6-4b08-9a52-468547688408\n",
    "   So this copy is most probably already outdated.\n",
    "   \n",
    "  To update it, you can either run https://gitlab.com/acdh-oeaw/shawibarab/shawi-data/-/blob/main/080_scripts_generic/080_01_ELAN2TEI/ELAN2TEI.ipyn\n",
    "   *OR*  \n",
    "   1) download the Excel file manually from Sharepoint\n",
    "   2) and tranform it to TEI using oxgarage.tei-c.org/ \n",
    "   \n",
    "-->\n",
    "    \"\"\"\n",
    "    f = open(pathToTEItable,mode=\"r\",encoding=\"UTF8\")\n",
    "    src = f.read()\n",
    "    new = src.replace('<?xml version=\"1.0\" encoding=\"UTF-8\"?>','<?xml version=\"1.0\" encoding=\"UTF-8\"?>\\n'+debugstring)\n",
    "    f.close()\n",
    "    f = open(pathToTEItable, mode=\"wt\",encoding=\"UTF8\")\n",
    "    f.write(new)\n",
    "    f.close()\n",
    "        \n",
    "    logging.info(pathToTEItable)"
   ]
  },
  {
   "cell_type": "markdown",
   "id": "d3ca2fcd",
   "metadata": {},
   "source": [
    "## Step 3: transform TEI table to corpus header"
   ]
  },
  {
   "cell_type": "code",
   "execution_count": 8,
   "id": "d0889b3e",
   "metadata": {},
   "outputs": [
    {
     "name": "stderr",
     "output_type": "stream",
     "text": [
      "2025-09-15 09:33:02,911 - ../../103_tei_w/shawiCorpus.xml\n"
     ]
    }
   ],
   "source": [
    "pathToTeitableToCorpusXSL=pathToShawiStylesheetsDir+\"/table2corpus.xsl\"\n",
    "params = {\n",
    "    \"pathToRecordings\" : pathlib.Path(os.path.abspath(pathToRecordingsDir)).as_uri()\n",
    "}\n",
    "try:\n",
    "    transform(pathToTEItable, pathToTeitableToCorpusXSL, pathToTeiCorpus, params)\n",
    "except saxonche.PySaxonApiError as e:\n",
    "    logging.error(\"an error occured: \" + str(e) + \"\\n\" + pathToTEItable + \": \" + pathToTeitableToCorpusXSL + \" -> \" + pathToTeiCorpus)\n",
    "logging.info(pathToTeiCorpus)"
   ]
  },
  {
   "cell_type": "markdown",
   "id": "6dbd00c7",
   "metadata": {},
   "source": [
    "## Step 4: Run TEICorpo"
   ]
  },
  {
   "cell_type": "code",
   "execution_count": 9,
   "id": "8914cd75",
   "metadata": {},
   "outputs": [
    {
     "name": "stderr",
     "output_type": "stream",
     "text": [
      "2025-09-15 09:33:04,376 - skipping download\n",
      "2025-09-15 09:33:04,805 - skipping download\n",
      "2025-09-15 09:33:04,807 - lib/*\n"
     ]
    }
   ],
   "source": [
    "def installFromUrl(url, force=False):\n",
    "    r = requests.get(url)\n",
    "    filename = os.path.basename(urlsplit(url).path)\n",
    "    downloadpath = libDir+\"/\"+filename\n",
    "    if os.path.exists(downloadpath) and not force:\n",
    "        logging.info(\"skipping download\")\n",
    "    else:\n",
    "        open(downloadpath, 'wb').write(r.content)\n",
    "        logging.info(\"file \"+downloadpath+\" downloaded\")\n",
    "    return downloadpath\n",
    "\n",
    "# TODO check for filetype and automatically extract zip file \n",
    "# so this can be re-used for the insta\n",
    " \n",
    "installFromUrl(\"https://github.com/christopheparisse/teicorpo/blob/689abf780eeb945a02f2c98c797af2417d562562/teicorpo.jar?raw=true\")\n",
    "installFromUrl(\"https://repo1.maven.org/maven2/commons-io/commons-io/2.11.0/commons-io-2.11.0.jar\")\n",
    "pathToTeiCorpo=libDir+\"/*\"\n",
    "logging.info(pathToTeiCorpo)"
   ]
  },
  {
   "cell_type": "markdown",
   "id": "68193a14",
   "metadata": {},
   "source": [
    "Collect all ELAN documents from pathToELANDir"
   ]
  },
  {
   "cell_type": "code",
   "execution_count": 10,
   "id": "7fc55161",
   "metadata": {},
   "outputs": [
    {
     "name": "stderr",
     "output_type": "stream",
     "text": [
      "2025-09-15 09:33:04,815 - C:\\Users\\mrauschsupola\\Shawi\\shawi-data\\122_elan\\Urfa-000_Cigkofte-Harran-2001.eaf\n",
      "2025-09-15 09:33:04,816 - C:\\Users\\mrauschsupola\\Shawi\\shawi-data\\122_elan\\Urfa-002a_Joke_about_a_tribe.eaf\n",
      "2025-09-15 09:33:04,817 - C:\\Users\\mrauschsupola\\Shawi\\shawi-data\\122_elan\\Urfa-002b_Blood_feud_in_the_past.eaf\n",
      "2025-09-15 09:33:04,817 - C:\\Users\\mrauschsupola\\Shawi\\shawi-data\\122_elan\\Urfa-002c_The_incomplete_meal.eaf\n",
      "2025-09-15 09:33:04,817 - C:\\Users\\mrauschsupola\\Shawi\\shawi-data\\122_elan\\Urfa-002d_The_bull_in_the_jar.eaf\n",
      "2025-09-15 09:33:04,818 - C:\\Users\\mrauschsupola\\Shawi\\shawi-data\\122_elan\\Urfa-011_Cemetry-Harran-2010.eaf\n",
      "2025-09-15 09:33:04,818 - C:\\Users\\mrauschsupola\\Shawi\\shawi-data\\122_elan\\Urfa-012_Lentils-Harran-2010.eaf\n",
      "2025-09-15 09:33:04,818 - C:\\Users\\mrauschsupola\\Shawi\\shawi-data\\122_elan\\Urfa-014_Village_of_Qoran-Harran-2010.eaf\n",
      "2025-09-15 09:33:04,820 - C:\\Users\\mrauschsupola\\Shawi\\shawi-data\\122_elan\\Urfa-024a_Vegetabels_and_Seasonal_Work-Harran-2010.eaf\n",
      "2025-09-15 09:33:04,820 - C:\\Users\\mrauschsupola\\Shawi\\shawi-data\\122_elan\\Urfa-024b_Vegetabels_and_Seasonal_Work-Harran-2010.eaf\n",
      "2025-09-15 09:33:04,821 - C:\\Users\\mrauschsupola\\Shawi\\shawi-data\\122_elan\\Urfa-027_Cultivation-Harran-2010.eaf\n",
      "2025-09-15 09:33:04,823 - C:\\Users\\mrauschsupola\\Shawi\\shawi-data\\122_elan\\Urfa-029_Smoking-Harran-2010.eaf\n",
      "2025-09-15 09:33:04,824 - C:\\Users\\mrauschsupola\\Shawi\\shawi-data\\122_elan\\Urfa-032_Ali-Harran-2010.eaf\n",
      "2025-09-15 09:33:04,824 - C:\\Users\\mrauschsupola\\Shawi\\shawi-data\\122_elan\\Urfa-033_Sheikh_Nifil-Harran-2010.eaf\n",
      "2025-09-15 09:33:04,825 - C:\\Users\\mrauschsupola\\Shawi\\shawi-data\\122_elan\\Urfa-034_Liquorice-Harran-2010.eaf\n",
      "2025-09-15 09:33:04,825 - C:\\Users\\mrauschsupola\\Shawi\\shawi-data\\122_elan\\Urfa-042_Hospitality-Harran-2010.eaf\n",
      "2025-09-15 09:33:04,826 - C:\\Users\\mrauschsupola\\Shawi\\shawi-data\\122_elan\\Urfa-043_Truffle-Harran-2010.eaf\n",
      "2025-09-15 09:33:04,826 - C:\\Users\\mrauschsupola\\Shawi\\shawi-data\\122_elan\\Urfa-044_Sacks-Harran-2010.eaf\n",
      "2025-09-15 09:33:04,827 - C:\\Users\\mrauschsupola\\Shawi\\shawi-data\\122_elan\\Urfa-045_Gamra_Dariba-Harran-2010.eaf\n",
      "2025-09-15 09:33:04,828 - C:\\Users\\mrauschsupola\\Shawi\\shawi-data\\122_elan\\Urfa-046_Game_Xwetime-Harran-2010.eaf\n",
      "2025-09-15 09:33:04,828 - C:\\Users\\mrauschsupola\\Shawi\\shawi-data\\122_elan\\Urfa-047_Game_Qubbeya-Harran-2010.eaf\n",
      "2025-09-15 09:33:04,829 - C:\\Users\\mrauschsupola\\Shawi\\shawi-data\\122_elan\\Urfa-048_Game_Cab-Harran-2010.eaf\n",
      "2025-09-15 09:33:04,829 - C:\\Users\\mrauschsupola\\Shawi\\shawi-data\\122_elan\\Urfa-054_Real_Friend-Harran-2010.eaf\n",
      "2025-09-15 09:33:04,829 - C:\\Users\\mrauschsupola\\Shawi\\shawi-data\\122_elan\\Urfa-057_Story_of_Magician-Harran-2010.eaf\n",
      "2025-09-15 09:33:04,830 - C:\\Users\\mrauschsupola\\Shawi\\shawi-data\\122_elan\\Urfa-061_Life_of_al-Harrani-Harran-2010.eaf\n",
      "2025-09-15 09:33:04,830 - C:\\Users\\mrauschsupola\\Shawi\\shawi-data\\122_elan\\Urfa-068_Tribes_Armenians_Jews-Harran-2010.eaf\n",
      "2025-09-15 09:33:04,831 - C:\\Users\\mrauschsupola\\Shawi\\shawi-data\\122_elan\\Urfa-069a_Armenians-Harran-2010.eaf\n",
      "2025-09-15 09:33:04,831 - C:\\Users\\mrauschsupola\\Shawi\\shawi-data\\122_elan\\Urfa-069b_Arabicised_Kurds-Harran-2010.pfsx.eaf\n",
      "2025-09-15 09:33:04,832 - C:\\Users\\mrauschsupola\\Shawi\\shawi-data\\122_elan\\Urfa-070_Hen_House-Harran-2010.eaf\n",
      "2025-09-15 09:33:04,834 - C:\\Users\\mrauschsupola\\Shawi\\shawi-data\\122_elan\\Urfa-072_Villages-Harran-2010.eaf\n",
      "2025-09-15 09:33:04,834 - C:\\Users\\mrauschsupola\\Shawi\\shawi-data\\122_elan\\Urfa-073_Talls_Flood-Harran-2010.eaf\n",
      "2025-09-15 09:33:04,835 - C:\\Users\\mrauschsupola\\Shawi\\shawi-data\\122_elan\\Urfa-074_Talls_Burial_for_Children-Harran-2010.eaf\n",
      "2025-09-15 09:33:04,835 - C:\\Users\\mrauschsupola\\Shawi\\shawi-data\\122_elan\\Urfa-075_Corn_and_Language-Harran-2010.eaf\n",
      "2025-09-15 09:33:04,836 - C:\\Users\\mrauschsupola\\Shawi\\shawi-data\\122_elan\\Urfa-076_Bedouins-Harran-2010.eaf\n",
      "2025-09-15 09:33:04,836 - C:\\Users\\mrauschsupola\\Shawi\\shawi-data\\122_elan\\Urfa-077a_The_Jinn-Harran-2010.eaf\n",
      "2025-09-15 09:33:04,836 - C:\\Users\\mrauschsupola\\Shawi\\shawi-data\\122_elan\\Urfa-077b_The_Jinn-Harran-2010.eaf\n",
      "2025-09-15 09:33:04,838 - C:\\Users\\mrauschsupola\\Shawi\\shawi-data\\122_elan\\Urfa-077c_The_Jinn-Harran-2010.eaf\n",
      "2025-09-15 09:33:04,838 - C:\\Users\\mrauschsupola\\Shawi\\shawi-data\\122_elan\\Urfa-077d_The_Jinn-Harran-2010.eaf\n",
      "2025-09-15 09:33:04,839 - C:\\Users\\mrauschsupola\\Shawi\\shawi-data\\122_elan\\Urfa-077e_The_Jinn-Harran-2010.eaf\n",
      "2025-09-15 09:33:04,840 - C:\\Users\\mrauschsupola\\Shawi\\shawi-data\\122_elan\\Urfa-080_Gazelles_and_Jews-Harran-2010.eaf\n",
      "2025-09-15 09:33:04,840 - C:\\Users\\mrauschsupola\\Shawi\\shawi-data\\122_elan\\Urfa-081_Food_in_Former_Times-Harran-2010.eaf\n",
      "2025-09-15 09:33:04,841 - C:\\Users\\mrauschsupola\\Shawi\\shawi-data\\122_elan\\Urfa-085_The_Snake_in_the_Cistern-Harran-2010.eaf\n",
      "2025-09-15 09:33:04,841 - C:\\Users\\mrauschsupola\\Shawi\\shawi-data\\122_elan\\Urfa-087_Smide-Harran-2010.eaf\n",
      "2025-09-15 09:33:04,842 - C:\\Users\\mrauschsupola\\Shawi\\shawi-data\\122_elan\\Urfa-092_Sultan_Murad-Harran-2010.eaf\n",
      "2025-09-15 09:33:04,842 - C:\\Users\\mrauschsupola\\Shawi\\shawi-data\\122_elan\\Urfa-094_Three_Advices-Harran-2010.eaf\n",
      "2025-09-15 09:33:04,843 - C:\\Users\\mrauschsupola\\Shawi\\shawi-data\\122_elan\\Urfa-097_Three_Daughters-Harran-2010.eaf\n",
      "2025-09-15 09:33:04,843 - C:\\Users\\mrauschsupola\\Shawi\\shawi-data\\122_elan\\Urfa-098_Young_Woman-Harran-2010.eaf\n",
      "2025-09-15 09:33:04,844 - C:\\Users\\mrauschsupola\\Shawi\\shawi-data\\122_elan\\Urfa-105_Life_in_Former_Times-Harran-2010.eaf\n",
      "2025-09-15 09:33:04,844 - C:\\Users\\mrauschsupola\\Shawi\\shawi-data\\122_elan\\Urfa-106_Visa_in_Ankara-Harran-2010.eaf\n",
      "2025-09-15 09:33:04,845 - C:\\Users\\mrauschsupola\\Shawi\\shawi-data\\122_elan\\Urfa-107_Cotton_Business-Harran-2010.eaf\n",
      "2025-09-15 09:33:04,845 - C:\\Users\\mrauschsupola\\Shawi\\shawi-data\\122_elan\\Urfa-110_Salim_az-Zir-Harran-2010.eaf\n",
      "2025-09-15 09:33:04,846 - C:\\Users\\mrauschsupola\\Shawi\\shawi-data\\122_elan\\Urfa-112_Tall_Nasir-Harran-2010.eaf\n",
      "2025-09-15 09:33:04,846 - C:\\Users\\mrauschsupola\\Shawi\\shawi-data\\122_elan\\Urfa-115_Camel-Harran-2010.eaf\n",
      "2025-09-15 09:33:04,847 - C:\\Users\\mrauschsupola\\Shawi\\shawi-data\\122_elan\\Urfa-119_Engagement-Harran-2010.eaf\n",
      "2025-09-15 09:33:04,847 - C:\\Users\\mrauschsupola\\Shawi\\shawi-data\\122_elan\\Urfa-120_Cross_Marriage-Harran-2010.eaf\n",
      "2025-09-15 09:33:04,849 - C:\\Users\\mrauschsupola\\Shawi\\shawi-data\\122_elan\\Urfa-122_Nimrod-Harran-2010.eaf\n",
      "2025-09-15 09:33:04,849 - C:\\Users\\mrauschsupola\\Shawi\\shawi-data\\122_elan\\Urfa-123_Stealing_Boy_P1-Harran-2010.eaf\n",
      "2025-09-15 09:33:04,850 - C:\\Users\\mrauschsupola\\Shawi\\shawi-data\\122_elan\\Urfa-124_Stealing_Boy_P2-Harran-2010.eaf\n",
      "2025-09-15 09:33:04,850 - C:\\Users\\mrauschsupola\\Shawi\\shawi-data\\122_elan\\Urfa-125_Coffee-Harran-2010.eaf\n",
      "2025-09-15 09:33:04,851 - C:\\Users\\mrauschsupola\\Shawi\\shawi-data\\122_elan\\Urfa-133_Sheikh_Musa-Harran-2013.eaf\n",
      "2025-09-15 09:33:04,854 - C:\\Users\\mrauschsupola\\Shawi\\shawi-data\\122_elan\\Urfa-135_Burglars_From_Syria-Harran-2013.eaf\n",
      "2025-09-15 09:33:04,854 - C:\\Users\\mrauschsupola\\Shawi\\shawi-data\\122_elan\\Urfa-136_Cigkofte-Harran-2013.eaf\n",
      "2025-09-15 09:33:04,854 - C:\\Users\\mrauschsupola\\Shawi\\shawi-data\\122_elan\\Urfa-137_Kazan_Kebab-Harran-2013.eaf\n",
      "2025-09-15 09:33:04,855 - C:\\Users\\mrauschsupola\\Shawi\\shawi-data\\122_elan\\Urfa-138_Kazan_Kebab-Harran-2013.eaf\n",
      "2025-09-15 09:33:04,856 - C:\\Users\\mrauschsupola\\Shawi\\shawi-data\\122_elan\\Urfa-139_Lahmacun-Harran-2013.eaf\n",
      "2025-09-15 09:33:04,856 - C:\\Users\\mrauschsupola\\Shawi\\shawi-data\\122_elan\\Urfa-140_Biyat-Harran-2013.eaf\n",
      "2025-09-15 09:33:04,858 - C:\\Users\\mrauschsupola\\Shawi\\shawi-data\\122_elan\\Urfa-141_Istishara-Harran-2013.eaf\n",
      "2025-09-15 09:33:04,858 - C:\\Users\\mrauschsupola\\Shawi\\shawi-data\\122_elan\\Urfa-142_Chilli_Pepper-Harran-2013.eaf\n",
      "2025-09-15 09:33:04,858 - C:\\Users\\mrauschsupola\\Shawi\\shawi-data\\122_elan\\Urfa-144_Malfuf-Harran-2013.eaf\n",
      "2025-09-15 09:33:04,859 - C:\\Users\\mrauschsupola\\Shawi\\shawi-data\\122_elan\\Urfa-145_Prophet_Ayyub-Harran-2013.eaf\n",
      "2025-09-15 09:33:04,859 - C:\\Users\\mrauschsupola\\Shawi\\shawi-data\\122_elan\\Urfa-146_Wolf-Harran-2013.eaf\n",
      "2025-09-15 09:33:04,860 - C:\\Users\\mrauschsupola\\Shawi\\shawi-data\\122_elan\\Urfa-149_Bird-Harran-2014.eaf\n",
      "2025-09-15 09:33:04,860 - C:\\Users\\mrauschsupola\\Shawi\\shawi-data\\122_elan\\Urfa-150_Iclikofte-Harran-2014.eaf\n",
      "2025-09-15 09:33:04,860 - C:\\Users\\mrauschsupola\\Shawi\\shawi-data\\122_elan\\Urfa-151_Ashura-Harran-2014.eaf\n",
      "2025-09-15 09:33:04,861 - C:\\Users\\mrauschsupola\\Shawi\\shawi-data\\122_elan\\Urfa-152_Dream-Harran-2014.eaf\n",
      "2025-09-15 09:33:04,861 - C:\\Users\\mrauschsupola\\Shawi\\shawi-data\\122_elan\\Urfa-153_Sheikh_Hasan-Harran-2014.eaf\n",
      "2025-09-15 09:33:04,863 - C:\\Users\\mrauschsupola\\Shawi\\shawi-data\\122_elan\\Urfa-155_Childhood-Harran-2014.eaf\n",
      "2025-09-15 09:33:04,863 - C:\\Users\\mrauschsupola\\Shawi\\shawi-data\\122_elan\\Urfa-158_Moses_and_Dog-Harran-2014.eaf\n",
      "2025-09-15 09:33:04,863 - C:\\Users\\mrauschsupola\\Shawi\\shawi-data\\122_elan\\Urfa-160_Seyhmus-Harran-2014.eaf\n",
      "2025-09-15 09:33:04,864 - C:\\Users\\mrauschsupola\\Shawi\\shawi-data\\122_elan\\Urfa-162_Umm_al-Qet-Harran-2014.eaf\n",
      "2025-09-15 09:33:04,864 - C:\\Users\\mrauschsupola\\Shawi\\shawi-data\\122_elan\\Urfa-163_Quilts-Harran-2014.eaf\n",
      "2025-09-15 09:33:04,864 - C:\\Users\\mrauschsupola\\Shawi\\shawi-data\\122_elan\\Urfa-164_Baking_Bread-Harran-2014.eaf\n",
      "2025-09-15 09:33:04,866 - C:\\Users\\mrauschsupola\\Shawi\\shawi-data\\122_elan\\Urfa-165_Childhood-Harran-2014.eaf\n",
      "2025-09-15 09:33:04,867 - C:\\Users\\mrauschsupola\\Shawi\\shawi-data\\122_elan\\Urfa-167_Sheikh_'Nad-Harran-2014.eaf\n",
      "2025-09-15 09:33:04,867 - C:\\Users\\mrauschsupola\\Shawi\\shawi-data\\122_elan\\Urfa-173_Woman_with_No_Lover_Short-Harran-2014.eaf\n",
      "2025-09-15 09:33:04,868 - C:\\Users\\mrauschsupola\\Shawi\\shawi-data\\122_elan\\Urfa-175_Bastig-Harran-2014.eaf\n",
      "2025-09-15 09:33:04,870 - C:\\Users\\mrauschsupola\\Shawi\\shawi-data\\122_elan\\Urfa-176_Condolences-Harran-2014.eaf\n",
      "2025-09-15 09:33:04,870 - C:\\Users\\mrauschsupola\\Shawi\\shawi-data\\122_elan\\Urfa-177_Wedding_in_Former_Times-Harran-2014.eaf\n",
      "2025-09-15 09:33:04,871 - C:\\Users\\mrauschsupola\\Shawi\\shawi-data\\122_elan\\Urfa-179_Grandfather-Harran-2014.eaf\n",
      "2025-09-15 09:33:04,871 - C:\\Users\\mrauschsupola\\Shawi\\shawi-data\\122_elan\\Urfa-183_Policeman_and_Carp-Harran-2014.eaf\n",
      "2025-09-15 09:33:04,872 - C:\\Users\\mrauschsupola\\Shawi\\shawi-data\\122_elan\\Urfa-184_Evil_Eye-Harran-2014.eaf\n",
      "2025-09-15 09:33:04,872 - C:\\Users\\mrauschsupola\\Shawi\\shawi-data\\122_elan\\Urfa-187_Two_Women_and_Fridge-Harran-2015.eaf\n",
      "2025-09-15 09:33:04,873 - C:\\Users\\mrauschsupola\\Shawi\\shawi-data\\122_elan\\Urfa-188_Shepherd-Harran-2015.eaf\n",
      "2025-09-15 09:33:04,873 - C:\\Users\\mrauschsupola\\Shawi\\shawi-data\\122_elan\\Urfa-189_Wanted_to_Marry-Harran.eaf\n",
      "2025-09-15 09:33:04,873 - C:\\Users\\mrauschsupola\\Shawi\\shawi-data\\122_elan\\Urfa-190_ill_Blind_Mother-Harran-2015.eaf\n",
      "2025-09-15 09:33:04,875 - C:\\Users\\mrauschsupola\\Shawi\\shawi-data\\122_elan\\Urfa-191_Kurd_and_Two_Wives-Harran-2015.eaf\n",
      "2025-09-15 09:33:04,875 - C:\\Users\\mrauschsupola\\Shawi\\shawi-data\\122_elan\\Urfa-192_Who_chooses_a_horse-Harran.eaf\n",
      "2025-09-15 09:33:04,875 - C:\\Users\\mrauschsupola\\Shawi\\shawi-data\\122_elan\\Urfa-193_Priapism-Harran-2015.eaf\n",
      "2025-09-15 09:33:04,876 - C:\\Users\\mrauschsupola\\Shawi\\shawi-data\\122_elan\\Urfa-194_Afraid_of_Dogs-Harran-2017.eaf\n",
      "2025-09-15 09:33:04,877 - C:\\Users\\mrauschsupola\\Shawi\\shawi-data\\122_elan\\Urfa-195_Best_and_Worst_Part_of_the_Sheep-Harran-2017.eaf\n",
      "2025-09-15 09:33:04,877 - C:\\Users\\mrauschsupola\\Shawi\\shawi-data\\122_elan\\Urfa-201_Story_of_Cigkofte-Harran-2017.eaf\n",
      "2025-09-15 09:33:04,878 - C:\\Users\\mrauschsupola\\Shawi\\shawi-data\\122_elan\\Urfa-202_Al-Shukwa-Harran-2017.eaf\n",
      "2025-09-15 09:33:04,878 - C:\\Users\\mrauschsupola\\Shawi\\shawi-data\\122_elan\\Urfa-203_Tattooing-Harran-2017.eaf\n",
      "2025-09-15 09:33:04,878 - C:\\Users\\mrauschsupola\\Shawi\\shawi-data\\122_elan\\Urfa-352_Washing_Clothes-Harran-2021.eaf\n",
      "2025-09-15 09:33:04,879 - C:\\Users\\mrauschsupola\\Shawi\\shawi-data\\122_elan\\Urfa-355_Threshing_wheat_in_former_times.eaf\n",
      "2025-09-15 09:33:04,881 - C:\\Users\\mrauschsupola\\Shawi\\shawi-data\\122_elan\\Urfa-428_How_not_to_get_married_to_an_old_man.eaf\n",
      "2025-09-15 09:33:04,881 - C:\\Users\\mrauschsupola\\Shawi\\shawi-data\\122_elan\\Urfa-467_The_big_earthquake_of_February_2023.eaf\n"
     ]
    }
   ],
   "source": [
    "ELANDocs = []\n",
    "\n",
    "for i in os.scandir(pathToELANDir):\n",
    "    filename=os.path.basename(i)\n",
    "    if filename.endswith(\".eaf\"):\n",
    "        basename=Path(i).stem\n",
    "        ELANDocs.append({\n",
    "            \"filepath\" : os.path.abspath(i),\n",
    "            \"filename\" : filename,\n",
    "            \"basename\" : basename\n",
    "        })\n",
    "        \n",
    "        # check whether there is already a manually annotated TEI version of this ELAN document\n",
    "        TEI_annotated_filename=pathToAnnotatedTEIDir+\"/\"+basename+\".xml\"\n",
    "        \n",
    "        ELANDocs[-1][\"TEI_annotated\"]=os.path.abspath(TEI_annotated_filename)\n",
    "for d in ELANDocs:\n",
    "    logging.info(d[\"filepath\"])"
   ]
  },
  {
   "cell_type": "code",
   "execution_count": 11,
   "id": "ec70e244",
   "metadata": {},
   "outputs": [],
   "source": [
    "def runTEICorpo(docs = dict):\n",
    "    runtime = datetime.now().strftime(\"%Y-%m-%d_%H-%M\")\n",
    "    tmpDir = pathToTEIDir+\"/\"+runtime\n",
    "    os.makedirs(tmpDir, exist_ok=True)\n",
    "    for i in docs:\n",
    "        pathToInput = i[\"filepath\"]\n",
    "        filenameELAN = i[\"filename\"]\n",
    "        filenameTEI = i[\"basename\"]+\".xml\"\n",
    "        pathToOutput = tmpDir+\"/\"+\"ELAN_\"+filenameTEI\n",
    "        i[\"filepath_tmp_TEI\"] = os.path.abspath(pathToOutput)\n",
    "        i[\"tmpDir\"] = tmpDir\n",
    "        output = os.path.abspath(pathToTEIDir + \"/\" + i[\"basename\"] + \".xml\")\n",
    "        i[\"TEI\"] = os.path.abspath(output)\n",
    "        res = subprocess.run([\"java\", \"-cp\", pathToTeiCorpo, \"-Dfile.encoding=UTF-8\", \"fr.ortolang.teicorpo.TeiCorpo\", \"-from\",\"elan\", \"-to\",\"tei\", \"-o\",pathToOutput, pathToInput], capture_output=True, encoding=\"UTF-8\")\n",
    "        print(res.stdout)\n",
    "        print(res.stderr)\n",
    "        print(pathToOutput)"
   ]
  },
  {
   "cell_type": "markdown",
   "id": "38413b21",
   "metadata": {},
   "source": [
    "run TEI Corpo on all ELANDocs, writing the path to the TEI output back to the variable"
   ]
  },
  {
   "cell_type": "code",
   "execution_count": 12,
   "id": "a2862351",
   "metadata": {},
   "outputs": [
    {
     "name": "stdout",
     "output_type": "stream",
     "text": [
      "TeiCorpo (version 1.4.44) 14/12/2021 08:07 Version TEI_CORPO: 0.9.1\n",
      "\n",
      "\n",
      "../../103_tei_w/2025-09-15_09-33/ELAN_Urfa-000_Cigkofte-Harran-2001.xml\n",
      "TeiCorpo (version 1.4.44) 14/12/2021 08:07 Version TEI_CORPO: 0.9.1\n",
      "\n",
      "\n",
      "../../103_tei_w/2025-09-15_09-33/ELAN_Urfa-002a_Joke_about_a_tribe.xml\n",
      "TeiCorpo (version 1.4.44) 14/12/2021 08:07 Version TEI_CORPO: 0.9.1\n",
      "\n",
      "\n",
      "../../103_tei_w/2025-09-15_09-33/ELAN_Urfa-002b_Blood_feud_in_the_past.xml\n",
      "TeiCorpo (version 1.4.44) 14/12/2021 08:07 Version TEI_CORPO: 0.9.1\n",
      "\n",
      "\n",
      "../../103_tei_w/2025-09-15_09-33/ELAN_Urfa-002c_The_incomplete_meal.xml\n",
      "TeiCorpo (version 1.4.44) 14/12/2021 08:07 Version TEI_CORPO: 0.9.1\n",
      "\n",
      "\n",
      "../../103_tei_w/2025-09-15_09-33/ELAN_Urfa-002d_The_bull_in_the_jar.xml\n",
      "TeiCorpo (version 1.4.44) 14/12/2021 08:07 Version TEI_CORPO: 0.9.1\n",
      "\n",
      "\n",
      "../../103_tei_w/2025-09-15_09-33/ELAN_Urfa-011_Cemetry-Harran-2010.xml\n",
      "TeiCorpo (version 1.4.44) 14/12/2021 08:07 Version TEI_CORPO: 0.9.1\n",
      "\n",
      "\n",
      "../../103_tei_w/2025-09-15_09-33/ELAN_Urfa-012_Lentils-Harran-2010.xml\n",
      "TeiCorpo (version 1.4.44) 14/12/2021 08:07 Version TEI_CORPO: 0.9.1\n",
      "\n",
      "\n",
      "../../103_tei_w/2025-09-15_09-33/ELAN_Urfa-014_Village_of_Qoran-Harran-2010.xml\n",
      "TeiCorpo (version 1.4.44) 14/12/2021 08:07 Version TEI_CORPO: 0.9.1\n",
      "\n",
      "\n",
      "../../103_tei_w/2025-09-15_09-33/ELAN_Urfa-024a_Vegetabels_and_Seasonal_Work-Harran-2010.xml\n",
      "TeiCorpo (version 1.4.44) 14/12/2021 08:07 Version TEI_CORPO: 0.9.1\n",
      "\n",
      "\n",
      "../../103_tei_w/2025-09-15_09-33/ELAN_Urfa-024b_Vegetabels_and_Seasonal_Work-Harran-2010.xml\n",
      "TeiCorpo (version 1.4.44) 14/12/2021 08:07 Version TEI_CORPO: 0.9.1\n",
      "\n",
      "\n",
      "../../103_tei_w/2025-09-15_09-33/ELAN_Urfa-027_Cultivation-Harran-2010.xml\n",
      "TeiCorpo (version 1.4.44) 14/12/2021 08:07 Version TEI_CORPO: 0.9.1\n",
      "\n",
      "\n",
      "../../103_tei_w/2025-09-15_09-33/ELAN_Urfa-029_Smoking-Harran-2010.xml\n",
      "TeiCorpo (version 1.4.44) 14/12/2021 08:07 Version TEI_CORPO: 0.9.1\n",
      "\n",
      "\n",
      "../../103_tei_w/2025-09-15_09-33/ELAN_Urfa-032_Ali-Harran-2010.xml\n",
      "TeiCorpo (version 1.4.44) 14/12/2021 08:07 Version TEI_CORPO: 0.9.1\n",
      "\n",
      "\n",
      "../../103_tei_w/2025-09-15_09-33/ELAN_Urfa-033_Sheikh_Nifil-Harran-2010.xml\n",
      "TeiCorpo (version 1.4.44) 14/12/2021 08:07 Version TEI_CORPO: 0.9.1\n",
      "\n",
      "\n",
      "../../103_tei_w/2025-09-15_09-33/ELAN_Urfa-034_Liquorice-Harran-2010.xml\n",
      "TeiCorpo (version 1.4.44) 14/12/2021 08:07 Version TEI_CORPO: 0.9.1\n",
      "\n",
      "\n",
      "../../103_tei_w/2025-09-15_09-33/ELAN_Urfa-042_Hospitality-Harran-2010.xml\n",
      "TeiCorpo (version 1.4.44) 14/12/2021 08:07 Version TEI_CORPO: 0.9.1\n",
      "\n",
      "\n",
      "../../103_tei_w/2025-09-15_09-33/ELAN_Urfa-043_Truffle-Harran-2010.xml\n",
      "TeiCorpo (version 1.4.44) 14/12/2021 08:07 Version TEI_CORPO: 0.9.1\n",
      "\n",
      "\n",
      "../../103_tei_w/2025-09-15_09-33/ELAN_Urfa-044_Sacks-Harran-2010.xml\n",
      "TeiCorpo (version 1.4.44) 14/12/2021 08:07 Version TEI_CORPO: 0.9.1\n",
      "\n",
      "\n",
      "../../103_tei_w/2025-09-15_09-33/ELAN_Urfa-045_Gamra_Dariba-Harran-2010.xml\n",
      "TeiCorpo (version 1.4.44) 14/12/2021 08:07 Version TEI_CORPO: 0.9.1\n",
      "\n",
      "\n",
      "../../103_tei_w/2025-09-15_09-33/ELAN_Urfa-046_Game_Xwetime-Harran-2010.xml\n",
      "TeiCorpo (version 1.4.44) 14/12/2021 08:07 Version TEI_CORPO: 0.9.1\n",
      "\n",
      "\n",
      "../../103_tei_w/2025-09-15_09-33/ELAN_Urfa-047_Game_Qubbeya-Harran-2010.xml\n",
      "TeiCorpo (version 1.4.44) 14/12/2021 08:07 Version TEI_CORPO: 0.9.1\n",
      "\n",
      "\n",
      "../../103_tei_w/2025-09-15_09-33/ELAN_Urfa-048_Game_Cab-Harran-2010.xml\n",
      "TeiCorpo (version 1.4.44) 14/12/2021 08:07 Version TEI_CORPO: 0.9.1\n",
      "\n",
      "\n",
      "../../103_tei_w/2025-09-15_09-33/ELAN_Urfa-054_Real_Friend-Harran-2010.xml\n",
      "TeiCorpo (version 1.4.44) 14/12/2021 08:07 Version TEI_CORPO: 0.9.1\n",
      "\n",
      "\n",
      "../../103_tei_w/2025-09-15_09-33/ELAN_Urfa-057_Story_of_Magician-Harran-2010.xml\n",
      "TeiCorpo (version 1.4.44) 14/12/2021 08:07 Version TEI_CORPO: 0.9.1\n",
      "\n",
      "\n",
      "../../103_tei_w/2025-09-15_09-33/ELAN_Urfa-061_Life_of_al-Harrani-Harran-2010.xml\n",
      "TeiCorpo (version 1.4.44) 14/12/2021 08:07 Version TEI_CORPO: 0.9.1\n",
      "\n",
      "\n",
      "../../103_tei_w/2025-09-15_09-33/ELAN_Urfa-068_Tribes_Armenians_Jews-Harran-2010.xml\n",
      "TeiCorpo (version 1.4.44) 14/12/2021 08:07 Version TEI_CORPO: 0.9.1\n",
      "\n",
      "\n",
      "../../103_tei_w/2025-09-15_09-33/ELAN_Urfa-069a_Armenians-Harran-2010.xml\n",
      "TeiCorpo (version 1.4.44) 14/12/2021 08:07 Version TEI_CORPO: 0.9.1\n",
      "\n",
      "\n",
      "../../103_tei_w/2025-09-15_09-33/ELAN_Urfa-069b_Arabicised_Kurds-Harran-2010.pfsx.xml\n",
      "TeiCorpo (version 1.4.44) 14/12/2021 08:07 Version TEI_CORPO: 0.9.1\n",
      "\n",
      "\n",
      "../../103_tei_w/2025-09-15_09-33/ELAN_Urfa-070_Hen_House-Harran-2010.xml\n",
      "TeiCorpo (version 1.4.44) 14/12/2021 08:07 Version TEI_CORPO: 0.9.1\n",
      "\n",
      "\n",
      "../../103_tei_w/2025-09-15_09-33/ELAN_Urfa-072_Villages-Harran-2010.xml\n",
      "TeiCorpo (version 1.4.44) 14/12/2021 08:07 Version TEI_CORPO: 0.9.1\n",
      "\n",
      "\n",
      "../../103_tei_w/2025-09-15_09-33/ELAN_Urfa-073_Talls_Flood-Harran-2010.xml\n",
      "TeiCorpo (version 1.4.44) 14/12/2021 08:07 Version TEI_CORPO: 0.9.1\n",
      "\n",
      "\n",
      "../../103_tei_w/2025-09-15_09-33/ELAN_Urfa-074_Talls_Burial_for_Children-Harran-2010.xml\n",
      "TeiCorpo (version 1.4.44) 14/12/2021 08:07 Version TEI_CORPO: 0.9.1\n",
      "\n",
      "\n",
      "../../103_tei_w/2025-09-15_09-33/ELAN_Urfa-075_Corn_and_Language-Harran-2010.xml\n",
      "TeiCorpo (version 1.4.44) 14/12/2021 08:07 Version TEI_CORPO: 0.9.1\n",
      "\n",
      "\n",
      "../../103_tei_w/2025-09-15_09-33/ELAN_Urfa-076_Bedouins-Harran-2010.xml\n",
      "TeiCorpo (version 1.4.44) 14/12/2021 08:07 Version TEI_CORPO: 0.9.1\n",
      "\n",
      "\n",
      "../../103_tei_w/2025-09-15_09-33/ELAN_Urfa-077a_The_Jinn-Harran-2010.xml\n",
      "TeiCorpo (version 1.4.44) 14/12/2021 08:07 Version TEI_CORPO: 0.9.1\n",
      "\n",
      "\n",
      "../../103_tei_w/2025-09-15_09-33/ELAN_Urfa-077b_The_Jinn-Harran-2010.xml\n",
      "TeiCorpo (version 1.4.44) 14/12/2021 08:07 Version TEI_CORPO: 0.9.1\n",
      "\n",
      "\n",
      "../../103_tei_w/2025-09-15_09-33/ELAN_Urfa-077c_The_Jinn-Harran-2010.xml\n",
      "TeiCorpo (version 1.4.44) 14/12/2021 08:07 Version TEI_CORPO: 0.9.1\n",
      "\n",
      "\n",
      "../../103_tei_w/2025-09-15_09-33/ELAN_Urfa-077d_The_Jinn-Harran-2010.xml\n",
      "TeiCorpo (version 1.4.44) 14/12/2021 08:07 Version TEI_CORPO: 0.9.1\n",
      "\n",
      "\n",
      "../../103_tei_w/2025-09-15_09-33/ELAN_Urfa-077e_The_Jinn-Harran-2010.xml\n",
      "TeiCorpo (version 1.4.44) 14/12/2021 08:07 Version TEI_CORPO: 0.9.1\n",
      "\n",
      "\n",
      "../../103_tei_w/2025-09-15_09-33/ELAN_Urfa-080_Gazelles_and_Jews-Harran-2010.xml\n",
      "TeiCorpo (version 1.4.44) 14/12/2021 08:07 Version TEI_CORPO: 0.9.1\n",
      "\n",
      "\n",
      "../../103_tei_w/2025-09-15_09-33/ELAN_Urfa-081_Food_in_Former_Times-Harran-2010.xml\n",
      "TeiCorpo (version 1.4.44) 14/12/2021 08:07 Version TEI_CORPO: 0.9.1\n",
      "\n",
      "\n",
      "../../103_tei_w/2025-09-15_09-33/ELAN_Urfa-085_The_Snake_in_the_Cistern-Harran-2010.xml\n",
      "TeiCorpo (version 1.4.44) 14/12/2021 08:07 Version TEI_CORPO: 0.9.1\n",
      "\n",
      "\n",
      "../../103_tei_w/2025-09-15_09-33/ELAN_Urfa-087_Smide-Harran-2010.xml\n",
      "TeiCorpo (version 1.4.44) 14/12/2021 08:07 Version TEI_CORPO: 0.9.1\n",
      "\n",
      "\n",
      "../../103_tei_w/2025-09-15_09-33/ELAN_Urfa-092_Sultan_Murad-Harran-2010.xml\n",
      "TeiCorpo (version 1.4.44) 14/12/2021 08:07 Version TEI_CORPO: 0.9.1\n",
      "\n",
      "\n",
      "../../103_tei_w/2025-09-15_09-33/ELAN_Urfa-094_Three_Advices-Harran-2010.xml\n",
      "TeiCorpo (version 1.4.44) 14/12/2021 08:07 Version TEI_CORPO: 0.9.1\n",
      "\n",
      "\n",
      "../../103_tei_w/2025-09-15_09-33/ELAN_Urfa-097_Three_Daughters-Harran-2010.xml\n",
      "TeiCorpo (version 1.4.44) 14/12/2021 08:07 Version TEI_CORPO: 0.9.1\n",
      "\n",
      "\n",
      "../../103_tei_w/2025-09-15_09-33/ELAN_Urfa-098_Young_Woman-Harran-2010.xml\n",
      "TeiCorpo (version 1.4.44) 14/12/2021 08:07 Version TEI_CORPO: 0.9.1\n",
      "\n",
      "\n",
      "../../103_tei_w/2025-09-15_09-33/ELAN_Urfa-105_Life_in_Former_Times-Harran-2010.xml\n",
      "TeiCorpo (version 1.4.44) 14/12/2021 08:07 Version TEI_CORPO: 0.9.1\n",
      "\n",
      "\n",
      "../../103_tei_w/2025-09-15_09-33/ELAN_Urfa-106_Visa_in_Ankara-Harran-2010.xml\n",
      "TeiCorpo (version 1.4.44) 14/12/2021 08:07 Version TEI_CORPO: 0.9.1\n",
      "\n",
      "\n",
      "../../103_tei_w/2025-09-15_09-33/ELAN_Urfa-107_Cotton_Business-Harran-2010.xml\n",
      "TeiCorpo (version 1.4.44) 14/12/2021 08:07 Version TEI_CORPO: 0.9.1\n",
      "\n",
      "\n",
      "../../103_tei_w/2025-09-15_09-33/ELAN_Urfa-110_Salim_az-Zir-Harran-2010.xml\n",
      "TeiCorpo (version 1.4.44) 14/12/2021 08:07 Version TEI_CORPO: 0.9.1\n",
      "\n",
      "\n",
      "../../103_tei_w/2025-09-15_09-33/ELAN_Urfa-112_Tall_Nasir-Harran-2010.xml\n",
      "TeiCorpo (version 1.4.44) 14/12/2021 08:07 Version TEI_CORPO: 0.9.1\n",
      "\n",
      "\n",
      "../../103_tei_w/2025-09-15_09-33/ELAN_Urfa-115_Camel-Harran-2010.xml\n",
      "TeiCorpo (version 1.4.44) 14/12/2021 08:07 Version TEI_CORPO: 0.9.1\n",
      "\n",
      "\n",
      "../../103_tei_w/2025-09-15_09-33/ELAN_Urfa-119_Engagement-Harran-2010.xml\n",
      "TeiCorpo (version 1.4.44) 14/12/2021 08:07 Version TEI_CORPO: 0.9.1\n",
      "\n",
      "\n",
      "../../103_tei_w/2025-09-15_09-33/ELAN_Urfa-120_Cross_Marriage-Harran-2010.xml\n",
      "TeiCorpo (version 1.4.44) 14/12/2021 08:07 Version TEI_CORPO: 0.9.1\n",
      "\n",
      "\n",
      "../../103_tei_w/2025-09-15_09-33/ELAN_Urfa-122_Nimrod-Harran-2010.xml\n",
      "TeiCorpo (version 1.4.44) 14/12/2021 08:07 Version TEI_CORPO: 0.9.1\n",
      "\n",
      "\n",
      "../../103_tei_w/2025-09-15_09-33/ELAN_Urfa-123_Stealing_Boy_P1-Harran-2010.xml\n",
      "TeiCorpo (version 1.4.44) 14/12/2021 08:07 Version TEI_CORPO: 0.9.1\n",
      "\n",
      "\n",
      "../../103_tei_w/2025-09-15_09-33/ELAN_Urfa-124_Stealing_Boy_P2-Harran-2010.xml\n",
      "TeiCorpo (version 1.4.44) 14/12/2021 08:07 Version TEI_CORPO: 0.9.1\n",
      "\n",
      "\n",
      "../../103_tei_w/2025-09-15_09-33/ELAN_Urfa-125_Coffee-Harran-2010.xml\n",
      "TeiCorpo (version 1.4.44) 14/12/2021 08:07 Version TEI_CORPO: 0.9.1\n",
      "\n",
      "\n",
      "../../103_tei_w/2025-09-15_09-33/ELAN_Urfa-133_Sheikh_Musa-Harran-2013.xml\n",
      "TeiCorpo (version 1.4.44) 14/12/2021 08:07 Version TEI_CORPO: 0.9.1\n",
      "\n",
      "\n",
      "../../103_tei_w/2025-09-15_09-33/ELAN_Urfa-135_Burglars_From_Syria-Harran-2013.xml\n",
      "TeiCorpo (version 1.4.44) 14/12/2021 08:07 Version TEI_CORPO: 0.9.1\n",
      "\n",
      "\n",
      "../../103_tei_w/2025-09-15_09-33/ELAN_Urfa-136_Cigkofte-Harran-2013.xml\n",
      "TeiCorpo (version 1.4.44) 14/12/2021 08:07 Version TEI_CORPO: 0.9.1\n",
      "\n",
      "\n",
      "../../103_tei_w/2025-09-15_09-33/ELAN_Urfa-137_Kazan_Kebab-Harran-2013.xml\n",
      "TeiCorpo (version 1.4.44) 14/12/2021 08:07 Version TEI_CORPO: 0.9.1\n",
      "\n",
      "\n",
      "../../103_tei_w/2025-09-15_09-33/ELAN_Urfa-138_Kazan_Kebab-Harran-2013.xml\n",
      "TeiCorpo (version 1.4.44) 14/12/2021 08:07 Version TEI_CORPO: 0.9.1\n",
      "\n",
      "\n",
      "../../103_tei_w/2025-09-15_09-33/ELAN_Urfa-139_Lahmacun-Harran-2013.xml\n",
      "TeiCorpo (version 1.4.44) 14/12/2021 08:07 Version TEI_CORPO: 0.9.1\n",
      "\n",
      "\n",
      "../../103_tei_w/2025-09-15_09-33/ELAN_Urfa-140_Biyat-Harran-2013.xml\n",
      "TeiCorpo (version 1.4.44) 14/12/2021 08:07 Version TEI_CORPO: 0.9.1\n",
      "\n",
      "\n",
      "../../103_tei_w/2025-09-15_09-33/ELAN_Urfa-141_Istishara-Harran-2013.xml\n",
      "TeiCorpo (version 1.4.44) 14/12/2021 08:07 Version TEI_CORPO: 0.9.1\n",
      "\n",
      "\n",
      "../../103_tei_w/2025-09-15_09-33/ELAN_Urfa-142_Chilli_Pepper-Harran-2013.xml\n",
      "TeiCorpo (version 1.4.44) 14/12/2021 08:07 Version TEI_CORPO: 0.9.1\n",
      "\n",
      "\n",
      "../../103_tei_w/2025-09-15_09-33/ELAN_Urfa-144_Malfuf-Harran-2013.xml\n",
      "TeiCorpo (version 1.4.44) 14/12/2021 08:07 Version TEI_CORPO: 0.9.1\n",
      "\n",
      "\n",
      "../../103_tei_w/2025-09-15_09-33/ELAN_Urfa-145_Prophet_Ayyub-Harran-2013.xml\n",
      "TeiCorpo (version 1.4.44) 14/12/2021 08:07 Version TEI_CORPO: 0.9.1\n",
      "\n",
      "\n",
      "../../103_tei_w/2025-09-15_09-33/ELAN_Urfa-146_Wolf-Harran-2013.xml\n",
      "TeiCorpo (version 1.4.44) 14/12/2021 08:07 Version TEI_CORPO: 0.9.1\n",
      "\n",
      "\n",
      "../../103_tei_w/2025-09-15_09-33/ELAN_Urfa-149_Bird-Harran-2014.xml\n",
      "TeiCorpo (version 1.4.44) 14/12/2021 08:07 Version TEI_CORPO: 0.9.1\n",
      "\n",
      "\n",
      "../../103_tei_w/2025-09-15_09-33/ELAN_Urfa-150_Iclikofte-Harran-2014.xml\n",
      "TeiCorpo (version 1.4.44) 14/12/2021 08:07 Version TEI_CORPO: 0.9.1\n",
      "\n",
      "\n",
      "../../103_tei_w/2025-09-15_09-33/ELAN_Urfa-151_Ashura-Harran-2014.xml\n",
      "TeiCorpo (version 1.4.44) 14/12/2021 08:07 Version TEI_CORPO: 0.9.1\n",
      "\n",
      "\n",
      "../../103_tei_w/2025-09-15_09-33/ELAN_Urfa-152_Dream-Harran-2014.xml\n",
      "TeiCorpo (version 1.4.44) 14/12/2021 08:07 Version TEI_CORPO: 0.9.1\n",
      "\n",
      "\n",
      "../../103_tei_w/2025-09-15_09-33/ELAN_Urfa-153_Sheikh_Hasan-Harran-2014.xml\n",
      "TeiCorpo (version 1.4.44) 14/12/2021 08:07 Version TEI_CORPO: 0.9.1\n",
      "\n",
      "\n",
      "../../103_tei_w/2025-09-15_09-33/ELAN_Urfa-155_Childhood-Harran-2014.xml\n",
      "TeiCorpo (version 1.4.44) 14/12/2021 08:07 Version TEI_CORPO: 0.9.1\n",
      "\n",
      "\n",
      "../../103_tei_w/2025-09-15_09-33/ELAN_Urfa-158_Moses_and_Dog-Harran-2014.xml\n",
      "TeiCorpo (version 1.4.44) 14/12/2021 08:07 Version TEI_CORPO: 0.9.1\n",
      "\n",
      "\n",
      "../../103_tei_w/2025-09-15_09-33/ELAN_Urfa-160_Seyhmus-Harran-2014.xml\n",
      "TeiCorpo (version 1.4.44) 14/12/2021 08:07 Version TEI_CORPO: 0.9.1\n",
      "\n",
      "\n",
      "../../103_tei_w/2025-09-15_09-33/ELAN_Urfa-162_Umm_al-Qet-Harran-2014.xml\n",
      "TeiCorpo (version 1.4.44) 14/12/2021 08:07 Version TEI_CORPO: 0.9.1\n",
      "\n",
      "\n",
      "../../103_tei_w/2025-09-15_09-33/ELAN_Urfa-163_Quilts-Harran-2014.xml\n",
      "TeiCorpo (version 1.4.44) 14/12/2021 08:07 Version TEI_CORPO: 0.9.1\n",
      "\n",
      "\n",
      "../../103_tei_w/2025-09-15_09-33/ELAN_Urfa-164_Baking_Bread-Harran-2014.xml\n",
      "TeiCorpo (version 1.4.44) 14/12/2021 08:07 Version TEI_CORPO: 0.9.1\n",
      "\n",
      "\n",
      "../../103_tei_w/2025-09-15_09-33/ELAN_Urfa-165_Childhood-Harran-2014.xml\n",
      "TeiCorpo (version 1.4.44) 14/12/2021 08:07 Version TEI_CORPO: 0.9.1\n",
      "\n",
      "\n",
      "../../103_tei_w/2025-09-15_09-33/ELAN_Urfa-167_Sheikh_'Nad-Harran-2014.xml\n",
      "TeiCorpo (version 1.4.44) 14/12/2021 08:07 Version TEI_CORPO: 0.9.1\n",
      "\n",
      "\n",
      "../../103_tei_w/2025-09-15_09-33/ELAN_Urfa-173_Woman_with_No_Lover_Short-Harran-2014.xml\n",
      "TeiCorpo (version 1.4.44) 14/12/2021 08:07 Version TEI_CORPO: 0.9.1\n",
      "\n",
      "\n",
      "../../103_tei_w/2025-09-15_09-33/ELAN_Urfa-175_Bastig-Harran-2014.xml\n",
      "TeiCorpo (version 1.4.44) 14/12/2021 08:07 Version TEI_CORPO: 0.9.1\n",
      "\n",
      "\n",
      "../../103_tei_w/2025-09-15_09-33/ELAN_Urfa-176_Condolences-Harran-2014.xml\n",
      "TeiCorpo (version 1.4.44) 14/12/2021 08:07 Version TEI_CORPO: 0.9.1\n",
      "\n",
      "\n",
      "../../103_tei_w/2025-09-15_09-33/ELAN_Urfa-177_Wedding_in_Former_Times-Harran-2014.xml\n",
      "TeiCorpo (version 1.4.44) 14/12/2021 08:07 Version TEI_CORPO: 0.9.1\n",
      "\n",
      "\n",
      "../../103_tei_w/2025-09-15_09-33/ELAN_Urfa-179_Grandfather-Harran-2014.xml\n",
      "TeiCorpo (version 1.4.44) 14/12/2021 08:07 Version TEI_CORPO: 0.9.1\n",
      "\n",
      "\n",
      "../../103_tei_w/2025-09-15_09-33/ELAN_Urfa-183_Policeman_and_Carp-Harran-2014.xml\n",
      "TeiCorpo (version 1.4.44) 14/12/2021 08:07 Version TEI_CORPO: 0.9.1\n",
      "\n",
      "\n",
      "../../103_tei_w/2025-09-15_09-33/ELAN_Urfa-184_Evil_Eye-Harran-2014.xml\n",
      "TeiCorpo (version 1.4.44) 14/12/2021 08:07 Version TEI_CORPO: 0.9.1\n",
      "\n",
      "\n",
      "../../103_tei_w/2025-09-15_09-33/ELAN_Urfa-187_Two_Women_and_Fridge-Harran-2015.xml\n",
      "TeiCorpo (version 1.4.44) 14/12/2021 08:07 Version TEI_CORPO: 0.9.1\n",
      "\n",
      "\n",
      "../../103_tei_w/2025-09-15_09-33/ELAN_Urfa-188_Shepherd-Harran-2015.xml\n",
      "TeiCorpo (version 1.4.44) 14/12/2021 08:07 Version TEI_CORPO: 0.9.1\n",
      "\n",
      "\n",
      "../../103_tei_w/2025-09-15_09-33/ELAN_Urfa-189_Wanted_to_Marry-Harran.xml\n",
      "TeiCorpo (version 1.4.44) 14/12/2021 08:07 Version TEI_CORPO: 0.9.1\n",
      "\n",
      "\n",
      "../../103_tei_w/2025-09-15_09-33/ELAN_Urfa-190_ill_Blind_Mother-Harran-2015.xml\n",
      "TeiCorpo (version 1.4.44) 14/12/2021 08:07 Version TEI_CORPO: 0.9.1\n",
      "\n",
      "\n",
      "../../103_tei_w/2025-09-15_09-33/ELAN_Urfa-191_Kurd_and_Two_Wives-Harran-2015.xml\n",
      "TeiCorpo (version 1.4.44) 14/12/2021 08:07 Version TEI_CORPO: 0.9.1\n",
      "\n",
      "\n",
      "../../103_tei_w/2025-09-15_09-33/ELAN_Urfa-192_Who_chooses_a_horse-Harran.xml\n",
      "TeiCorpo (version 1.4.44) 14/12/2021 08:07 Version TEI_CORPO: 0.9.1\n",
      "\n",
      "\n",
      "../../103_tei_w/2025-09-15_09-33/ELAN_Urfa-193_Priapism-Harran-2015.xml\n",
      "TeiCorpo (version 1.4.44) 14/12/2021 08:07 Version TEI_CORPO: 0.9.1\n",
      "\n",
      "\n",
      "../../103_tei_w/2025-09-15_09-33/ELAN_Urfa-194_Afraid_of_Dogs-Harran-2017.xml\n",
      "TeiCorpo (version 1.4.44) 14/12/2021 08:07 Version TEI_CORPO: 0.9.1\n",
      "\n",
      "\n",
      "../../103_tei_w/2025-09-15_09-33/ELAN_Urfa-195_Best_and_Worst_Part_of_the_Sheep-Harran-2017.xml\n",
      "TeiCorpo (version 1.4.44) 14/12/2021 08:07 Version TEI_CORPO: 0.9.1\n",
      "\n",
      "\n",
      "../../103_tei_w/2025-09-15_09-33/ELAN_Urfa-201_Story_of_Cigkofte-Harran-2017.xml\n",
      "TeiCorpo (version 1.4.44) 14/12/2021 08:07 Version TEI_CORPO: 0.9.1\n",
      "\n",
      "\n",
      "../../103_tei_w/2025-09-15_09-33/ELAN_Urfa-202_Al-Shukwa-Harran-2017.xml\n",
      "TeiCorpo (version 1.4.44) 14/12/2021 08:07 Version TEI_CORPO: 0.9.1\n",
      "\n",
      "\n",
      "../../103_tei_w/2025-09-15_09-33/ELAN_Urfa-203_Tattooing-Harran-2017.xml\n",
      "TeiCorpo (version 1.4.44) 14/12/2021 08:07 Version TEI_CORPO: 0.9.1\n",
      "\n",
      "\n",
      "../../103_tei_w/2025-09-15_09-33/ELAN_Urfa-352_Washing_Clothes-Harran-2021.xml\n",
      "TeiCorpo (version 1.4.44) 14/12/2021 08:07 Version TEI_CORPO: 0.9.1\n",
      "\n",
      "\n",
      "../../103_tei_w/2025-09-15_09-33/ELAN_Urfa-355_Threshing_wheat_in_former_times.xml\n",
      "TeiCorpo (version 1.4.44) 14/12/2021 08:07 Version TEI_CORPO: 0.9.1\n",
      "\n",
      "\n",
      "../../103_tei_w/2025-09-15_09-33/ELAN_Urfa-428_How_not_to_get_married_to_an_old_man.xml\n",
      "TeiCorpo (version 1.4.44) 14/12/2021 08:07 Version TEI_CORPO: 0.9.1\n",
      "\n",
      "\n",
      "../../103_tei_w/2025-09-15_09-33/ELAN_Urfa-467_The_big_earthquake_of_February_2023.xml\n"
     ]
    }
   ],
   "source": [
    "if not \"runTEICorpo\" in SKIP_PROCESSING:\n",
    "    runTEICorpo(docs=ELANDocs)"
   ]
  },
  {
   "cell_type": "markdown",
   "id": "fe51dc1f",
   "metadata": {},
   "source": [
    "## Step 5: Merge metadata and TEICorpo Output"
   ]
  },
  {
   "cell_type": "code",
   "execution_count": 13,
   "id": "9a40c251",
   "metadata": {
    "tags": []
   },
   "outputs": [],
   "source": [
    "def mergeMetadata(docInfo, p):\n",
    "    return transform(\n",
    "        s = docInfo[\"filepath_tmp_TEI\"],\n",
    "        xsl = pathToShawiStylesheetsDir+\"/mergeHeaderAndTranscription.xsl\",\n",
    "        o = docInfo[\"tmpDir\"]+'/'+docInfo[\"basename\"]+\"_00_metaMerged.xml\",\n",
    "        parameters = p)"
   ]
  },
  {
   "cell_type": "markdown",
   "id": "457a7c29-d7bb-47c7-ba8b-d1073168d67d",
   "metadata": {
    "tags": []
   },
   "source": [
    "## Step 6: Tokenization of unannotated texts\n",
    "\n",
    "Run a local copy of [xsl-tokenizer](https://github.com/acdh-oeaw/xsl-tokenizer)\n",
    "\n",
    "The merged TEI document is tokenized for further manual annotation."
   ]
  },
  {
   "cell_type": "markdown",
   "id": "302385d4-f8b0-4f9c-bdfa-75a645e884f4",
   "metadata": {
    "tags": []
   },
   "source": [
    "### Step 6.0: (Re-)generate tokenizer stylesheets (optional)\n",
    "\n",
    "Regenerate the XSLs used in the following steps.\n",
    "This can not be done with saxonpy (xincludes are not resolved)\n",
    "use\n",
    "```bash\n",
    "java -jar Saxon-HE-9.9.1-8.jar -s:profile.xml -xi:on -xsl:xsl/make_xsl.xsl\n",
    "```"
   ]
  },
  {
   "cell_type": "markdown",
   "id": "b67b9698-1946-4114-ba8b-5d2caca7b7f8",
   "metadata": {
    "tags": []
   },
   "source": [
    "For all the ELAN files converted to TEI:\n",
    "\n",
    "### Step 6.1: Remove new lines\n",
    "\n",
    "Remove new lines and store to intermediate document:"
   ]
  },
  {
   "cell_type": "code",
   "execution_count": 14,
   "id": "feb48707-d990-4737-8115-277497add47f",
   "metadata": {},
   "outputs": [],
   "source": [
    "def removeNL(docInfo):\n",
    "    return transform(\n",
    "        s = docInfo[\"tmpDir\"]+'/'+docInfo[\"basename\"]+\"_00_metaMerged.xml\", \n",
    "        xsl = \"./tokenizer/xsl/rmNl.xsl\", \n",
    "        o = docInfo[\"tmpDir\"]+'/'+docInfo[\"basename\"]+\"_01_nlRmd.xml\"\n",
    "    )"
   ]
  },
  {
   "cell_type": "markdown",
   "id": "ef95efdd-eaaa-4132-a42b-e70f6a0225b5",
   "metadata": {},
   "source": [
    "### Step 6.2: create w tags\n"
   ]
  },
  {
   "cell_type": "code",
   "execution_count": 15,
   "id": "0a825ea8-f03d-4f56-b4ef-158817e5cf2f",
   "metadata": {},
   "outputs": [],
   "source": [
    "def tokenize(docInfo):\n",
    "    return transform(\n",
    "        s = docInfo[\"tmpDir\"]+'/'+docInfo[\"basename\"]+\"_01_nlRmd.xml\", \n",
    "        xsl = \"./tokenizer/wrapper_toks.xsl\", \n",
    "        o = docInfo[\"tmpDir\"]+'/'+docInfo[\"basename\"]+\"_02_toks.xml\"\n",
    "    )"
   ]
  },
  {
   "cell_type": "markdown",
   "id": "33998805-c4f2-4039-999b-419acb3e69f9",
   "metadata": {},
   "source": [
    "### Step 6.3: Add part attributes to w tags\n",
    "\n",
    "Add Part-Attributes and explicit token links:"
   ]
  },
  {
   "cell_type": "code",
   "execution_count": 16,
   "id": "a3946396-3a73-4180-873f-2361a669cc89",
   "metadata": {},
   "outputs": [],
   "source": [
    "def addP(docInfo):\n",
    "    return transform(\n",
    "        s = docInfo[\"tmpDir\"]+'/'+docInfo[\"basename\"]+\"_02_toks.xml\", \n",
    "        xsl = \"./tokenizer/wrapper_addP.xsl\", \n",
    "        o = docInfo[\"tmpDir\"]+'/'+docInfo[\"basename\"]+\"_03_tokenized.xml\"\n",
    "    )"
   ]
  },
  {
   "cell_type": "markdown",
   "id": "d729253b-f6e2-42b8-b4ef-e67319aed15b",
   "metadata": {},
   "source": [
    "### Step 6.4: apply project-specific post-processing\n",
    "\n",
    "Do some post tokenization processing specific to the Shawi project."
   ]
  },
  {
   "cell_type": "code",
   "execution_count": 17,
   "id": "6292bd18-6718-4d64-97c7-c4c093283f6a",
   "metadata": {},
   "outputs": [],
   "source": [
    "def postProcess(docInfo):\n",
    "    return transform(\n",
    "        s = docInfo[\"tmpDir\"]+'/'+docInfo[\"basename\"]+\"_03_tokenized.xml\", \n",
    "        xsl = \"./tokenizer/postTokenization/1.xsl\", \n",
    "        o = docInfo[\"tmpDir\"]+'/'+docInfo[\"basename\"]+\"_04_posttok.xml\"\n",
    "    )"
   ]
  },
  {
   "cell_type": "markdown",
   "id": "19078c20-0e51-413c-a631-9d7a3e16eb48",
   "metadata": {},
   "source": [
    "### Step 6.5: change annotationBlocks into divs and move media elements into one place"
   ]
  },
  {
   "cell_type": "code",
   "execution_count": 18,
   "id": "572aafd9-24b2-49d8-96fd-50a5c17cda22",
   "metadata": {},
   "outputs": [],
   "source": [
    "def annotationBlock2div(docInfo):\n",
    "    return transform(\n",
    "        s = docInfo[\"tmpDir\"]+'/'+docInfo[\"basename\"]+\"_04_posttok.xml\",\n",
    "        xsl = \"./tokenizer/annotationBlock2div.xsl\",\n",
    "        o = docInfo[\"tmpDir\"]+'/'+docInfo[\"basename\"]+\"_05_ab2div.xml\"\n",
    "    )"
   ]
  },
  {
   "cell_type": "markdown",
   "id": "239e721c-bb9e-4a7b-b6fd-be53e06b14b3",
   "metadata": {},
   "source": [
    "### Step 6.6: move token namespace from xtoks to TEI \n",
    "\n",
    "**--> This step creates the files which data curators will copy to `010_manannot` and annotate using the TEI enricher**"
   ]
  },
  {
   "cell_type": "code",
   "execution_count": 19,
   "id": "44f2ec8a-fe7e-4142-9382-b5cd3bfd30fc",
   "metadata": {},
   "outputs": [],
   "source": [
    "def createTEIForAnnotation(docInfo):\n",
    "    return transform(\n",
    "        s = docInfo[\"tmpDir\"]+'/'+docInfo[\"basename\"]+\"_05_ab2div.xml\",\n",
    "        xsl = \"./tokenizer/custom_xtoks2tei.xsl\", \n",
    "        o = docInfo[\"TEI\"],\n",
    "        parameters = {\n",
    "            \"preserve-ws\": \"false\"\n",
    "        }\n",
    "    )"
   ]
  },
  {
   "cell_type": "markdown",
   "id": "5d44acba-435d-449c-afc1-1288233036e1",
   "metadata": {},
   "source": [
    "## Step 7: Create NoSke input\n",
    "\n",
    "We create verticals from the unannotated texts and attach the token annotations from `010_manannot` to them.\n",
    "\n",
    "### Step 7.1 Create XML vertical from tokenized XML documents\n",
    "\n",
    "We take the tokenized XML document (prior to have moved to TEI) and create an XML vertical from it:"
   ]
  },
  {
   "cell_type": "code",
   "execution_count": 20,
   "id": "b2e07285-908a-4f6e-89ff-43b4f59e103a",
   "metadata": {},
   "outputs": [],
   "source": [
    "def createXMLVert(docInfo):\n",
    "    return transform(\n",
    "        s = docInfo[\"tmpDir\"]+'/'+docInfo[\"basename\"]+\"_04_posttok.xml\",\n",
    "        xsl = \"./tokenizer/custom_xtoks2vert.xsl\", \n",
    "        o = docInfo[\"tmpDir\"]+'/'+docInfo[\"basename\"]+\"_05_vert.xml\"\n",
    "    )"
   ]
  },
  {
   "cell_type": "markdown",
   "id": "6f29a7e0-e42c-4e87-a443-17501b1191cc",
   "metadata": {},
   "source": [
    "### Step 7.2: attach manual annotations to the XML vertical"
   ]
  },
  {
   "cell_type": "code",
   "execution_count": 21,
   "id": "01c0cfa1-cba3-4480-b040-94749902527b",
   "metadata": {},
   "outputs": [],
   "source": [
    "def attachAnnotationsToXMLVert(docInfo):\n",
    "    return transform(\n",
    "        s = docInfo[\"tmpDir\"]+'/'+docInfo[\"basename\"]+\"_05_vert.xml\",\n",
    "        xsl = pathToShawiStylesheetsDir+\"/copyAnaToVert.xsl\", \n",
    "        o = docInfo[\"tmpDir\"] + \"/\" + docInfo[\"basename\"] + \"_05_vert_annot.xml\",\n",
    "        parameters = {\n",
    "            \"path_to_annotated_doc\": pathlib.Path(os.path.abspath(docInfo[\"TEI_annotated\"])).as_uri()\n",
    "        }\n",
    "    )"
   ]
  },
  {
   "cell_type": "markdown",
   "id": "b107ed8f-dfa4-41b8-9f24-c63a9c71589c",
   "metadata": {},
   "source": [
    "### Step 7.3 convert XML vertical to text vertical\n",
    "\n",
    "Create a vertical vor NoSkE"
   ]
  },
  {
   "cell_type": "code",
   "execution_count": 22,
   "id": "ed763150-c07c-45d0-b077-05f8839e3428",
   "metadata": {},
   "outputs": [],
   "source": [
    "def createNoSkEVert(docInfo):\n",
    "    return transform(\n",
    "        s = docInfo[\"tmpDir\"] + \"/\" + docInfo[\"basename\"] + \"_05_vert_annot.xml\",\n",
    "        xsl = \"./tokenizer/wrapper_vert2txt.xsl\", \n",
    "        o = noSkEVertDir + \"/\" + docInfo[\"basename\"] + \".txt\"\n",
    "    )"
   ]
  },
  {
   "cell_type": "markdown",
   "id": "62b488db-49d5-4f4b-a81c-f4e2dbf712d0",
   "metadata": {},
   "source": [
    "## Run Steps 6- 8"
   ]
  },
  {
   "cell_type": "code",
   "execution_count": null,
   "id": "8f24c432-2ac1-48d8-a50f-604b34b808d1",
   "metadata": {},
   "outputs": [
    {
     "name": "stdout",
     "output_type": "stream",
     "text": [
      "C:\\Users\\mrauschsupola\\Shawi\\shawi-data\\103_tei_w\\shawiCorpus.xml\n",
      "Urfa-000_Cigkofte-Harran-2001: C:\\Users\\mrauschsupola\\Shawi\\shawi-data\\103_tei_w\\2025-09-15_09-33\\ELAN_Urfa-000_Cigkofte-Harran-2001.xml -> C:\\Users\\mrauschsupola\\Shawi\\shawi-data\\103_tei_w\\Urfa-000_Cigkofte-Harran-2001.xml\n"
     ]
    },
    {
     "name": "stderr",
     "output_type": "stream",
     "text": [
      "2025-09-15 09:33:41,107 - XTSE0020: Serialization parameter Q{.../saxon.sf.net/}line-length is not available in Saxon-HE\n",
      "\n",
      "2025-09-15 09:33:41,108 - C:\\Users\\mrauschsupola\\Shawi\\shawi-data\\103_tei_w\\2025-09-15_09-33\\Urfa-000_Cigkofte-Harran-2001_04_posttok.xml - C:\\Users\\mrauschsupola\\Shawi\\shawi-data\\080_scripts_generic\\080_01_ELAN2TEI\\tokenizer\\annotationBlock2div.xsl -> C:\\Users\\mrauschsupola\\Shawi\\shawi-data\\103_tei_w\\2025-09-15_09-33\\Urfa-000_Cigkofte-Harran-2001_05_ab2div.xml failed\n",
      "2025-09-15 09:33:41,108 - there was an error transforming ../../103_tei_w/2025-09-15_09-33/Urfa-000_Cigkofte-Harran-2001_04_posttok.xml with stylesheet ./tokenizer/annotationBlock2div.xsl\n",
      "2025-09-15 09:33:41,112 - Unable to resolve <C:\\Users\\mrauschsupola\\Shawi\\shawi-data\\103_tei_w\\2025-09-15_09-33\\Urfa-000_Cigkofte-Harran-2001_05_ab2div.xml> into a Source. Line number: -1\n",
      "2025-09-15 09:33:41,113 - C:\\Users\\mrauschsupola\\Shawi\\shawi-data\\103_tei_w\\2025-09-15_09-33\\Urfa-000_Cigkofte-Harran-2001_05_ab2div.xml - C:\\Users\\mrauschsupola\\Shawi\\shawi-data\\080_scripts_generic\\080_01_ELAN2TEI\\tokenizer\\custom_xtoks2tei.xsl -> C:\\Users\\mrauschsupola\\Shawi\\shawi-data\\103_tei_w\\Urfa-000_Cigkofte-Harran-2001.xml failed\n"
     ]
    },
    {
     "name": "stdout",
     "output_type": "stream",
     "text": [
      "Urfa-000_Cigkofte-Harran-2001: done.\n",
      "Urfa-002a_Joke_about_a_tribe: C:\\Users\\mrauschsupola\\Shawi\\shawi-data\\103_tei_w\\2025-09-15_09-33\\ELAN_Urfa-002a_Joke_about_a_tribe.xml -> C:\\Users\\mrauschsupola\\Shawi\\shawi-data\\103_tei_w\\Urfa-002a_Joke_about_a_tribe.xml\n"
     ]
    },
    {
     "name": "stderr",
     "output_type": "stream",
     "text": [
      "2025-09-15 09:33:41,341 - XTMM9000: Processing terminated by xsl:message at line 34 in mergeHeaderAndTranscription.xsl. Line number: 34\n",
      "2025-09-15 09:33:41,341 - C:\\Users\\mrauschsupola\\Shawi\\shawi-data\\103_tei_w\\2025-09-15_09-33\\ELAN_Urfa-002a_Joke_about_a_tribe.xml - C:\\Users\\mrauschsupola\\Shawi\\shawi-data\\082_scripts_xsl\\mergeHeaderAndTranscription.xsl -> C:\\Users\\mrauschsupola\\Shawi\\shawi-data\\103_tei_w\\2025-09-15_09-33\\Urfa-002a_Joke_about_a_tribe_00_metaMerged.xml failed\n",
      "2025-09-15 09:33:41,347 - SXXP0003   Error reported by XML parser: Premature end of file.. Line number: -1\n",
      "2025-09-15 09:33:41,348 - C:\\Users\\mrauschsupola\\Shawi\\shawi-data\\103_tei_w\\2025-09-15_09-33\\Urfa-002a_Joke_about_a_tribe_00_metaMerged.xml - C:\\Users\\mrauschsupola\\Shawi\\shawi-data\\080_scripts_generic\\080_01_ELAN2TEI\\tokenizer\\xsl\\rmNl.xsl -> C:\\Users\\mrauschsupola\\Shawi\\shawi-data\\103_tei_w\\2025-09-15_09-33\\Urfa-002a_Joke_about_a_tribe_01_nlRmd.xml failed\n",
      "2025-09-15 09:33:41,349 - there was an error transforming ../../103_tei_w/2025-09-15_09-33/Urfa-002a_Joke_about_a_tribe_00_metaMerged.xml with stylesheet ./tokenizer/xsl/rmNl.xsl\n",
      "2025-09-15 09:33:41,351 - Unable to resolve <C:\\Users\\mrauschsupola\\Shawi\\shawi-data\\103_tei_w\\2025-09-15_09-33\\Urfa-002a_Joke_about_a_tribe_01_nlRmd.xml> into a Source. Line number: -1\n",
      "2025-09-15 09:33:41,351 - C:\\Users\\mrauschsupola\\Shawi\\shawi-data\\103_tei_w\\2025-09-15_09-33\\Urfa-002a_Joke_about_a_tribe_01_nlRmd.xml - C:\\Users\\mrauschsupola\\Shawi\\shawi-data\\080_scripts_generic\\080_01_ELAN2TEI\\tokenizer\\wrapper_toks.xsl -> C:\\Users\\mrauschsupola\\Shawi\\shawi-data\\103_tei_w\\2025-09-15_09-33\\Urfa-002a_Joke_about_a_tribe_02_toks.xml failed\n",
      "2025-09-15 09:33:41,351 - there was an error transforming ../../103_tei_w/2025-09-15_09-33/Urfa-002a_Joke_about_a_tribe_01_nlRmd.xml with stylesheet ./tokenizer/wrapper_toks.xsl\n",
      "2025-09-15 09:33:41,366 - Unable to resolve <C:\\Users\\mrauschsupola\\Shawi\\shawi-data\\103_tei_w\\2025-09-15_09-33\\Urfa-002a_Joke_about_a_tribe_02_toks.xml> into a Source. Line number: -1\n",
      "2025-09-15 09:33:41,367 - C:\\Users\\mrauschsupola\\Shawi\\shawi-data\\103_tei_w\\2025-09-15_09-33\\Urfa-002a_Joke_about_a_tribe_02_toks.xml - C:\\Users\\mrauschsupola\\Shawi\\shawi-data\\080_scripts_generic\\080_01_ELAN2TEI\\tokenizer\\wrapper_addP.xsl -> C:\\Users\\mrauschsupola\\Shawi\\shawi-data\\103_tei_w\\2025-09-15_09-33\\Urfa-002a_Joke_about_a_tribe_03_tokenized.xml failed\n",
      "2025-09-15 09:33:41,368 - there was an error transforming ../../103_tei_w/2025-09-15_09-33/Urfa-002a_Joke_about_a_tribe_02_toks.xml with stylesheet ./tokenizer/wrapper_addP.xsl\n",
      "2025-09-15 09:33:41,373 - Unable to resolve <C:\\Users\\mrauschsupola\\Shawi\\shawi-data\\103_tei_w\\2025-09-15_09-33\\Urfa-002a_Joke_about_a_tribe_03_tokenized.xml> into a Source. Line number: -1\n",
      "2025-09-15 09:33:41,373 - C:\\Users\\mrauschsupola\\Shawi\\shawi-data\\103_tei_w\\2025-09-15_09-33\\Urfa-002a_Joke_about_a_tribe_03_tokenized.xml - C:\\Users\\mrauschsupola\\Shawi\\shawi-data\\080_scripts_generic\\080_01_ELAN2TEI\\tokenizer\\postTokenization\\1.xsl -> C:\\Users\\mrauschsupola\\Shawi\\shawi-data\\103_tei_w\\2025-09-15_09-33\\Urfa-002a_Joke_about_a_tribe_04_posttok.xml failed\n",
      "2025-09-15 09:33:41,373 - there was an error transforming ../../103_tei_w/2025-09-15_09-33/Urfa-002a_Joke_about_a_tribe_03_tokenized.xml with stylesheet ./tokenizer/postTokenization/1.xsl\n",
      "2025-09-15 09:33:41,379 - XTSE0020: Serialization parameter Q{.../saxon.sf.net/}line-length is not available in Saxon-HE\n",
      "\n",
      "2025-09-15 09:33:41,379 - C:\\Users\\mrauschsupola\\Shawi\\shawi-data\\103_tei_w\\2025-09-15_09-33\\Urfa-002a_Joke_about_a_tribe_04_posttok.xml - C:\\Users\\mrauschsupola\\Shawi\\shawi-data\\080_scripts_generic\\080_01_ELAN2TEI\\tokenizer\\annotationBlock2div.xsl -> C:\\Users\\mrauschsupola\\Shawi\\shawi-data\\103_tei_w\\2025-09-15_09-33\\Urfa-002a_Joke_about_a_tribe_05_ab2div.xml failed\n",
      "2025-09-15 09:33:41,379 - there was an error transforming ../../103_tei_w/2025-09-15_09-33/Urfa-002a_Joke_about_a_tribe_04_posttok.xml with stylesheet ./tokenizer/annotationBlock2div.xsl\n",
      "2025-09-15 09:33:41,383 - Unable to resolve <C:\\Users\\mrauschsupola\\Shawi\\shawi-data\\103_tei_w\\2025-09-15_09-33\\Urfa-002a_Joke_about_a_tribe_05_ab2div.xml> into a Source. Line number: -1\n",
      "2025-09-15 09:33:41,384 - C:\\Users\\mrauschsupola\\Shawi\\shawi-data\\103_tei_w\\2025-09-15_09-33\\Urfa-002a_Joke_about_a_tribe_05_ab2div.xml - C:\\Users\\mrauschsupola\\Shawi\\shawi-data\\080_scripts_generic\\080_01_ELAN2TEI\\tokenizer\\custom_xtoks2tei.xsl -> C:\\Users\\mrauschsupola\\Shawi\\shawi-data\\103_tei_w\\Urfa-002a_Joke_about_a_tribe.xml failed\n",
      "2025-09-15 09:33:41,385 - there was an error transforming ../../103_tei_w/2025-09-15_09-33/Urfa-002a_Joke_about_a_tribe_05_ab2div.xml with stylesheet ./tokenizer/custom_xtoks2tei.xsl\n",
      "2025-09-15 09:33:41,593 - XTMM9000: Processing terminated by xsl:message at line 34 in mergeHeaderAndTranscription.xsl. Line number: 34\n",
      "2025-09-15 09:33:41,593 - C:\\Users\\mrauschsupola\\Shawi\\shawi-data\\103_tei_w\\2025-09-15_09-33\\ELAN_Urfa-002b_Blood_feud_in_the_past.xml - C:\\Users\\mrauschsupola\\Shawi\\shawi-data\\082_scripts_xsl\\mergeHeaderAndTranscription.xsl -> C:\\Users\\mrauschsupola\\Shawi\\shawi-data\\103_tei_w\\2025-09-15_09-33\\Urfa-002b_Blood_feud_in_the_past_00_metaMerged.xml failed\n",
      "2025-09-15 09:33:41,600 - SXXP0003   Error reported by XML parser: Premature end of file.. Line number: -1\n",
      "2025-09-15 09:33:41,601 - C:\\Users\\mrauschsupola\\Shawi\\shawi-data\\103_tei_w\\2025-09-15_09-33\\Urfa-002b_Blood_feud_in_the_past_00_metaMerged.xml - C:\\Users\\mrauschsupola\\Shawi\\shawi-data\\080_scripts_generic\\080_01_ELAN2TEI\\tokenizer\\xsl\\rmNl.xsl -> C:\\Users\\mrauschsupola\\Shawi\\shawi-data\\103_tei_w\\2025-09-15_09-33\\Urfa-002b_Blood_feud_in_the_past_01_nlRmd.xml failed\n",
      "2025-09-15 09:33:41,602 - there was an error transforming ../../103_tei_w/2025-09-15_09-33/Urfa-002b_Blood_feud_in_the_past_00_metaMerged.xml with stylesheet ./tokenizer/xsl/rmNl.xsl\n",
      "2025-09-15 09:33:41,608 - Unable to resolve <C:\\Users\\mrauschsupola\\Shawi\\shawi-data\\103_tei_w\\2025-09-15_09-33\\Urfa-002b_Blood_feud_in_the_past_01_nlRmd.xml> into a Source. Line number: -1\n",
      "2025-09-15 09:33:41,610 - C:\\Users\\mrauschsupola\\Shawi\\shawi-data\\103_tei_w\\2025-09-15_09-33\\Urfa-002b_Blood_feud_in_the_past_01_nlRmd.xml - C:\\Users\\mrauschsupola\\Shawi\\shawi-data\\080_scripts_generic\\080_01_ELAN2TEI\\tokenizer\\wrapper_toks.xsl -> C:\\Users\\mrauschsupola\\Shawi\\shawi-data\\103_tei_w\\2025-09-15_09-33\\Urfa-002b_Blood_feud_in_the_past_02_toks.xml failed\n",
      "2025-09-15 09:33:41,610 - there was an error transforming ../../103_tei_w/2025-09-15_09-33/Urfa-002b_Blood_feud_in_the_past_01_nlRmd.xml with stylesheet ./tokenizer/wrapper_toks.xsl\n",
      "2025-09-15 09:33:41,620 - Unable to resolve <C:\\Users\\mrauschsupola\\Shawi\\shawi-data\\103_tei_w\\2025-09-15_09-33\\Urfa-002b_Blood_feud_in_the_past_02_toks.xml> into a Source. Line number: -1\n",
      "2025-09-15 09:33:41,621 - C:\\Users\\mrauschsupola\\Shawi\\shawi-data\\103_tei_w\\2025-09-15_09-33\\Urfa-002b_Blood_feud_in_the_past_02_toks.xml - C:\\Users\\mrauschsupola\\Shawi\\shawi-data\\080_scripts_generic\\080_01_ELAN2TEI\\tokenizer\\wrapper_addP.xsl -> C:\\Users\\mrauschsupola\\Shawi\\shawi-data\\103_tei_w\\2025-09-15_09-33\\Urfa-002b_Blood_feud_in_the_past_03_tokenized.xml failed\n",
      "2025-09-15 09:33:41,622 - there was an error transforming ../../103_tei_w/2025-09-15_09-33/Urfa-002b_Blood_feud_in_the_past_02_toks.xml with stylesheet ./tokenizer/wrapper_addP.xsl\n",
      "2025-09-15 09:33:41,625 - Unable to resolve <C:\\Users\\mrauschsupola\\Shawi\\shawi-data\\103_tei_w\\2025-09-15_09-33\\Urfa-002b_Blood_feud_in_the_past_03_tokenized.xml> into a Source. Line number: -1\n",
      "2025-09-15 09:33:41,625 - C:\\Users\\mrauschsupola\\Shawi\\shawi-data\\103_tei_w\\2025-09-15_09-33\\Urfa-002b_Blood_feud_in_the_past_03_tokenized.xml - C:\\Users\\mrauschsupola\\Shawi\\shawi-data\\080_scripts_generic\\080_01_ELAN2TEI\\tokenizer\\postTokenization\\1.xsl -> C:\\Users\\mrauschsupola\\Shawi\\shawi-data\\103_tei_w\\2025-09-15_09-33\\Urfa-002b_Blood_feud_in_the_past_04_posttok.xml failed\n",
      "2025-09-15 09:33:41,625 - there was an error transforming ../../103_tei_w/2025-09-15_09-33/Urfa-002b_Blood_feud_in_the_past_03_tokenized.xml with stylesheet ./tokenizer/postTokenization/1.xsl\n",
      "2025-09-15 09:33:41,629 - XTSE0020: Serialization parameter Q{.../saxon.sf.net/}line-length is not available in Saxon-HE\n",
      "\n",
      "2025-09-15 09:33:41,629 - C:\\Users\\mrauschsupola\\Shawi\\shawi-data\\103_tei_w\\2025-09-15_09-33\\Urfa-002b_Blood_feud_in_the_past_04_posttok.xml - C:\\Users\\mrauschsupola\\Shawi\\shawi-data\\080_scripts_generic\\080_01_ELAN2TEI\\tokenizer\\annotationBlock2div.xsl -> C:\\Users\\mrauschsupola\\Shawi\\shawi-data\\103_tei_w\\2025-09-15_09-33\\Urfa-002b_Blood_feud_in_the_past_05_ab2div.xml failed\n",
      "2025-09-15 09:33:41,629 - there was an error transforming ../../103_tei_w/2025-09-15_09-33/Urfa-002b_Blood_feud_in_the_past_04_posttok.xml with stylesheet ./tokenizer/annotationBlock2div.xsl\n",
      "2025-09-15 09:33:41,635 - Unable to resolve <C:\\Users\\mrauschsupola\\Shawi\\shawi-data\\103_tei_w\\2025-09-15_09-33\\Urfa-002b_Blood_feud_in_the_past_05_ab2div.xml> into a Source. Line number: -1\n",
      "2025-09-15 09:33:41,636 - C:\\Users\\mrauschsupola\\Shawi\\shawi-data\\103_tei_w\\2025-09-15_09-33\\Urfa-002b_Blood_feud_in_the_past_05_ab2div.xml - C:\\Users\\mrauschsupola\\Shawi\\shawi-data\\080_scripts_generic\\080_01_ELAN2TEI\\tokenizer\\custom_xtoks2tei.xsl -> C:\\Users\\mrauschsupola\\Shawi\\shawi-data\\103_tei_w\\Urfa-002b_Blood_feud_in_the_past.xml failed\n",
      "2025-09-15 09:33:41,636 - there was an error transforming ../../103_tei_w/2025-09-15_09-33/Urfa-002b_Blood_feud_in_the_past_05_ab2div.xml with stylesheet ./tokenizer/custom_xtoks2tei.xsl\n"
     ]
    },
    {
     "name": "stdout",
     "output_type": "stream",
     "text": [
      "Urfa-002a_Joke_about_a_tribe: done.\n",
      "Urfa-002b_Blood_feud_in_the_past: C:\\Users\\mrauschsupola\\Shawi\\shawi-data\\103_tei_w\\2025-09-15_09-33\\ELAN_Urfa-002b_Blood_feud_in_the_past.xml -> C:\\Users\\mrauschsupola\\Shawi\\shawi-data\\103_tei_w\\Urfa-002b_Blood_feud_in_the_past.xml\n",
      "Urfa-002b_Blood_feud_in_the_past: done.\n",
      "Urfa-002c_The_incomplete_meal: C:\\Users\\mrauschsupola\\Shawi\\shawi-data\\103_tei_w\\2025-09-15_09-33\\ELAN_Urfa-002c_The_incomplete_meal.xml -> C:\\Users\\mrauschsupola\\Shawi\\shawi-data\\103_tei_w\\Urfa-002c_The_incomplete_meal.xml\n"
     ]
    },
    {
     "name": "stderr",
     "output_type": "stream",
     "text": [
      "2025-09-15 09:33:41,845 - XTMM9000: Processing terminated by xsl:message at line 34 in mergeHeaderAndTranscription.xsl. Line number: 34\n",
      "2025-09-15 09:33:41,845 - C:\\Users\\mrauschsupola\\Shawi\\shawi-data\\103_tei_w\\2025-09-15_09-33\\ELAN_Urfa-002c_The_incomplete_meal.xml - C:\\Users\\mrauschsupola\\Shawi\\shawi-data\\082_scripts_xsl\\mergeHeaderAndTranscription.xsl -> C:\\Users\\mrauschsupola\\Shawi\\shawi-data\\103_tei_w\\2025-09-15_09-33\\Urfa-002c_The_incomplete_meal_00_metaMerged.xml failed\n",
      "2025-09-15 09:33:41,855 - SXXP0003   Error reported by XML parser: Premature end of file.. Line number: -1\n",
      "2025-09-15 09:33:41,856 - C:\\Users\\mrauschsupola\\Shawi\\shawi-data\\103_tei_w\\2025-09-15_09-33\\Urfa-002c_The_incomplete_meal_00_metaMerged.xml - C:\\Users\\mrauschsupola\\Shawi\\shawi-data\\080_scripts_generic\\080_01_ELAN2TEI\\tokenizer\\xsl\\rmNl.xsl -> C:\\Users\\mrauschsupola\\Shawi\\shawi-data\\103_tei_w\\2025-09-15_09-33\\Urfa-002c_The_incomplete_meal_01_nlRmd.xml failed\n",
      "2025-09-15 09:33:41,856 - there was an error transforming ../../103_tei_w/2025-09-15_09-33/Urfa-002c_The_incomplete_meal_00_metaMerged.xml with stylesheet ./tokenizer/xsl/rmNl.xsl\n",
      "2025-09-15 09:33:41,860 - Unable to resolve <C:\\Users\\mrauschsupola\\Shawi\\shawi-data\\103_tei_w\\2025-09-15_09-33\\Urfa-002c_The_incomplete_meal_01_nlRmd.xml> into a Source. Line number: -1\n",
      "2025-09-15 09:33:41,864 - C:\\Users\\mrauschsupola\\Shawi\\shawi-data\\103_tei_w\\2025-09-15_09-33\\Urfa-002c_The_incomplete_meal_01_nlRmd.xml - C:\\Users\\mrauschsupola\\Shawi\\shawi-data\\080_scripts_generic\\080_01_ELAN2TEI\\tokenizer\\wrapper_toks.xsl -> C:\\Users\\mrauschsupola\\Shawi\\shawi-data\\103_tei_w\\2025-09-15_09-33\\Urfa-002c_The_incomplete_meal_02_toks.xml failed\n",
      "2025-09-15 09:33:41,864 - there was an error transforming ../../103_tei_w/2025-09-15_09-33/Urfa-002c_The_incomplete_meal_01_nlRmd.xml with stylesheet ./tokenizer/wrapper_toks.xsl\n",
      "2025-09-15 09:33:41,876 - Unable to resolve <C:\\Users\\mrauschsupola\\Shawi\\shawi-data\\103_tei_w\\2025-09-15_09-33\\Urfa-002c_The_incomplete_meal_02_toks.xml> into a Source. Line number: -1\n",
      "2025-09-15 09:33:41,877 - C:\\Users\\mrauschsupola\\Shawi\\shawi-data\\103_tei_w\\2025-09-15_09-33\\Urfa-002c_The_incomplete_meal_02_toks.xml - C:\\Users\\mrauschsupola\\Shawi\\shawi-data\\080_scripts_generic\\080_01_ELAN2TEI\\tokenizer\\wrapper_addP.xsl -> C:\\Users\\mrauschsupola\\Shawi\\shawi-data\\103_tei_w\\2025-09-15_09-33\\Urfa-002c_The_incomplete_meal_03_tokenized.xml failed\n",
      "2025-09-15 09:33:41,878 - there was an error transforming ../../103_tei_w/2025-09-15_09-33/Urfa-002c_The_incomplete_meal_02_toks.xml with stylesheet ./tokenizer/wrapper_addP.xsl\n",
      "2025-09-15 09:33:41,884 - Unable to resolve <C:\\Users\\mrauschsupola\\Shawi\\shawi-data\\103_tei_w\\2025-09-15_09-33\\Urfa-002c_The_incomplete_meal_03_tokenized.xml> into a Source. Line number: -1\n",
      "2025-09-15 09:33:41,885 - C:\\Users\\mrauschsupola\\Shawi\\shawi-data\\103_tei_w\\2025-09-15_09-33\\Urfa-002c_The_incomplete_meal_03_tokenized.xml - C:\\Users\\mrauschsupola\\Shawi\\shawi-data\\080_scripts_generic\\080_01_ELAN2TEI\\tokenizer\\postTokenization\\1.xsl -> C:\\Users\\mrauschsupola\\Shawi\\shawi-data\\103_tei_w\\2025-09-15_09-33\\Urfa-002c_The_incomplete_meal_04_posttok.xml failed\n",
      "2025-09-15 09:33:41,885 - there was an error transforming ../../103_tei_w/2025-09-15_09-33/Urfa-002c_The_incomplete_meal_03_tokenized.xml with stylesheet ./tokenizer/postTokenization/1.xsl\n",
      "2025-09-15 09:33:41,891 - XTSE0020: Serialization parameter Q{.../saxon.sf.net/}line-length is not available in Saxon-HE\n",
      "\n",
      "2025-09-15 09:33:41,891 - C:\\Users\\mrauschsupola\\Shawi\\shawi-data\\103_tei_w\\2025-09-15_09-33\\Urfa-002c_The_incomplete_meal_04_posttok.xml - C:\\Users\\mrauschsupola\\Shawi\\shawi-data\\080_scripts_generic\\080_01_ELAN2TEI\\tokenizer\\annotationBlock2div.xsl -> C:\\Users\\mrauschsupola\\Shawi\\shawi-data\\103_tei_w\\2025-09-15_09-33\\Urfa-002c_The_incomplete_meal_05_ab2div.xml failed\n",
      "2025-09-15 09:33:41,891 - there was an error transforming ../../103_tei_w/2025-09-15_09-33/Urfa-002c_The_incomplete_meal_04_posttok.xml with stylesheet ./tokenizer/annotationBlock2div.xsl\n",
      "2025-09-15 09:33:41,891 - Unable to resolve <C:\\Users\\mrauschsupola\\Shawi\\shawi-data\\103_tei_w\\2025-09-15_09-33\\Urfa-002c_The_incomplete_meal_05_ab2div.xml> into a Source. Line number: -1\n",
      "2025-09-15 09:33:41,899 - C:\\Users\\mrauschsupola\\Shawi\\shawi-data\\103_tei_w\\2025-09-15_09-33\\Urfa-002c_The_incomplete_meal_05_ab2div.xml - C:\\Users\\mrauschsupola\\Shawi\\shawi-data\\080_scripts_generic\\080_01_ELAN2TEI\\tokenizer\\custom_xtoks2tei.xsl -> C:\\Users\\mrauschsupola\\Shawi\\shawi-data\\103_tei_w\\Urfa-002c_The_incomplete_meal.xml failed\n",
      "2025-09-15 09:33:41,899 - there was an error transforming ../../103_tei_w/2025-09-15_09-33/Urfa-002c_The_incomplete_meal_05_ab2div.xml with stylesheet ./tokenizer/custom_xtoks2tei.xsl\n",
      "2025-09-15 09:33:42,126 - XTMM9000: Processing terminated by xsl:message at line 34 in mergeHeaderAndTranscription.xsl. Line number: 34\n",
      "2025-09-15 09:33:42,126 - C:\\Users\\mrauschsupola\\Shawi\\shawi-data\\103_tei_w\\2025-09-15_09-33\\ELAN_Urfa-002d_The_bull_in_the_jar.xml - C:\\Users\\mrauschsupola\\Shawi\\shawi-data\\082_scripts_xsl\\mergeHeaderAndTranscription.xsl -> C:\\Users\\mrauschsupola\\Shawi\\shawi-data\\103_tei_w\\2025-09-15_09-33\\Urfa-002d_The_bull_in_the_jar_00_metaMerged.xml failed\n",
      "2025-09-15 09:33:42,139 - SXXP0003   Error reported by XML parser: Premature end of file.. Line number: -1\n",
      "2025-09-15 09:33:42,139 - C:\\Users\\mrauschsupola\\Shawi\\shawi-data\\103_tei_w\\2025-09-15_09-33\\Urfa-002d_The_bull_in_the_jar_00_metaMerged.xml - C:\\Users\\mrauschsupola\\Shawi\\shawi-data\\080_scripts_generic\\080_01_ELAN2TEI\\tokenizer\\xsl\\rmNl.xsl -> C:\\Users\\mrauschsupola\\Shawi\\shawi-data\\103_tei_w\\2025-09-15_09-33\\Urfa-002d_The_bull_in_the_jar_01_nlRmd.xml failed\n",
      "2025-09-15 09:33:42,140 - there was an error transforming ../../103_tei_w/2025-09-15_09-33/Urfa-002d_The_bull_in_the_jar_00_metaMerged.xml with stylesheet ./tokenizer/xsl/rmNl.xsl\n",
      "2025-09-15 09:33:42,147 - Unable to resolve <C:\\Users\\mrauschsupola\\Shawi\\shawi-data\\103_tei_w\\2025-09-15_09-33\\Urfa-002d_The_bull_in_the_jar_01_nlRmd.xml> into a Source. Line number: -1\n",
      "2025-09-15 09:33:42,148 - C:\\Users\\mrauschsupola\\Shawi\\shawi-data\\103_tei_w\\2025-09-15_09-33\\Urfa-002d_The_bull_in_the_jar_01_nlRmd.xml - C:\\Users\\mrauschsupola\\Shawi\\shawi-data\\080_scripts_generic\\080_01_ELAN2TEI\\tokenizer\\wrapper_toks.xsl -> C:\\Users\\mrauschsupola\\Shawi\\shawi-data\\103_tei_w\\2025-09-15_09-33\\Urfa-002d_The_bull_in_the_jar_02_toks.xml failed\n",
      "2025-09-15 09:33:42,148 - there was an error transforming ../../103_tei_w/2025-09-15_09-33/Urfa-002d_The_bull_in_the_jar_01_nlRmd.xml with stylesheet ./tokenizer/wrapper_toks.xsl\n",
      "2025-09-15 09:33:42,160 - Unable to resolve <C:\\Users\\mrauschsupola\\Shawi\\shawi-data\\103_tei_w\\2025-09-15_09-33\\Urfa-002d_The_bull_in_the_jar_02_toks.xml> into a Source. Line number: -1\n",
      "2025-09-15 09:33:42,160 - C:\\Users\\mrauschsupola\\Shawi\\shawi-data\\103_tei_w\\2025-09-15_09-33\\Urfa-002d_The_bull_in_the_jar_02_toks.xml - C:\\Users\\mrauschsupola\\Shawi\\shawi-data\\080_scripts_generic\\080_01_ELAN2TEI\\tokenizer\\wrapper_addP.xsl -> C:\\Users\\mrauschsupola\\Shawi\\shawi-data\\103_tei_w\\2025-09-15_09-33\\Urfa-002d_The_bull_in_the_jar_03_tokenized.xml failed\n",
      "2025-09-15 09:33:42,161 - there was an error transforming ../../103_tei_w/2025-09-15_09-33/Urfa-002d_The_bull_in_the_jar_02_toks.xml with stylesheet ./tokenizer/wrapper_addP.xsl\n",
      "2025-09-15 09:33:42,166 - Unable to resolve <C:\\Users\\mrauschsupola\\Shawi\\shawi-data\\103_tei_w\\2025-09-15_09-33\\Urfa-002d_The_bull_in_the_jar_03_tokenized.xml> into a Source. Line number: -1\n",
      "2025-09-15 09:33:42,167 - C:\\Users\\mrauschsupola\\Shawi\\shawi-data\\103_tei_w\\2025-09-15_09-33\\Urfa-002d_The_bull_in_the_jar_03_tokenized.xml - C:\\Users\\mrauschsupola\\Shawi\\shawi-data\\080_scripts_generic\\080_01_ELAN2TEI\\tokenizer\\postTokenization\\1.xsl -> C:\\Users\\mrauschsupola\\Shawi\\shawi-data\\103_tei_w\\2025-09-15_09-33\\Urfa-002d_The_bull_in_the_jar_04_posttok.xml failed\n",
      "2025-09-15 09:33:42,168 - there was an error transforming ../../103_tei_w/2025-09-15_09-33/Urfa-002d_The_bull_in_the_jar_03_tokenized.xml with stylesheet ./tokenizer/postTokenization/1.xsl\n",
      "2025-09-15 09:33:42,170 - XTSE0020: Serialization parameter Q{.../saxon.sf.net/}line-length is not available in Saxon-HE\n",
      "\n",
      "2025-09-15 09:33:42,171 - C:\\Users\\mrauschsupola\\Shawi\\shawi-data\\103_tei_w\\2025-09-15_09-33\\Urfa-002d_The_bull_in_the_jar_04_posttok.xml - C:\\Users\\mrauschsupola\\Shawi\\shawi-data\\080_scripts_generic\\080_01_ELAN2TEI\\tokenizer\\annotationBlock2div.xsl -> C:\\Users\\mrauschsupola\\Shawi\\shawi-data\\103_tei_w\\2025-09-15_09-33\\Urfa-002d_The_bull_in_the_jar_05_ab2div.xml failed\n",
      "2025-09-15 09:33:42,172 - there was an error transforming ../../103_tei_w/2025-09-15_09-33/Urfa-002d_The_bull_in_the_jar_04_posttok.xml with stylesheet ./tokenizer/annotationBlock2div.xsl\n",
      "2025-09-15 09:33:42,176 - Unable to resolve <C:\\Users\\mrauschsupola\\Shawi\\shawi-data\\103_tei_w\\2025-09-15_09-33\\Urfa-002d_The_bull_in_the_jar_05_ab2div.xml> into a Source. Line number: -1\n",
      "2025-09-15 09:33:42,176 - C:\\Users\\mrauschsupola\\Shawi\\shawi-data\\103_tei_w\\2025-09-15_09-33\\Urfa-002d_The_bull_in_the_jar_05_ab2div.xml - C:\\Users\\mrauschsupola\\Shawi\\shawi-data\\080_scripts_generic\\080_01_ELAN2TEI\\tokenizer\\custom_xtoks2tei.xsl -> C:\\Users\\mrauschsupola\\Shawi\\shawi-data\\103_tei_w\\Urfa-002d_The_bull_in_the_jar.xml failed\n",
      "2025-09-15 09:33:42,177 - there was an error transforming ../../103_tei_w/2025-09-15_09-33/Urfa-002d_The_bull_in_the_jar_05_ab2div.xml with stylesheet ./tokenizer/custom_xtoks2tei.xsl\n"
     ]
    },
    {
     "name": "stdout",
     "output_type": "stream",
     "text": [
      "Urfa-002c_The_incomplete_meal: done.\n",
      "Urfa-002d_The_bull_in_the_jar: C:\\Users\\mrauschsupola\\Shawi\\shawi-data\\103_tei_w\\2025-09-15_09-33\\ELAN_Urfa-002d_The_bull_in_the_jar.xml -> C:\\Users\\mrauschsupola\\Shawi\\shawi-data\\103_tei_w\\Urfa-002d_The_bull_in_the_jar.xml\n",
      "Urfa-002d_The_bull_in_the_jar: done.\n",
      "Urfa-011_Cemetry-Harran-2010: C:\\Users\\mrauschsupola\\Shawi\\shawi-data\\103_tei_w\\2025-09-15_09-33\\ELAN_Urfa-011_Cemetry-Harran-2010.xml -> C:\\Users\\mrauschsupola\\Shawi\\shawi-data\\103_tei_w\\Urfa-011_Cemetry-Harran-2010.xml\n"
     ]
    },
    {
     "name": "stderr",
     "output_type": "stream",
     "text": [
      "2025-09-15 09:33:42,823 - XTSE0020: Serialization parameter Q{.../saxon.sf.net/}line-length is not available in Saxon-HE\n",
      "\n",
      "2025-09-15 09:33:42,823 - C:\\Users\\mrauschsupola\\Shawi\\shawi-data\\103_tei_w\\2025-09-15_09-33\\Urfa-011_Cemetry-Harran-2010_04_posttok.xml - C:\\Users\\mrauschsupola\\Shawi\\shawi-data\\080_scripts_generic\\080_01_ELAN2TEI\\tokenizer\\annotationBlock2div.xsl -> C:\\Users\\mrauschsupola\\Shawi\\shawi-data\\103_tei_w\\2025-09-15_09-33\\Urfa-011_Cemetry-Harran-2010_05_ab2div.xml failed\n",
      "2025-09-15 09:33:42,823 - there was an error transforming ../../103_tei_w/2025-09-15_09-33/Urfa-011_Cemetry-Harran-2010_04_posttok.xml with stylesheet ./tokenizer/annotationBlock2div.xsl\n",
      "2025-09-15 09:33:42,837 - Unable to resolve <C:\\Users\\mrauschsupola\\Shawi\\shawi-data\\103_tei_w\\2025-09-15_09-33\\Urfa-011_Cemetry-Harran-2010_05_ab2div.xml> into a Source. Line number: -1\n",
      "2025-09-15 09:33:42,839 - C:\\Users\\mrauschsupola\\Shawi\\shawi-data\\103_tei_w\\2025-09-15_09-33\\Urfa-011_Cemetry-Harran-2010_05_ab2div.xml - C:\\Users\\mrauschsupola\\Shawi\\shawi-data\\080_scripts_generic\\080_01_ELAN2TEI\\tokenizer\\custom_xtoks2tei.xsl -> C:\\Users\\mrauschsupola\\Shawi\\shawi-data\\103_tei_w\\Urfa-011_Cemetry-Harran-2010.xml failed\n"
     ]
    },
    {
     "name": "stdout",
     "output_type": "stream",
     "text": [
      "Urfa-011_Cemetry-Harran-2010: done.\n",
      "Urfa-012_Lentils-Harran-2010: C:\\Users\\mrauschsupola\\Shawi\\shawi-data\\103_tei_w\\2025-09-15_09-33\\ELAN_Urfa-012_Lentils-Harran-2010.xml -> C:\\Users\\mrauschsupola\\Shawi\\shawi-data\\103_tei_w\\Urfa-012_Lentils-Harran-2010.xml\n"
     ]
    },
    {
     "name": "stderr",
     "output_type": "stream",
     "text": [
      "2025-09-15 09:33:43,344 - XTSE0020: Serialization parameter Q{.../saxon.sf.net/}line-length is not available in Saxon-HE\n",
      "\n",
      "2025-09-15 09:33:43,344 - C:\\Users\\mrauschsupola\\Shawi\\shawi-data\\103_tei_w\\2025-09-15_09-33\\Urfa-012_Lentils-Harran-2010_04_posttok.xml - C:\\Users\\mrauschsupola\\Shawi\\shawi-data\\080_scripts_generic\\080_01_ELAN2TEI\\tokenizer\\annotationBlock2div.xsl -> C:\\Users\\mrauschsupola\\Shawi\\shawi-data\\103_tei_w\\2025-09-15_09-33\\Urfa-012_Lentils-Harran-2010_05_ab2div.xml failed\n",
      "2025-09-15 09:33:43,344 - there was an error transforming ../../103_tei_w/2025-09-15_09-33/Urfa-012_Lentils-Harran-2010_04_posttok.xml with stylesheet ./tokenizer/annotationBlock2div.xsl\n",
      "2025-09-15 09:33:43,353 - Unable to resolve <C:\\Users\\mrauschsupola\\Shawi\\shawi-data\\103_tei_w\\2025-09-15_09-33\\Urfa-012_Lentils-Harran-2010_05_ab2div.xml> into a Source. Line number: -1\n",
      "2025-09-15 09:33:43,354 - C:\\Users\\mrauschsupola\\Shawi\\shawi-data\\103_tei_w\\2025-09-15_09-33\\Urfa-012_Lentils-Harran-2010_05_ab2div.xml - C:\\Users\\mrauschsupola\\Shawi\\shawi-data\\080_scripts_generic\\080_01_ELAN2TEI\\tokenizer\\custom_xtoks2tei.xsl -> C:\\Users\\mrauschsupola\\Shawi\\shawi-data\\103_tei_w\\Urfa-012_Lentils-Harran-2010.xml failed\n"
     ]
    },
    {
     "name": "stdout",
     "output_type": "stream",
     "text": [
      "Urfa-012_Lentils-Harran-2010: done.\n",
      "Urfa-014_Village_of_Qoran-Harran-2010: C:\\Users\\mrauschsupola\\Shawi\\shawi-data\\103_tei_w\\2025-09-15_09-33\\ELAN_Urfa-014_Village_of_Qoran-Harran-2010.xml -> C:\\Users\\mrauschsupola\\Shawi\\shawi-data\\103_tei_w\\Urfa-014_Village_of_Qoran-Harran-2010.xml\n"
     ]
    },
    {
     "name": "stderr",
     "output_type": "stream",
     "text": [
      "2025-09-15 09:33:43,842 - XTSE0020: Serialization parameter Q{.../saxon.sf.net/}line-length is not available in Saxon-HE\n",
      "\n",
      "2025-09-15 09:33:43,842 - C:\\Users\\mrauschsupola\\Shawi\\shawi-data\\103_tei_w\\2025-09-15_09-33\\Urfa-014_Village_of_Qoran-Harran-2010_04_posttok.xml - C:\\Users\\mrauschsupola\\Shawi\\shawi-data\\080_scripts_generic\\080_01_ELAN2TEI\\tokenizer\\annotationBlock2div.xsl -> C:\\Users\\mrauschsupola\\Shawi\\shawi-data\\103_tei_w\\2025-09-15_09-33\\Urfa-014_Village_of_Qoran-Harran-2010_05_ab2div.xml failed\n",
      "2025-09-15 09:33:43,842 - there was an error transforming ../../103_tei_w/2025-09-15_09-33/Urfa-014_Village_of_Qoran-Harran-2010_04_posttok.xml with stylesheet ./tokenizer/annotationBlock2div.xsl\n",
      "2025-09-15 09:33:43,851 - Unable to resolve <C:\\Users\\mrauschsupola\\Shawi\\shawi-data\\103_tei_w\\2025-09-15_09-33\\Urfa-014_Village_of_Qoran-Harran-2010_05_ab2div.xml> into a Source. Line number: -1\n",
      "2025-09-15 09:33:43,852 - C:\\Users\\mrauschsupola\\Shawi\\shawi-data\\103_tei_w\\2025-09-15_09-33\\Urfa-014_Village_of_Qoran-Harran-2010_05_ab2div.xml - C:\\Users\\mrauschsupola\\Shawi\\shawi-data\\080_scripts_generic\\080_01_ELAN2TEI\\tokenizer\\custom_xtoks2tei.xsl -> C:\\Users\\mrauschsupola\\Shawi\\shawi-data\\103_tei_w\\Urfa-014_Village_of_Qoran-Harran-2010.xml failed\n"
     ]
    },
    {
     "name": "stdout",
     "output_type": "stream",
     "text": [
      "Urfa-014_Village_of_Qoran-Harran-2010: done.\n",
      "Urfa-024a_Vegetabels_and_Seasonal_Work-Harran-2010: C:\\Users\\mrauschsupola\\Shawi\\shawi-data\\103_tei_w\\2025-09-15_09-33\\ELAN_Urfa-024a_Vegetabels_and_Seasonal_Work-Harran-2010.xml -> C:\\Users\\mrauschsupola\\Shawi\\shawi-data\\103_tei_w\\Urfa-024a_Vegetabels_and_Seasonal_Work-Harran-2010.xml\n"
     ]
    },
    {
     "name": "stderr",
     "output_type": "stream",
     "text": [
      "2025-09-15 09:33:44,559 - XTSE0020: Serialization parameter Q{.../saxon.sf.net/}line-length is not available in Saxon-HE\n",
      "\n",
      "2025-09-15 09:33:44,559 - C:\\Users\\mrauschsupola\\Shawi\\shawi-data\\103_tei_w\\2025-09-15_09-33\\Urfa-024a_Vegetabels_and_Seasonal_Work-Harran-2010_04_posttok.xml - C:\\Users\\mrauschsupola\\Shawi\\shawi-data\\080_scripts_generic\\080_01_ELAN2TEI\\tokenizer\\annotationBlock2div.xsl -> C:\\Users\\mrauschsupola\\Shawi\\shawi-data\\103_tei_w\\2025-09-15_09-33\\Urfa-024a_Vegetabels_and_Seasonal_Work-Harran-2010_05_ab2div.xml failed\n",
      "2025-09-15 09:33:44,564 - there was an error transforming ../../103_tei_w/2025-09-15_09-33/Urfa-024a_Vegetabels_and_Seasonal_Work-Harran-2010_04_posttok.xml with stylesheet ./tokenizer/annotationBlock2div.xsl\n",
      "2025-09-15 09:33:44,564 - Unable to resolve <C:\\Users\\mrauschsupola\\Shawi\\shawi-data\\103_tei_w\\2025-09-15_09-33\\Urfa-024a_Vegetabels_and_Seasonal_Work-Harran-2010_05_ab2div.xml> into a Source. Line number: -1\n",
      "2025-09-15 09:33:44,564 - C:\\Users\\mrauschsupola\\Shawi\\shawi-data\\103_tei_w\\2025-09-15_09-33\\Urfa-024a_Vegetabels_and_Seasonal_Work-Harran-2010_05_ab2div.xml - C:\\Users\\mrauschsupola\\Shawi\\shawi-data\\080_scripts_generic\\080_01_ELAN2TEI\\tokenizer\\custom_xtoks2tei.xsl -> C:\\Users\\mrauschsupola\\Shawi\\shawi-data\\103_tei_w\\Urfa-024a_Vegetabels_and_Seasonal_Work-Harran-2010.xml failed\n"
     ]
    },
    {
     "name": "stdout",
     "output_type": "stream",
     "text": [
      "Urfa-024a_Vegetabels_and_Seasonal_Work-Harran-2010: done.\n",
      "Urfa-024b_Vegetabels_and_Seasonal_Work-Harran-2010: C:\\Users\\mrauschsupola\\Shawi\\shawi-data\\103_tei_w\\2025-09-15_09-33\\ELAN_Urfa-024b_Vegetabels_and_Seasonal_Work-Harran-2010.xml -> C:\\Users\\mrauschsupola\\Shawi\\shawi-data\\103_tei_w\\Urfa-024b_Vegetabels_and_Seasonal_Work-Harran-2010.xml\n"
     ]
    },
    {
     "name": "stderr",
     "output_type": "stream",
     "text": [
      "2025-09-15 09:33:45,202 - XTSE0020: Serialization parameter Q{.../saxon.sf.net/}line-length is not available in Saxon-HE\n",
      "\n",
      "2025-09-15 09:33:45,202 - C:\\Users\\mrauschsupola\\Shawi\\shawi-data\\103_tei_w\\2025-09-15_09-33\\Urfa-024b_Vegetabels_and_Seasonal_Work-Harran-2010_04_posttok.xml - C:\\Users\\mrauschsupola\\Shawi\\shawi-data\\080_scripts_generic\\080_01_ELAN2TEI\\tokenizer\\annotationBlock2div.xsl -> C:\\Users\\mrauschsupola\\Shawi\\shawi-data\\103_tei_w\\2025-09-15_09-33\\Urfa-024b_Vegetabels_and_Seasonal_Work-Harran-2010_05_ab2div.xml failed\n",
      "2025-09-15 09:33:45,202 - there was an error transforming ../../103_tei_w/2025-09-15_09-33/Urfa-024b_Vegetabels_and_Seasonal_Work-Harran-2010_04_posttok.xml with stylesheet ./tokenizer/annotationBlock2div.xsl\n",
      "2025-09-15 09:33:45,213 - Unable to resolve <C:\\Users\\mrauschsupola\\Shawi\\shawi-data\\103_tei_w\\2025-09-15_09-33\\Urfa-024b_Vegetabels_and_Seasonal_Work-Harran-2010_05_ab2div.xml> into a Source. Line number: -1\n",
      "2025-09-15 09:33:45,214 - C:\\Users\\mrauschsupola\\Shawi\\shawi-data\\103_tei_w\\2025-09-15_09-33\\Urfa-024b_Vegetabels_and_Seasonal_Work-Harran-2010_05_ab2div.xml - C:\\Users\\mrauschsupola\\Shawi\\shawi-data\\080_scripts_generic\\080_01_ELAN2TEI\\tokenizer\\custom_xtoks2tei.xsl -> C:\\Users\\mrauschsupola\\Shawi\\shawi-data\\103_tei_w\\Urfa-024b_Vegetabels_and_Seasonal_Work-Harran-2010.xml failed\n",
      "2025-09-15 09:33:45,599 - XTSE0020: Serialization parameter Q{.../saxon.sf.net/}line-length is not available in Saxon-HE\n",
      "\n",
      "2025-09-15 09:33:45,599 - C:\\Users\\mrauschsupola\\Shawi\\shawi-data\\103_tei_w\\2025-09-15_09-33\\Urfa-027_Cultivation-Harran-2010_04_posttok.xml - C:\\Users\\mrauschsupola\\Shawi\\shawi-data\\080_scripts_generic\\080_01_ELAN2TEI\\tokenizer\\annotationBlock2div.xsl -> C:\\Users\\mrauschsupola\\Shawi\\shawi-data\\103_tei_w\\2025-09-15_09-33\\Urfa-027_Cultivation-Harran-2010_05_ab2div.xml failed\n",
      "2025-09-15 09:33:45,599 - there was an error transforming ../../103_tei_w/2025-09-15_09-33/Urfa-027_Cultivation-Harran-2010_04_posttok.xml with stylesheet ./tokenizer/annotationBlock2div.xsl\n",
      "2025-09-15 09:33:45,618 - Unable to resolve <C:\\Users\\mrauschsupola\\Shawi\\shawi-data\\103_tei_w\\2025-09-15_09-33\\Urfa-027_Cultivation-Harran-2010_05_ab2div.xml> into a Source. Line number: -1\n",
      "2025-09-15 09:33:45,618 - C:\\Users\\mrauschsupola\\Shawi\\shawi-data\\103_tei_w\\2025-09-15_09-33\\Urfa-027_Cultivation-Harran-2010_05_ab2div.xml - C:\\Users\\mrauschsupola\\Shawi\\shawi-data\\080_scripts_generic\\080_01_ELAN2TEI\\tokenizer\\custom_xtoks2tei.xsl -> C:\\Users\\mrauschsupola\\Shawi\\shawi-data\\103_tei_w\\Urfa-027_Cultivation-Harran-2010.xml failed\n"
     ]
    },
    {
     "name": "stdout",
     "output_type": "stream",
     "text": [
      "Urfa-024b_Vegetabels_and_Seasonal_Work-Harran-2010: done.\n",
      "Urfa-027_Cultivation-Harran-2010: C:\\Users\\mrauschsupola\\Shawi\\shawi-data\\103_tei_w\\2025-09-15_09-33\\ELAN_Urfa-027_Cultivation-Harran-2010.xml -> C:\\Users\\mrauschsupola\\Shawi\\shawi-data\\103_tei_w\\Urfa-027_Cultivation-Harran-2010.xml\n",
      "Urfa-027_Cultivation-Harran-2010: done.\n",
      "Urfa-029_Smoking-Harran-2010: C:\\Users\\mrauschsupola\\Shawi\\shawi-data\\103_tei_w\\2025-09-15_09-33\\ELAN_Urfa-029_Smoking-Harran-2010.xml -> C:\\Users\\mrauschsupola\\Shawi\\shawi-data\\103_tei_w\\Urfa-029_Smoking-Harran-2010.xml\n"
     ]
    },
    {
     "name": "stderr",
     "output_type": "stream",
     "text": [
      "2025-09-15 09:33:46,013 - XTSE0020: Serialization parameter Q{.../saxon.sf.net/}line-length is not available in Saxon-HE\n",
      "\n",
      "2025-09-15 09:33:46,013 - C:\\Users\\mrauschsupola\\Shawi\\shawi-data\\103_tei_w\\2025-09-15_09-33\\Urfa-029_Smoking-Harran-2010_04_posttok.xml - C:\\Users\\mrauschsupola\\Shawi\\shawi-data\\080_scripts_generic\\080_01_ELAN2TEI\\tokenizer\\annotationBlock2div.xsl -> C:\\Users\\mrauschsupola\\Shawi\\shawi-data\\103_tei_w\\2025-09-15_09-33\\Urfa-029_Smoking-Harran-2010_05_ab2div.xml failed\n",
      "2025-09-15 09:33:46,013 - there was an error transforming ../../103_tei_w/2025-09-15_09-33/Urfa-029_Smoking-Harran-2010_04_posttok.xml with stylesheet ./tokenizer/annotationBlock2div.xsl\n",
      "2025-09-15 09:33:46,021 - Unable to resolve <C:\\Users\\mrauschsupola\\Shawi\\shawi-data\\103_tei_w\\2025-09-15_09-33\\Urfa-029_Smoking-Harran-2010_05_ab2div.xml> into a Source. Line number: -1\n",
      "2025-09-15 09:33:46,022 - C:\\Users\\mrauschsupola\\Shawi\\shawi-data\\103_tei_w\\2025-09-15_09-33\\Urfa-029_Smoking-Harran-2010_05_ab2div.xml - C:\\Users\\mrauschsupola\\Shawi\\shawi-data\\080_scripts_generic\\080_01_ELAN2TEI\\tokenizer\\custom_xtoks2tei.xsl -> C:\\Users\\mrauschsupola\\Shawi\\shawi-data\\103_tei_w\\Urfa-029_Smoking-Harran-2010.xml failed\n"
     ]
    },
    {
     "name": "stdout",
     "output_type": "stream",
     "text": [
      "Urfa-029_Smoking-Harran-2010: done.\n",
      "Urfa-032_Ali-Harran-2010: C:\\Users\\mrauschsupola\\Shawi\\shawi-data\\103_tei_w\\2025-09-15_09-33\\ELAN_Urfa-032_Ali-Harran-2010.xml -> C:\\Users\\mrauschsupola\\Shawi\\shawi-data\\103_tei_w\\Urfa-032_Ali-Harran-2010.xml\n"
     ]
    },
    {
     "name": "stderr",
     "output_type": "stream",
     "text": [
      "2025-09-15 09:33:46,849 - XTSE0020: Serialization parameter Q{.../saxon.sf.net/}line-length is not available in Saxon-HE\n",
      "\n",
      "2025-09-15 09:33:46,849 - C:\\Users\\mrauschsupola\\Shawi\\shawi-data\\103_tei_w\\2025-09-15_09-33\\Urfa-032_Ali-Harran-2010_04_posttok.xml - C:\\Users\\mrauschsupola\\Shawi\\shawi-data\\080_scripts_generic\\080_01_ELAN2TEI\\tokenizer\\annotationBlock2div.xsl -> C:\\Users\\mrauschsupola\\Shawi\\shawi-data\\103_tei_w\\2025-09-15_09-33\\Urfa-032_Ali-Harran-2010_05_ab2div.xml failed\n",
      "2025-09-15 09:33:46,849 - there was an error transforming ../../103_tei_w/2025-09-15_09-33/Urfa-032_Ali-Harran-2010_04_posttok.xml with stylesheet ./tokenizer/annotationBlock2div.xsl\n",
      "2025-09-15 09:33:46,867 - Unable to resolve <C:\\Users\\mrauschsupola\\Shawi\\shawi-data\\103_tei_w\\2025-09-15_09-33\\Urfa-032_Ali-Harran-2010_05_ab2div.xml> into a Source. Line number: -1\n",
      "2025-09-15 09:33:46,868 - C:\\Users\\mrauschsupola\\Shawi\\shawi-data\\103_tei_w\\2025-09-15_09-33\\Urfa-032_Ali-Harran-2010_05_ab2div.xml - C:\\Users\\mrauschsupola\\Shawi\\shawi-data\\080_scripts_generic\\080_01_ELAN2TEI\\tokenizer\\custom_xtoks2tei.xsl -> C:\\Users\\mrauschsupola\\Shawi\\shawi-data\\103_tei_w\\Urfa-032_Ali-Harran-2010.xml failed\n"
     ]
    },
    {
     "name": "stdout",
     "output_type": "stream",
     "text": [
      "Urfa-032_Ali-Harran-2010: done.\n",
      "Urfa-033_Sheikh_Nifil-Harran-2010: C:\\Users\\mrauschsupola\\Shawi\\shawi-data\\103_tei_w\\2025-09-15_09-33\\ELAN_Urfa-033_Sheikh_Nifil-Harran-2010.xml -> C:\\Users\\mrauschsupola\\Shawi\\shawi-data\\103_tei_w\\Urfa-033_Sheikh_Nifil-Harran-2010.xml\n"
     ]
    },
    {
     "name": "stderr",
     "output_type": "stream",
     "text": [
      "2025-09-15 09:33:47,360 - XTSE0020: Serialization parameter Q{.../saxon.sf.net/}line-length is not available in Saxon-HE\n",
      "\n",
      "2025-09-15 09:33:47,360 - C:\\Users\\mrauschsupola\\Shawi\\shawi-data\\103_tei_w\\2025-09-15_09-33\\Urfa-033_Sheikh_Nifil-Harran-2010_04_posttok.xml - C:\\Users\\mrauschsupola\\Shawi\\shawi-data\\080_scripts_generic\\080_01_ELAN2TEI\\tokenizer\\annotationBlock2div.xsl -> C:\\Users\\mrauschsupola\\Shawi\\shawi-data\\103_tei_w\\2025-09-15_09-33\\Urfa-033_Sheikh_Nifil-Harran-2010_05_ab2div.xml failed\n",
      "2025-09-15 09:33:47,360 - there was an error transforming ../../103_tei_w/2025-09-15_09-33/Urfa-033_Sheikh_Nifil-Harran-2010_04_posttok.xml with stylesheet ./tokenizer/annotationBlock2div.xsl\n",
      "2025-09-15 09:33:47,365 - Unable to resolve <C:\\Users\\mrauschsupola\\Shawi\\shawi-data\\103_tei_w\\2025-09-15_09-33\\Urfa-033_Sheikh_Nifil-Harran-2010_05_ab2div.xml> into a Source. Line number: -1\n",
      "2025-09-15 09:33:47,366 - C:\\Users\\mrauschsupola\\Shawi\\shawi-data\\103_tei_w\\2025-09-15_09-33\\Urfa-033_Sheikh_Nifil-Harran-2010_05_ab2div.xml - C:\\Users\\mrauschsupola\\Shawi\\shawi-data\\080_scripts_generic\\080_01_ELAN2TEI\\tokenizer\\custom_xtoks2tei.xsl -> C:\\Users\\mrauschsupola\\Shawi\\shawi-data\\103_tei_w\\Urfa-033_Sheikh_Nifil-Harran-2010.xml failed\n"
     ]
    },
    {
     "name": "stdout",
     "output_type": "stream",
     "text": [
      "Urfa-033_Sheikh_Nifil-Harran-2010: done.\n",
      "Urfa-034_Liquorice-Harran-2010: C:\\Users\\mrauschsupola\\Shawi\\shawi-data\\103_tei_w\\2025-09-15_09-33\\ELAN_Urfa-034_Liquorice-Harran-2010.xml -> C:\\Users\\mrauschsupola\\Shawi\\shawi-data\\103_tei_w\\Urfa-034_Liquorice-Harran-2010.xml\n"
     ]
    },
    {
     "name": "stderr",
     "output_type": "stream",
     "text": [
      "2025-09-15 09:33:47,750 - XTSE0020: Serialization parameter Q{.../saxon.sf.net/}line-length is not available in Saxon-HE\n",
      "\n",
      "2025-09-15 09:33:47,750 - C:\\Users\\mrauschsupola\\Shawi\\shawi-data\\103_tei_w\\2025-09-15_09-33\\Urfa-034_Liquorice-Harran-2010_04_posttok.xml - C:\\Users\\mrauschsupola\\Shawi\\shawi-data\\080_scripts_generic\\080_01_ELAN2TEI\\tokenizer\\annotationBlock2div.xsl -> C:\\Users\\mrauschsupola\\Shawi\\shawi-data\\103_tei_w\\2025-09-15_09-33\\Urfa-034_Liquorice-Harran-2010_05_ab2div.xml failed\n",
      "2025-09-15 09:33:47,750 - there was an error transforming ../../103_tei_w/2025-09-15_09-33/Urfa-034_Liquorice-Harran-2010_04_posttok.xml with stylesheet ./tokenizer/annotationBlock2div.xsl\n",
      "2025-09-15 09:33:47,762 - Unable to resolve <C:\\Users\\mrauschsupola\\Shawi\\shawi-data\\103_tei_w\\2025-09-15_09-33\\Urfa-034_Liquorice-Harran-2010_05_ab2div.xml> into a Source. Line number: -1\n",
      "2025-09-15 09:33:47,763 - C:\\Users\\mrauschsupola\\Shawi\\shawi-data\\103_tei_w\\2025-09-15_09-33\\Urfa-034_Liquorice-Harran-2010_05_ab2div.xml - C:\\Users\\mrauschsupola\\Shawi\\shawi-data\\080_scripts_generic\\080_01_ELAN2TEI\\tokenizer\\custom_xtoks2tei.xsl -> C:\\Users\\mrauschsupola\\Shawi\\shawi-data\\103_tei_w\\Urfa-034_Liquorice-Harran-2010.xml failed\n"
     ]
    },
    {
     "name": "stdout",
     "output_type": "stream",
     "text": [
      "Urfa-034_Liquorice-Harran-2010: done.\n",
      "Urfa-042_Hospitality-Harran-2010: C:\\Users\\mrauschsupola\\Shawi\\shawi-data\\103_tei_w\\2025-09-15_09-33\\ELAN_Urfa-042_Hospitality-Harran-2010.xml -> C:\\Users\\mrauschsupola\\Shawi\\shawi-data\\103_tei_w\\Urfa-042_Hospitality-Harran-2010.xml\n"
     ]
    },
    {
     "name": "stderr",
     "output_type": "stream",
     "text": [
      "2025-09-15 09:33:48,531 - XTSE0020: Serialization parameter Q{.../saxon.sf.net/}line-length is not available in Saxon-HE\n",
      "\n",
      "2025-09-15 09:33:48,531 - C:\\Users\\mrauschsupola\\Shawi\\shawi-data\\103_tei_w\\2025-09-15_09-33\\Urfa-042_Hospitality-Harran-2010_04_posttok.xml - C:\\Users\\mrauschsupola\\Shawi\\shawi-data\\080_scripts_generic\\080_01_ELAN2TEI\\tokenizer\\annotationBlock2div.xsl -> C:\\Users\\mrauschsupola\\Shawi\\shawi-data\\103_tei_w\\2025-09-15_09-33\\Urfa-042_Hospitality-Harran-2010_05_ab2div.xml failed\n",
      "2025-09-15 09:33:48,531 - there was an error transforming ../../103_tei_w/2025-09-15_09-33/Urfa-042_Hospitality-Harran-2010_04_posttok.xml with stylesheet ./tokenizer/annotationBlock2div.xsl\n",
      "2025-09-15 09:33:48,540 - Unable to resolve <C:\\Users\\mrauschsupola\\Shawi\\shawi-data\\103_tei_w\\2025-09-15_09-33\\Urfa-042_Hospitality-Harran-2010_05_ab2div.xml> into a Source. Line number: -1\n",
      "2025-09-15 09:33:48,541 - C:\\Users\\mrauschsupola\\Shawi\\shawi-data\\103_tei_w\\2025-09-15_09-33\\Urfa-042_Hospitality-Harran-2010_05_ab2div.xml - C:\\Users\\mrauschsupola\\Shawi\\shawi-data\\080_scripts_generic\\080_01_ELAN2TEI\\tokenizer\\custom_xtoks2tei.xsl -> C:\\Users\\mrauschsupola\\Shawi\\shawi-data\\103_tei_w\\Urfa-042_Hospitality-Harran-2010.xml failed\n"
     ]
    },
    {
     "name": "stdout",
     "output_type": "stream",
     "text": [
      "Urfa-042_Hospitality-Harran-2010: done.\n",
      "Urfa-043_Truffle-Harran-2010: C:\\Users\\mrauschsupola\\Shawi\\shawi-data\\103_tei_w\\2025-09-15_09-33\\ELAN_Urfa-043_Truffle-Harran-2010.xml -> C:\\Users\\mrauschsupola\\Shawi\\shawi-data\\103_tei_w\\Urfa-043_Truffle-Harran-2010.xml\n"
     ]
    },
    {
     "name": "stderr",
     "output_type": "stream",
     "text": [
      "2025-09-15 09:33:48,933 - XTSE0020: Serialization parameter Q{.../saxon.sf.net/}line-length is not available in Saxon-HE\n",
      "\n",
      "2025-09-15 09:33:48,933 - C:\\Users\\mrauschsupola\\Shawi\\shawi-data\\103_tei_w\\2025-09-15_09-33\\Urfa-043_Truffle-Harran-2010_04_posttok.xml - C:\\Users\\mrauschsupola\\Shawi\\shawi-data\\080_scripts_generic\\080_01_ELAN2TEI\\tokenizer\\annotationBlock2div.xsl -> C:\\Users\\mrauschsupola\\Shawi\\shawi-data\\103_tei_w\\2025-09-15_09-33\\Urfa-043_Truffle-Harran-2010_05_ab2div.xml failed\n",
      "2025-09-15 09:33:48,933 - there was an error transforming ../../103_tei_w/2025-09-15_09-33/Urfa-043_Truffle-Harran-2010_04_posttok.xml with stylesheet ./tokenizer/annotationBlock2div.xsl\n",
      "2025-09-15 09:33:48,943 - Unable to resolve <C:\\Users\\mrauschsupola\\Shawi\\shawi-data\\103_tei_w\\2025-09-15_09-33\\Urfa-043_Truffle-Harran-2010_05_ab2div.xml> into a Source. Line number: -1\n",
      "2025-09-15 09:33:48,944 - C:\\Users\\mrauschsupola\\Shawi\\shawi-data\\103_tei_w\\2025-09-15_09-33\\Urfa-043_Truffle-Harran-2010_05_ab2div.xml - C:\\Users\\mrauschsupola\\Shawi\\shawi-data\\080_scripts_generic\\080_01_ELAN2TEI\\tokenizer\\custom_xtoks2tei.xsl -> C:\\Users\\mrauschsupola\\Shawi\\shawi-data\\103_tei_w\\Urfa-043_Truffle-Harran-2010.xml failed\n"
     ]
    },
    {
     "name": "stdout",
     "output_type": "stream",
     "text": [
      "Urfa-043_Truffle-Harran-2010: done.\n",
      "Urfa-044_Sacks-Harran-2010: C:\\Users\\mrauschsupola\\Shawi\\shawi-data\\103_tei_w\\2025-09-15_09-33\\ELAN_Urfa-044_Sacks-Harran-2010.xml -> C:\\Users\\mrauschsupola\\Shawi\\shawi-data\\103_tei_w\\Urfa-044_Sacks-Harran-2010.xml\n"
     ]
    },
    {
     "name": "stderr",
     "output_type": "stream",
     "text": [
      "2025-09-15 09:33:49,295 - XTSE0020: Serialization parameter Q{.../saxon.sf.net/}line-length is not available in Saxon-HE\n",
      "\n",
      "2025-09-15 09:33:49,295 - C:\\Users\\mrauschsupola\\Shawi\\shawi-data\\103_tei_w\\2025-09-15_09-33\\Urfa-044_Sacks-Harran-2010_04_posttok.xml - C:\\Users\\mrauschsupola\\Shawi\\shawi-data\\080_scripts_generic\\080_01_ELAN2TEI\\tokenizer\\annotationBlock2div.xsl -> C:\\Users\\mrauschsupola\\Shawi\\shawi-data\\103_tei_w\\2025-09-15_09-33\\Urfa-044_Sacks-Harran-2010_05_ab2div.xml failed\n",
      "2025-09-15 09:33:49,300 - there was an error transforming ../../103_tei_w/2025-09-15_09-33/Urfa-044_Sacks-Harran-2010_04_posttok.xml with stylesheet ./tokenizer/annotationBlock2div.xsl\n",
      "2025-09-15 09:33:49,303 - Unable to resolve <C:\\Users\\mrauschsupola\\Shawi\\shawi-data\\103_tei_w\\2025-09-15_09-33\\Urfa-044_Sacks-Harran-2010_05_ab2div.xml> into a Source. Line number: -1\n",
      "2025-09-15 09:33:49,304 - C:\\Users\\mrauschsupola\\Shawi\\shawi-data\\103_tei_w\\2025-09-15_09-33\\Urfa-044_Sacks-Harran-2010_05_ab2div.xml - C:\\Users\\mrauschsupola\\Shawi\\shawi-data\\080_scripts_generic\\080_01_ELAN2TEI\\tokenizer\\custom_xtoks2tei.xsl -> C:\\Users\\mrauschsupola\\Shawi\\shawi-data\\103_tei_w\\Urfa-044_Sacks-Harran-2010.xml failed\n"
     ]
    },
    {
     "name": "stdout",
     "output_type": "stream",
     "text": [
      "Urfa-044_Sacks-Harran-2010: done.\n",
      "Urfa-045_Gamra_Dariba-Harran-2010: C:\\Users\\mrauschsupola\\Shawi\\shawi-data\\103_tei_w\\2025-09-15_09-33\\ELAN_Urfa-045_Gamra_Dariba-Harran-2010.xml -> C:\\Users\\mrauschsupola\\Shawi\\shawi-data\\103_tei_w\\Urfa-045_Gamra_Dariba-Harran-2010.xml\n"
     ]
    },
    {
     "name": "stderr",
     "output_type": "stream",
     "text": [
      "2025-09-15 09:33:49,640 - XTSE0020: Serialization parameter Q{.../saxon.sf.net/}line-length is not available in Saxon-HE\n",
      "\n",
      "2025-09-15 09:33:49,641 - C:\\Users\\mrauschsupola\\Shawi\\shawi-data\\103_tei_w\\2025-09-15_09-33\\Urfa-045_Gamra_Dariba-Harran-2010_04_posttok.xml - C:\\Users\\mrauschsupola\\Shawi\\shawi-data\\080_scripts_generic\\080_01_ELAN2TEI\\tokenizer\\annotationBlock2div.xsl -> C:\\Users\\mrauschsupola\\Shawi\\shawi-data\\103_tei_w\\2025-09-15_09-33\\Urfa-045_Gamra_Dariba-Harran-2010_05_ab2div.xml failed\n",
      "2025-09-15 09:33:49,641 - there was an error transforming ../../103_tei_w/2025-09-15_09-33/Urfa-045_Gamra_Dariba-Harran-2010_04_posttok.xml with stylesheet ./tokenizer/annotationBlock2div.xsl\n",
      "2025-09-15 09:33:49,646 - Unable to resolve <C:\\Users\\mrauschsupola\\Shawi\\shawi-data\\103_tei_w\\2025-09-15_09-33\\Urfa-045_Gamra_Dariba-Harran-2010_05_ab2div.xml> into a Source. Line number: -1\n",
      "2025-09-15 09:33:49,647 - C:\\Users\\mrauschsupola\\Shawi\\shawi-data\\103_tei_w\\2025-09-15_09-33\\Urfa-045_Gamra_Dariba-Harran-2010_05_ab2div.xml - C:\\Users\\mrauschsupola\\Shawi\\shawi-data\\080_scripts_generic\\080_01_ELAN2TEI\\tokenizer\\custom_xtoks2tei.xsl -> C:\\Users\\mrauschsupola\\Shawi\\shawi-data\\103_tei_w\\Urfa-045_Gamra_Dariba-Harran-2010.xml failed\n"
     ]
    },
    {
     "name": "stdout",
     "output_type": "stream",
     "text": [
      "Urfa-045_Gamra_Dariba-Harran-2010: done.\n",
      "Urfa-046_Game_Xwetime-Harran-2010: C:\\Users\\mrauschsupola\\Shawi\\shawi-data\\103_tei_w\\2025-09-15_09-33\\ELAN_Urfa-046_Game_Xwetime-Harran-2010.xml -> C:\\Users\\mrauschsupola\\Shawi\\shawi-data\\103_tei_w\\Urfa-046_Game_Xwetime-Harran-2010.xml\n"
     ]
    },
    {
     "name": "stderr",
     "output_type": "stream",
     "text": [
      "2025-09-15 09:33:50,111 - XTSE0020: Serialization parameter Q{.../saxon.sf.net/}line-length is not available in Saxon-HE\n",
      "\n",
      "2025-09-15 09:33:50,124 - C:\\Users\\mrauschsupola\\Shawi\\shawi-data\\103_tei_w\\2025-09-15_09-33\\Urfa-046_Game_Xwetime-Harran-2010_04_posttok.xml - C:\\Users\\mrauschsupola\\Shawi\\shawi-data\\080_scripts_generic\\080_01_ELAN2TEI\\tokenizer\\annotationBlock2div.xsl -> C:\\Users\\mrauschsupola\\Shawi\\shawi-data\\103_tei_w\\2025-09-15_09-33\\Urfa-046_Game_Xwetime-Harran-2010_05_ab2div.xml failed\n",
      "2025-09-15 09:33:50,124 - there was an error transforming ../../103_tei_w/2025-09-15_09-33/Urfa-046_Game_Xwetime-Harran-2010_04_posttok.xml with stylesheet ./tokenizer/annotationBlock2div.xsl\n",
      "2025-09-15 09:33:50,127 - Unable to resolve <C:\\Users\\mrauschsupola\\Shawi\\shawi-data\\103_tei_w\\2025-09-15_09-33\\Urfa-046_Game_Xwetime-Harran-2010_05_ab2div.xml> into a Source. Line number: -1\n",
      "2025-09-15 09:33:50,128 - C:\\Users\\mrauschsupola\\Shawi\\shawi-data\\103_tei_w\\2025-09-15_09-33\\Urfa-046_Game_Xwetime-Harran-2010_05_ab2div.xml - C:\\Users\\mrauschsupola\\Shawi\\shawi-data\\080_scripts_generic\\080_01_ELAN2TEI\\tokenizer\\custom_xtoks2tei.xsl -> C:\\Users\\mrauschsupola\\Shawi\\shawi-data\\103_tei_w\\Urfa-046_Game_Xwetime-Harran-2010.xml failed\n"
     ]
    },
    {
     "name": "stdout",
     "output_type": "stream",
     "text": [
      "Urfa-046_Game_Xwetime-Harran-2010: done.\n",
      "Urfa-047_Game_Qubbeya-Harran-2010: C:\\Users\\mrauschsupola\\Shawi\\shawi-data\\103_tei_w\\2025-09-15_09-33\\ELAN_Urfa-047_Game_Qubbeya-Harran-2010.xml -> C:\\Users\\mrauschsupola\\Shawi\\shawi-data\\103_tei_w\\Urfa-047_Game_Qubbeya-Harran-2010.xml\n"
     ]
    },
    {
     "name": "stderr",
     "output_type": "stream",
     "text": [
      "2025-09-15 09:33:50,411 - XTSE0020: Serialization parameter Q{.../saxon.sf.net/}line-length is not available in Saxon-HE\n",
      "\n",
      "2025-09-15 09:33:50,411 - C:\\Users\\mrauschsupola\\Shawi\\shawi-data\\103_tei_w\\2025-09-15_09-33\\Urfa-047_Game_Qubbeya-Harran-2010_04_posttok.xml - C:\\Users\\mrauschsupola\\Shawi\\shawi-data\\080_scripts_generic\\080_01_ELAN2TEI\\tokenizer\\annotationBlock2div.xsl -> C:\\Users\\mrauschsupola\\Shawi\\shawi-data\\103_tei_w\\2025-09-15_09-33\\Urfa-047_Game_Qubbeya-Harran-2010_05_ab2div.xml failed\n",
      "2025-09-15 09:33:50,411 - there was an error transforming ../../103_tei_w/2025-09-15_09-33/Urfa-047_Game_Qubbeya-Harran-2010_04_posttok.xml with stylesheet ./tokenizer/annotationBlock2div.xsl\n",
      "2025-09-15 09:33:50,426 - Unable to resolve <C:\\Users\\mrauschsupola\\Shawi\\shawi-data\\103_tei_w\\2025-09-15_09-33\\Urfa-047_Game_Qubbeya-Harran-2010_05_ab2div.xml> into a Source. Line number: -1\n",
      "2025-09-15 09:33:50,426 - C:\\Users\\mrauschsupola\\Shawi\\shawi-data\\103_tei_w\\2025-09-15_09-33\\Urfa-047_Game_Qubbeya-Harran-2010_05_ab2div.xml - C:\\Users\\mrauschsupola\\Shawi\\shawi-data\\080_scripts_generic\\080_01_ELAN2TEI\\tokenizer\\custom_xtoks2tei.xsl -> C:\\Users\\mrauschsupola\\Shawi\\shawi-data\\103_tei_w\\Urfa-047_Game_Qubbeya-Harran-2010.xml failed\n"
     ]
    },
    {
     "name": "stdout",
     "output_type": "stream",
     "text": [
      "Urfa-047_Game_Qubbeya-Harran-2010: done.\n",
      "Urfa-048_Game_Cab-Harran-2010: C:\\Users\\mrauschsupola\\Shawi\\shawi-data\\103_tei_w\\2025-09-15_09-33\\ELAN_Urfa-048_Game_Cab-Harran-2010.xml -> C:\\Users\\mrauschsupola\\Shawi\\shawi-data\\103_tei_w\\Urfa-048_Game_Cab-Harran-2010.xml\n"
     ]
    },
    {
     "name": "stderr",
     "output_type": "stream",
     "text": [
      "2025-09-15 09:33:50,752 - XTSE0020: Serialization parameter Q{.../saxon.sf.net/}line-length is not available in Saxon-HE\n",
      "\n",
      "2025-09-15 09:33:50,754 - C:\\Users\\mrauschsupola\\Shawi\\shawi-data\\103_tei_w\\2025-09-15_09-33\\Urfa-048_Game_Cab-Harran-2010_04_posttok.xml - C:\\Users\\mrauschsupola\\Shawi\\shawi-data\\080_scripts_generic\\080_01_ELAN2TEI\\tokenizer\\annotationBlock2div.xsl -> C:\\Users\\mrauschsupola\\Shawi\\shawi-data\\103_tei_w\\2025-09-15_09-33\\Urfa-048_Game_Cab-Harran-2010_05_ab2div.xml failed\n",
      "2025-09-15 09:33:50,755 - there was an error transforming ../../103_tei_w/2025-09-15_09-33/Urfa-048_Game_Cab-Harran-2010_04_posttok.xml with stylesheet ./tokenizer/annotationBlock2div.xsl\n",
      "2025-09-15 09:33:50,774 - Unable to resolve <C:\\Users\\mrauschsupola\\Shawi\\shawi-data\\103_tei_w\\2025-09-15_09-33\\Urfa-048_Game_Cab-Harran-2010_05_ab2div.xml> into a Source. Line number: -1\n",
      "2025-09-15 09:33:50,774 - C:\\Users\\mrauschsupola\\Shawi\\shawi-data\\103_tei_w\\2025-09-15_09-33\\Urfa-048_Game_Cab-Harran-2010_05_ab2div.xml - C:\\Users\\mrauschsupola\\Shawi\\shawi-data\\080_scripts_generic\\080_01_ELAN2TEI\\tokenizer\\custom_xtoks2tei.xsl -> C:\\Users\\mrauschsupola\\Shawi\\shawi-data\\103_tei_w\\Urfa-048_Game_Cab-Harran-2010.xml failed\n"
     ]
    },
    {
     "name": "stdout",
     "output_type": "stream",
     "text": [
      "Urfa-048_Game_Cab-Harran-2010: done.\n",
      "Urfa-054_Real_Friend-Harran-2010: C:\\Users\\mrauschsupola\\Shawi\\shawi-data\\103_tei_w\\2025-09-15_09-33\\ELAN_Urfa-054_Real_Friend-Harran-2010.xml -> C:\\Users\\mrauschsupola\\Shawi\\shawi-data\\103_tei_w\\Urfa-054_Real_Friend-Harran-2010.xml\n"
     ]
    },
    {
     "name": "stderr",
     "output_type": "stream",
     "text": [
      "2025-09-15 09:33:51,276 - XTSE0020: Serialization parameter Q{.../saxon.sf.net/}line-length is not available in Saxon-HE\n",
      "\n",
      "2025-09-15 09:33:51,276 - C:\\Users\\mrauschsupola\\Shawi\\shawi-data\\103_tei_w\\2025-09-15_09-33\\Urfa-054_Real_Friend-Harran-2010_04_posttok.xml - C:\\Users\\mrauschsupola\\Shawi\\shawi-data\\080_scripts_generic\\080_01_ELAN2TEI\\tokenizer\\annotationBlock2div.xsl -> C:\\Users\\mrauschsupola\\Shawi\\shawi-data\\103_tei_w\\2025-09-15_09-33\\Urfa-054_Real_Friend-Harran-2010_05_ab2div.xml failed\n",
      "2025-09-15 09:33:51,284 - there was an error transforming ../../103_tei_w/2025-09-15_09-33/Urfa-054_Real_Friend-Harran-2010_04_posttok.xml with stylesheet ./tokenizer/annotationBlock2div.xsl\n",
      "2025-09-15 09:33:51,286 - Unable to resolve <C:\\Users\\mrauschsupola\\Shawi\\shawi-data\\103_tei_w\\2025-09-15_09-33\\Urfa-054_Real_Friend-Harran-2010_05_ab2div.xml> into a Source. Line number: -1\n",
      "2025-09-15 09:33:51,286 - C:\\Users\\mrauschsupola\\Shawi\\shawi-data\\103_tei_w\\2025-09-15_09-33\\Urfa-054_Real_Friend-Harran-2010_05_ab2div.xml - C:\\Users\\mrauschsupola\\Shawi\\shawi-data\\080_scripts_generic\\080_01_ELAN2TEI\\tokenizer\\custom_xtoks2tei.xsl -> C:\\Users\\mrauschsupola\\Shawi\\shawi-data\\103_tei_w\\Urfa-054_Real_Friend-Harran-2010.xml failed\n"
     ]
    },
    {
     "name": "stdout",
     "output_type": "stream",
     "text": [
      "Urfa-054_Real_Friend-Harran-2010: done.\n",
      "Urfa-057_Story_of_Magician-Harran-2010: C:\\Users\\mrauschsupola\\Shawi\\shawi-data\\103_tei_w\\2025-09-15_09-33\\ELAN_Urfa-057_Story_of_Magician-Harran-2010.xml -> C:\\Users\\mrauschsupola\\Shawi\\shawi-data\\103_tei_w\\Urfa-057_Story_of_Magician-Harran-2010.xml\n"
     ]
    },
    {
     "name": "stderr",
     "output_type": "stream",
     "text": [
      "2025-09-15 09:33:51,700 - XTSE0020: Serialization parameter Q{.../saxon.sf.net/}line-length is not available in Saxon-HE\n",
      "\n",
      "2025-09-15 09:33:51,700 - C:\\Users\\mrauschsupola\\Shawi\\shawi-data\\103_tei_w\\2025-09-15_09-33\\Urfa-057_Story_of_Magician-Harran-2010_04_posttok.xml - C:\\Users\\mrauschsupola\\Shawi\\shawi-data\\080_scripts_generic\\080_01_ELAN2TEI\\tokenizer\\annotationBlock2div.xsl -> C:\\Users\\mrauschsupola\\Shawi\\shawi-data\\103_tei_w\\2025-09-15_09-33\\Urfa-057_Story_of_Magician-Harran-2010_05_ab2div.xml failed\n",
      "2025-09-15 09:33:51,700 - there was an error transforming ../../103_tei_w/2025-09-15_09-33/Urfa-057_Story_of_Magician-Harran-2010_04_posttok.xml with stylesheet ./tokenizer/annotationBlock2div.xsl\n",
      "2025-09-15 09:33:51,716 - Unable to resolve <C:\\Users\\mrauschsupola\\Shawi\\shawi-data\\103_tei_w\\2025-09-15_09-33\\Urfa-057_Story_of_Magician-Harran-2010_05_ab2div.xml> into a Source. Line number: -1\n",
      "2025-09-15 09:33:51,716 - C:\\Users\\mrauschsupola\\Shawi\\shawi-data\\103_tei_w\\2025-09-15_09-33\\Urfa-057_Story_of_Magician-Harran-2010_05_ab2div.xml - C:\\Users\\mrauschsupola\\Shawi\\shawi-data\\080_scripts_generic\\080_01_ELAN2TEI\\tokenizer\\custom_xtoks2tei.xsl -> C:\\Users\\mrauschsupola\\Shawi\\shawi-data\\103_tei_w\\Urfa-057_Story_of_Magician-Harran-2010.xml failed\n"
     ]
    },
    {
     "name": "stdout",
     "output_type": "stream",
     "text": [
      "Urfa-057_Story_of_Magician-Harran-2010: done.\n",
      "Urfa-061_Life_of_al-Harrani-Harran-2010: C:\\Users\\mrauschsupola\\Shawi\\shawi-data\\103_tei_w\\2025-09-15_09-33\\ELAN_Urfa-061_Life_of_al-Harrani-Harran-2010.xml -> C:\\Users\\mrauschsupola\\Shawi\\shawi-data\\103_tei_w\\Urfa-061_Life_of_al-Harrani-Harran-2010.xml\n"
     ]
    },
    {
     "name": "stderr",
     "output_type": "stream",
     "text": [
      "2025-09-15 09:33:52,179 - XTSE0020: Serialization parameter Q{.../saxon.sf.net/}line-length is not available in Saxon-HE\n",
      "\n",
      "2025-09-15 09:33:52,179 - C:\\Users\\mrauschsupola\\Shawi\\shawi-data\\103_tei_w\\2025-09-15_09-33\\Urfa-061_Life_of_al-Harrani-Harran-2010_04_posttok.xml - C:\\Users\\mrauschsupola\\Shawi\\shawi-data\\080_scripts_generic\\080_01_ELAN2TEI\\tokenizer\\annotationBlock2div.xsl -> C:\\Users\\mrauschsupola\\Shawi\\shawi-data\\103_tei_w\\2025-09-15_09-33\\Urfa-061_Life_of_al-Harrani-Harran-2010_05_ab2div.xml failed\n",
      "2025-09-15 09:33:52,179 - there was an error transforming ../../103_tei_w/2025-09-15_09-33/Urfa-061_Life_of_al-Harrani-Harran-2010_04_posttok.xml with stylesheet ./tokenizer/annotationBlock2div.xsl\n",
      "2025-09-15 09:33:52,183 - Unable to resolve <C:\\Users\\mrauschsupola\\Shawi\\shawi-data\\103_tei_w\\2025-09-15_09-33\\Urfa-061_Life_of_al-Harrani-Harran-2010_05_ab2div.xml> into a Source. Line number: -1\n",
      "2025-09-15 09:33:52,183 - C:\\Users\\mrauschsupola\\Shawi\\shawi-data\\103_tei_w\\2025-09-15_09-33\\Urfa-061_Life_of_al-Harrani-Harran-2010_05_ab2div.xml - C:\\Users\\mrauschsupola\\Shawi\\shawi-data\\080_scripts_generic\\080_01_ELAN2TEI\\tokenizer\\custom_xtoks2tei.xsl -> C:\\Users\\mrauschsupola\\Shawi\\shawi-data\\103_tei_w\\Urfa-061_Life_of_al-Harrani-Harran-2010.xml failed\n"
     ]
    },
    {
     "name": "stdout",
     "output_type": "stream",
     "text": [
      "Urfa-061_Life_of_al-Harrani-Harran-2010: done.\n",
      "Urfa-068_Tribes_Armenians_Jews-Harran-2010: C:\\Users\\mrauschsupola\\Shawi\\shawi-data\\103_tei_w\\2025-09-15_09-33\\ELAN_Urfa-068_Tribes_Armenians_Jews-Harran-2010.xml -> C:\\Users\\mrauschsupola\\Shawi\\shawi-data\\103_tei_w\\Urfa-068_Tribes_Armenians_Jews-Harran-2010.xml\n"
     ]
    },
    {
     "name": "stderr",
     "output_type": "stream",
     "text": [
      "2025-09-15 09:33:53,225 - XTSE0020: Serialization parameter Q{.../saxon.sf.net/}line-length is not available in Saxon-HE\n",
      "\n",
      "2025-09-15 09:33:53,225 - C:\\Users\\mrauschsupola\\Shawi\\shawi-data\\103_tei_w\\2025-09-15_09-33\\Urfa-068_Tribes_Armenians_Jews-Harran-2010_04_posttok.xml - C:\\Users\\mrauschsupola\\Shawi\\shawi-data\\080_scripts_generic\\080_01_ELAN2TEI\\tokenizer\\annotationBlock2div.xsl -> C:\\Users\\mrauschsupola\\Shawi\\shawi-data\\103_tei_w\\2025-09-15_09-33\\Urfa-068_Tribes_Armenians_Jews-Harran-2010_05_ab2div.xml failed\n",
      "2025-09-15 09:33:53,225 - there was an error transforming ../../103_tei_w/2025-09-15_09-33/Urfa-068_Tribes_Armenians_Jews-Harran-2010_04_posttok.xml with stylesheet ./tokenizer/annotationBlock2div.xsl\n",
      "2025-09-15 09:33:53,233 - Unable to resolve <C:\\Users\\mrauschsupola\\Shawi\\shawi-data\\103_tei_w\\2025-09-15_09-33\\Urfa-068_Tribes_Armenians_Jews-Harran-2010_05_ab2div.xml> into a Source. Line number: -1\n",
      "2025-09-15 09:33:53,233 - C:\\Users\\mrauschsupola\\Shawi\\shawi-data\\103_tei_w\\2025-09-15_09-33\\Urfa-068_Tribes_Armenians_Jews-Harran-2010_05_ab2div.xml - C:\\Users\\mrauschsupola\\Shawi\\shawi-data\\080_scripts_generic\\080_01_ELAN2TEI\\tokenizer\\custom_xtoks2tei.xsl -> C:\\Users\\mrauschsupola\\Shawi\\shawi-data\\103_tei_w\\Urfa-068_Tribes_Armenians_Jews-Harran-2010.xml failed\n"
     ]
    },
    {
     "name": "stdout",
     "output_type": "stream",
     "text": [
      "Urfa-068_Tribes_Armenians_Jews-Harran-2010: done.\n",
      "Urfa-069a_Armenians-Harran-2010: C:\\Users\\mrauschsupola\\Shawi\\shawi-data\\103_tei_w\\2025-09-15_09-33\\ELAN_Urfa-069a_Armenians-Harran-2010.xml -> C:\\Users\\mrauschsupola\\Shawi\\shawi-data\\103_tei_w\\Urfa-069a_Armenians-Harran-2010.xml\n"
     ]
    },
    {
     "name": "stderr",
     "output_type": "stream",
     "text": [
      "2025-09-15 09:33:53,633 - XTSE0020: Serialization parameter Q{.../saxon.sf.net/}line-length is not available in Saxon-HE\n",
      "\n",
      "2025-09-15 09:33:53,635 - C:\\Users\\mrauschsupola\\Shawi\\shawi-data\\103_tei_w\\2025-09-15_09-33\\Urfa-069a_Armenians-Harran-2010_04_posttok.xml - C:\\Users\\mrauschsupola\\Shawi\\shawi-data\\080_scripts_generic\\080_01_ELAN2TEI\\tokenizer\\annotationBlock2div.xsl -> C:\\Users\\mrauschsupola\\Shawi\\shawi-data\\103_tei_w\\2025-09-15_09-33\\Urfa-069a_Armenians-Harran-2010_05_ab2div.xml failed\n",
      "2025-09-15 09:33:53,635 - there was an error transforming ../../103_tei_w/2025-09-15_09-33/Urfa-069a_Armenians-Harran-2010_04_posttok.xml with stylesheet ./tokenizer/annotationBlock2div.xsl\n",
      "2025-09-15 09:33:53,640 - Unable to resolve <C:\\Users\\mrauschsupola\\Shawi\\shawi-data\\103_tei_w\\2025-09-15_09-33\\Urfa-069a_Armenians-Harran-2010_05_ab2div.xml> into a Source. Line number: -1\n",
      "2025-09-15 09:33:53,640 - C:\\Users\\mrauschsupola\\Shawi\\shawi-data\\103_tei_w\\2025-09-15_09-33\\Urfa-069a_Armenians-Harran-2010_05_ab2div.xml - C:\\Users\\mrauschsupola\\Shawi\\shawi-data\\080_scripts_generic\\080_01_ELAN2TEI\\tokenizer\\custom_xtoks2tei.xsl -> C:\\Users\\mrauschsupola\\Shawi\\shawi-data\\103_tei_w\\Urfa-069a_Armenians-Harran-2010.xml failed\n"
     ]
    },
    {
     "name": "stdout",
     "output_type": "stream",
     "text": [
      "Urfa-069a_Armenians-Harran-2010: done.\n",
      "Urfa-069b_Arabicised_Kurds-Harran-2010.pfsx: C:\\Users\\mrauschsupola\\Shawi\\shawi-data\\103_tei_w\\2025-09-15_09-33\\ELAN_Urfa-069b_Arabicised_Kurds-Harran-2010.pfsx.xml -> C:\\Users\\mrauschsupola\\Shawi\\shawi-data\\103_tei_w\\Urfa-069b_Arabicised_Kurds-Harran-2010.pfsx.xml\n"
     ]
    },
    {
     "name": "stderr",
     "output_type": "stream",
     "text": [
      "2025-09-15 09:33:53,989 - XTSE0020: Serialization parameter Q{.../saxon.sf.net/}line-length is not available in Saxon-HE\n",
      "\n",
      "2025-09-15 09:33:53,990 - C:\\Users\\mrauschsupola\\Shawi\\shawi-data\\103_tei_w\\2025-09-15_09-33\\Urfa-069b_Arabicised_Kurds-Harran-2010.pfsx_04_posttok.xml - C:\\Users\\mrauschsupola\\Shawi\\shawi-data\\080_scripts_generic\\080_01_ELAN2TEI\\tokenizer\\annotationBlock2div.xsl -> C:\\Users\\mrauschsupola\\Shawi\\shawi-data\\103_tei_w\\2025-09-15_09-33\\Urfa-069b_Arabicised_Kurds-Harran-2010.pfsx_05_ab2div.xml failed\n",
      "2025-09-15 09:33:53,991 - there was an error transforming ../../103_tei_w/2025-09-15_09-33/Urfa-069b_Arabicised_Kurds-Harran-2010.pfsx_04_posttok.xml with stylesheet ./tokenizer/annotationBlock2div.xsl\n",
      "2025-09-15 09:33:53,994 - Unable to resolve <C:\\Users\\mrauschsupola\\Shawi\\shawi-data\\103_tei_w\\2025-09-15_09-33\\Urfa-069b_Arabicised_Kurds-Harran-2010.pfsx_05_ab2div.xml> into a Source. Line number: -1\n",
      "2025-09-15 09:33:53,994 - C:\\Users\\mrauschsupola\\Shawi\\shawi-data\\103_tei_w\\2025-09-15_09-33\\Urfa-069b_Arabicised_Kurds-Harran-2010.pfsx_05_ab2div.xml - C:\\Users\\mrauschsupola\\Shawi\\shawi-data\\080_scripts_generic\\080_01_ELAN2TEI\\tokenizer\\custom_xtoks2tei.xsl -> C:\\Users\\mrauschsupola\\Shawi\\shawi-data\\103_tei_w\\Urfa-069b_Arabicised_Kurds-Harran-2010.pfsx.xml failed\n",
      "2025-09-15 09:33:54,271 - XTSE0020: Serialization parameter Q{.../saxon.sf.net/}line-length is not available in Saxon-HE\n",
      "\n",
      "2025-09-15 09:33:54,271 - C:\\Users\\mrauschsupola\\Shawi\\shawi-data\\103_tei_w\\2025-09-15_09-33\\Urfa-070_Hen_House-Harran-2010_04_posttok.xml - C:\\Users\\mrauschsupola\\Shawi\\shawi-data\\080_scripts_generic\\080_01_ELAN2TEI\\tokenizer\\annotationBlock2div.xsl -> C:\\Users\\mrauschsupola\\Shawi\\shawi-data\\103_tei_w\\2025-09-15_09-33\\Urfa-070_Hen_House-Harran-2010_05_ab2div.xml failed\n",
      "2025-09-15 09:33:54,271 - there was an error transforming ../../103_tei_w/2025-09-15_09-33/Urfa-070_Hen_House-Harran-2010_04_posttok.xml with stylesheet ./tokenizer/annotationBlock2div.xsl\n",
      "2025-09-15 09:33:54,289 - Unable to resolve <C:\\Users\\mrauschsupola\\Shawi\\shawi-data\\103_tei_w\\2025-09-15_09-33\\Urfa-070_Hen_House-Harran-2010_05_ab2div.xml> into a Source. Line number: -1\n",
      "2025-09-15 09:33:54,290 - C:\\Users\\mrauschsupola\\Shawi\\shawi-data\\103_tei_w\\2025-09-15_09-33\\Urfa-070_Hen_House-Harran-2010_05_ab2div.xml - C:\\Users\\mrauschsupola\\Shawi\\shawi-data\\080_scripts_generic\\080_01_ELAN2TEI\\tokenizer\\custom_xtoks2tei.xsl -> C:\\Users\\mrauschsupola\\Shawi\\shawi-data\\103_tei_w\\Urfa-070_Hen_House-Harran-2010.xml failed\n"
     ]
    },
    {
     "name": "stdout",
     "output_type": "stream",
     "text": [
      "Urfa-069b_Arabicised_Kurds-Harran-2010.pfsx: done.\n",
      "Urfa-070_Hen_House-Harran-2010: C:\\Users\\mrauschsupola\\Shawi\\shawi-data\\103_tei_w\\2025-09-15_09-33\\ELAN_Urfa-070_Hen_House-Harran-2010.xml -> C:\\Users\\mrauschsupola\\Shawi\\shawi-data\\103_tei_w\\Urfa-070_Hen_House-Harran-2010.xml\n",
      "Urfa-070_Hen_House-Harran-2010: done.\n",
      "Urfa-072_Villages-Harran-2010: C:\\Users\\mrauschsupola\\Shawi\\shawi-data\\103_tei_w\\2025-09-15_09-33\\ELAN_Urfa-072_Villages-Harran-2010.xml -> C:\\Users\\mrauschsupola\\Shawi\\shawi-data\\103_tei_w\\Urfa-072_Villages-Harran-2010.xml\n"
     ]
    },
    {
     "name": "stderr",
     "output_type": "stream",
     "text": [
      "2025-09-15 09:33:54,937 - XTSE0020: Serialization parameter Q{.../saxon.sf.net/}line-length is not available in Saxon-HE\n",
      "\n",
      "2025-09-15 09:33:54,937 - C:\\Users\\mrauschsupola\\Shawi\\shawi-data\\103_tei_w\\2025-09-15_09-33\\Urfa-072_Villages-Harran-2010_04_posttok.xml - C:\\Users\\mrauschsupola\\Shawi\\shawi-data\\080_scripts_generic\\080_01_ELAN2TEI\\tokenizer\\annotationBlock2div.xsl -> C:\\Users\\mrauschsupola\\Shawi\\shawi-data\\103_tei_w\\2025-09-15_09-33\\Urfa-072_Villages-Harran-2010_05_ab2div.xml failed\n",
      "2025-09-15 09:33:54,937 - there was an error transforming ../../103_tei_w/2025-09-15_09-33/Urfa-072_Villages-Harran-2010_04_posttok.xml with stylesheet ./tokenizer/annotationBlock2div.xsl\n",
      "2025-09-15 09:33:54,947 - Unable to resolve <C:\\Users\\mrauschsupola\\Shawi\\shawi-data\\103_tei_w\\2025-09-15_09-33\\Urfa-072_Villages-Harran-2010_05_ab2div.xml> into a Source. Line number: -1\n",
      "2025-09-15 09:33:54,947 - C:\\Users\\mrauschsupola\\Shawi\\shawi-data\\103_tei_w\\2025-09-15_09-33\\Urfa-072_Villages-Harran-2010_05_ab2div.xml - C:\\Users\\mrauschsupola\\Shawi\\shawi-data\\080_scripts_generic\\080_01_ELAN2TEI\\tokenizer\\custom_xtoks2tei.xsl -> C:\\Users\\mrauschsupola\\Shawi\\shawi-data\\103_tei_w\\Urfa-072_Villages-Harran-2010.xml failed\n",
      "2025-09-15 09:33:55,250 - XTSE0020: Serialization parameter Q{.../saxon.sf.net/}line-length is not available in Saxon-HE\n",
      "\n",
      "2025-09-15 09:33:55,250 - C:\\Users\\mrauschsupola\\Shawi\\shawi-data\\103_tei_w\\2025-09-15_09-33\\Urfa-073_Talls_Flood-Harran-2010_04_posttok.xml - C:\\Users\\mrauschsupola\\Shawi\\shawi-data\\080_scripts_generic\\080_01_ELAN2TEI\\tokenizer\\annotationBlock2div.xsl -> C:\\Users\\mrauschsupola\\Shawi\\shawi-data\\103_tei_w\\2025-09-15_09-33\\Urfa-073_Talls_Flood-Harran-2010_05_ab2div.xml failed\n",
      "2025-09-15 09:33:55,250 - there was an error transforming ../../103_tei_w/2025-09-15_09-33/Urfa-073_Talls_Flood-Harran-2010_04_posttok.xml with stylesheet ./tokenizer/annotationBlock2div.xsl\n",
      "2025-09-15 09:33:55,255 - Unable to resolve <C:\\Users\\mrauschsupola\\Shawi\\shawi-data\\103_tei_w\\2025-09-15_09-33\\Urfa-073_Talls_Flood-Harran-2010_05_ab2div.xml> into a Source. Line number: -1\n",
      "2025-09-15 09:33:55,255 - C:\\Users\\mrauschsupola\\Shawi\\shawi-data\\103_tei_w\\2025-09-15_09-33\\Urfa-073_Talls_Flood-Harran-2010_05_ab2div.xml - C:\\Users\\mrauschsupola\\Shawi\\shawi-data\\080_scripts_generic\\080_01_ELAN2TEI\\tokenizer\\custom_xtoks2tei.xsl -> C:\\Users\\mrauschsupola\\Shawi\\shawi-data\\103_tei_w\\Urfa-073_Talls_Flood-Harran-2010.xml failed\n"
     ]
    },
    {
     "name": "stdout",
     "output_type": "stream",
     "text": [
      "Urfa-072_Villages-Harran-2010: done.\n",
      "Urfa-073_Talls_Flood-Harran-2010: C:\\Users\\mrauschsupola\\Shawi\\shawi-data\\103_tei_w\\2025-09-15_09-33\\ELAN_Urfa-073_Talls_Flood-Harran-2010.xml -> C:\\Users\\mrauschsupola\\Shawi\\shawi-data\\103_tei_w\\Urfa-073_Talls_Flood-Harran-2010.xml\n",
      "Urfa-073_Talls_Flood-Harran-2010: done.\n",
      "Urfa-074_Talls_Burial_for_Children-Harran-2010: C:\\Users\\mrauschsupola\\Shawi\\shawi-data\\103_tei_w\\2025-09-15_09-33\\ELAN_Urfa-074_Talls_Burial_for_Children-Harran-2010.xml -> C:\\Users\\mrauschsupola\\Shawi\\shawi-data\\103_tei_w\\Urfa-074_Talls_Burial_for_Children-Harran-2010.xml\n"
     ]
    },
    {
     "name": "stderr",
     "output_type": "stream",
     "text": [
      "2025-09-15 09:33:55,538 - XTSE0020: Serialization parameter Q{.../saxon.sf.net/}line-length is not available in Saxon-HE\n",
      "\n",
      "2025-09-15 09:33:55,538 - C:\\Users\\mrauschsupola\\Shawi\\shawi-data\\103_tei_w\\2025-09-15_09-33\\Urfa-074_Talls_Burial_for_Children-Harran-2010_04_posttok.xml - C:\\Users\\mrauschsupola\\Shawi\\shawi-data\\080_scripts_generic\\080_01_ELAN2TEI\\tokenizer\\annotationBlock2div.xsl -> C:\\Users\\mrauschsupola\\Shawi\\shawi-data\\103_tei_w\\2025-09-15_09-33\\Urfa-074_Talls_Burial_for_Children-Harran-2010_05_ab2div.xml failed\n",
      "2025-09-15 09:33:55,538 - there was an error transforming ../../103_tei_w/2025-09-15_09-33/Urfa-074_Talls_Burial_for_Children-Harran-2010_04_posttok.xml with stylesheet ./tokenizer/annotationBlock2div.xsl\n",
      "2025-09-15 09:33:55,551 - Unable to resolve <C:\\Users\\mrauschsupola\\Shawi\\shawi-data\\103_tei_w\\2025-09-15_09-33\\Urfa-074_Talls_Burial_for_Children-Harran-2010_05_ab2div.xml> into a Source. Line number: -1\n",
      "2025-09-15 09:33:55,551 - C:\\Users\\mrauschsupola\\Shawi\\shawi-data\\103_tei_w\\2025-09-15_09-33\\Urfa-074_Talls_Burial_for_Children-Harran-2010_05_ab2div.xml - C:\\Users\\mrauschsupola\\Shawi\\shawi-data\\080_scripts_generic\\080_01_ELAN2TEI\\tokenizer\\custom_xtoks2tei.xsl -> C:\\Users\\mrauschsupola\\Shawi\\shawi-data\\103_tei_w\\Urfa-074_Talls_Burial_for_Children-Harran-2010.xml failed\n"
     ]
    },
    {
     "name": "stdout",
     "output_type": "stream",
     "text": [
      "Urfa-074_Talls_Burial_for_Children-Harran-2010: done.\n",
      "Urfa-075_Corn_and_Language-Harran-2010: C:\\Users\\mrauschsupola\\Shawi\\shawi-data\\103_tei_w\\2025-09-15_09-33\\ELAN_Urfa-075_Corn_and_Language-Harran-2010.xml -> C:\\Users\\mrauschsupola\\Shawi\\shawi-data\\103_tei_w\\Urfa-075_Corn_and_Language-Harran-2010.xml\n"
     ]
    },
    {
     "name": "stderr",
     "output_type": "stream",
     "text": [
      "2025-09-15 09:33:55,886 - XTSE0020: Serialization parameter Q{.../saxon.sf.net/}line-length is not available in Saxon-HE\n",
      "\n",
      "2025-09-15 09:33:55,886 - C:\\Users\\mrauschsupola\\Shawi\\shawi-data\\103_tei_w\\2025-09-15_09-33\\Urfa-075_Corn_and_Language-Harran-2010_04_posttok.xml - C:\\Users\\mrauschsupola\\Shawi\\shawi-data\\080_scripts_generic\\080_01_ELAN2TEI\\tokenizer\\annotationBlock2div.xsl -> C:\\Users\\mrauschsupola\\Shawi\\shawi-data\\103_tei_w\\2025-09-15_09-33\\Urfa-075_Corn_and_Language-Harran-2010_05_ab2div.xml failed\n",
      "2025-09-15 09:33:55,887 - there was an error transforming ../../103_tei_w/2025-09-15_09-33/Urfa-075_Corn_and_Language-Harran-2010_04_posttok.xml with stylesheet ./tokenizer/annotationBlock2div.xsl\n",
      "2025-09-15 09:33:55,890 - Unable to resolve <C:\\Users\\mrauschsupola\\Shawi\\shawi-data\\103_tei_w\\2025-09-15_09-33\\Urfa-075_Corn_and_Language-Harran-2010_05_ab2div.xml> into a Source. Line number: -1\n",
      "2025-09-15 09:33:55,890 - C:\\Users\\mrauschsupola\\Shawi\\shawi-data\\103_tei_w\\2025-09-15_09-33\\Urfa-075_Corn_and_Language-Harran-2010_05_ab2div.xml - C:\\Users\\mrauschsupola\\Shawi\\shawi-data\\080_scripts_generic\\080_01_ELAN2TEI\\tokenizer\\custom_xtoks2tei.xsl -> C:\\Users\\mrauschsupola\\Shawi\\shawi-data\\103_tei_w\\Urfa-075_Corn_and_Language-Harran-2010.xml failed\n",
      "2025-09-15 09:33:56,289 - XTSE0020: Serialization parameter Q{.../saxon.sf.net/}line-length is not available in Saxon-HE\n",
      "\n",
      "2025-09-15 09:33:56,290 - C:\\Users\\mrauschsupola\\Shawi\\shawi-data\\103_tei_w\\2025-09-15_09-33\\Urfa-076_Bedouins-Harran-2010_04_posttok.xml - C:\\Users\\mrauschsupola\\Shawi\\shawi-data\\080_scripts_generic\\080_01_ELAN2TEI\\tokenizer\\annotationBlock2div.xsl -> C:\\Users\\mrauschsupola\\Shawi\\shawi-data\\103_tei_w\\2025-09-15_09-33\\Urfa-076_Bedouins-Harran-2010_05_ab2div.xml failed\n",
      "2025-09-15 09:33:56,290 - there was an error transforming ../../103_tei_w/2025-09-15_09-33/Urfa-076_Bedouins-Harran-2010_04_posttok.xml with stylesheet ./tokenizer/annotationBlock2div.xsl\n"
     ]
    },
    {
     "name": "stdout",
     "output_type": "stream",
     "text": [
      "Urfa-075_Corn_and_Language-Harran-2010: done.\n",
      "Urfa-076_Bedouins-Harran-2010: C:\\Users\\mrauschsupola\\Shawi\\shawi-data\\103_tei_w\\2025-09-15_09-33\\ELAN_Urfa-076_Bedouins-Harran-2010.xml -> C:\\Users\\mrauschsupola\\Shawi\\shawi-data\\103_tei_w\\Urfa-076_Bedouins-Harran-2010.xml\n"
     ]
    },
    {
     "name": "stderr",
     "output_type": "stream",
     "text": [
      "2025-09-15 09:33:56,294 - Unable to resolve <C:\\Users\\mrauschsupola\\Shawi\\shawi-data\\103_tei_w\\2025-09-15_09-33\\Urfa-076_Bedouins-Harran-2010_05_ab2div.xml> into a Source. Line number: -1\n",
      "2025-09-15 09:33:56,296 - C:\\Users\\mrauschsupola\\Shawi\\shawi-data\\103_tei_w\\2025-09-15_09-33\\Urfa-076_Bedouins-Harran-2010_05_ab2div.xml - C:\\Users\\mrauschsupola\\Shawi\\shawi-data\\080_scripts_generic\\080_01_ELAN2TEI\\tokenizer\\custom_xtoks2tei.xsl -> C:\\Users\\mrauschsupola\\Shawi\\shawi-data\\103_tei_w\\Urfa-076_Bedouins-Harran-2010.xml failed\n",
      "2025-09-15 09:33:56,644 - XTSE0020: Serialization parameter Q{.../saxon.sf.net/}line-length is not available in Saxon-HE\n",
      "\n",
      "2025-09-15 09:33:56,645 - C:\\Users\\mrauschsupola\\Shawi\\shawi-data\\103_tei_w\\2025-09-15_09-33\\Urfa-077a_The_Jinn-Harran-2010_04_posttok.xml - C:\\Users\\mrauschsupola\\Shawi\\shawi-data\\080_scripts_generic\\080_01_ELAN2TEI\\tokenizer\\annotationBlock2div.xsl -> C:\\Users\\mrauschsupola\\Shawi\\shawi-data\\103_tei_w\\2025-09-15_09-33\\Urfa-077a_The_Jinn-Harran-2010_05_ab2div.xml failed\n",
      "2025-09-15 09:33:56,645 - there was an error transforming ../../103_tei_w/2025-09-15_09-33/Urfa-077a_The_Jinn-Harran-2010_04_posttok.xml with stylesheet ./tokenizer/annotationBlock2div.xsl\n",
      "2025-09-15 09:33:56,649 - Unable to resolve <C:\\Users\\mrauschsupola\\Shawi\\shawi-data\\103_tei_w\\2025-09-15_09-33\\Urfa-077a_The_Jinn-Harran-2010_05_ab2div.xml> into a Source. Line number: -1\n",
      "2025-09-15 09:33:56,649 - C:\\Users\\mrauschsupola\\Shawi\\shawi-data\\103_tei_w\\2025-09-15_09-33\\Urfa-077a_The_Jinn-Harran-2010_05_ab2div.xml - C:\\Users\\mrauschsupola\\Shawi\\shawi-data\\080_scripts_generic\\080_01_ELAN2TEI\\tokenizer\\custom_xtoks2tei.xsl -> C:\\Users\\mrauschsupola\\Shawi\\shawi-data\\103_tei_w\\Urfa-077a_The_Jinn-Harran-2010.xml failed\n"
     ]
    },
    {
     "name": "stdout",
     "output_type": "stream",
     "text": [
      "Urfa-076_Bedouins-Harran-2010: done.\n",
      "Urfa-077a_The_Jinn-Harran-2010: C:\\Users\\mrauschsupola\\Shawi\\shawi-data\\103_tei_w\\2025-09-15_09-33\\ELAN_Urfa-077a_The_Jinn-Harran-2010.xml -> C:\\Users\\mrauschsupola\\Shawi\\shawi-data\\103_tei_w\\Urfa-077a_The_Jinn-Harran-2010.xml\n",
      "Urfa-077a_The_Jinn-Harran-2010: done.\n",
      "Urfa-077b_The_Jinn-Harran-2010: C:\\Users\\mrauschsupola\\Shawi\\shawi-data\\103_tei_w\\2025-09-15_09-33\\ELAN_Urfa-077b_The_Jinn-Harran-2010.xml -> C:\\Users\\mrauschsupola\\Shawi\\shawi-data\\103_tei_w\\Urfa-077b_The_Jinn-Harran-2010.xml\n"
     ]
    },
    {
     "name": "stderr",
     "output_type": "stream",
     "text": [
      "2025-09-15 09:33:56,953 - XTSE0020: Serialization parameter Q{.../saxon.sf.net/}line-length is not available in Saxon-HE\n",
      "\n",
      "2025-09-15 09:33:56,953 - C:\\Users\\mrauschsupola\\Shawi\\shawi-data\\103_tei_w\\2025-09-15_09-33\\Urfa-077b_The_Jinn-Harran-2010_04_posttok.xml - C:\\Users\\mrauschsupola\\Shawi\\shawi-data\\080_scripts_generic\\080_01_ELAN2TEI\\tokenizer\\annotationBlock2div.xsl -> C:\\Users\\mrauschsupola\\Shawi\\shawi-data\\103_tei_w\\2025-09-15_09-33\\Urfa-077b_The_Jinn-Harran-2010_05_ab2div.xml failed\n",
      "2025-09-15 09:33:56,953 - there was an error transforming ../../103_tei_w/2025-09-15_09-33/Urfa-077b_The_Jinn-Harran-2010_04_posttok.xml with stylesheet ./tokenizer/annotationBlock2div.xsl\n",
      "2025-09-15 09:33:56,966 - Unable to resolve <C:\\Users\\mrauschsupola\\Shawi\\shawi-data\\103_tei_w\\2025-09-15_09-33\\Urfa-077b_The_Jinn-Harran-2010_05_ab2div.xml> into a Source. Line number: -1\n",
      "2025-09-15 09:33:56,966 - C:\\Users\\mrauschsupola\\Shawi\\shawi-data\\103_tei_w\\2025-09-15_09-33\\Urfa-077b_The_Jinn-Harran-2010_05_ab2div.xml - C:\\Users\\mrauschsupola\\Shawi\\shawi-data\\080_scripts_generic\\080_01_ELAN2TEI\\tokenizer\\custom_xtoks2tei.xsl -> C:\\Users\\mrauschsupola\\Shawi\\shawi-data\\103_tei_w\\Urfa-077b_The_Jinn-Harran-2010.xml failed\n"
     ]
    },
    {
     "name": "stdout",
     "output_type": "stream",
     "text": [
      "Urfa-077b_The_Jinn-Harran-2010: done.\n",
      "Urfa-077c_The_Jinn-Harran-2010: C:\\Users\\mrauschsupola\\Shawi\\shawi-data\\103_tei_w\\2025-09-15_09-33\\ELAN_Urfa-077c_The_Jinn-Harran-2010.xml -> C:\\Users\\mrauschsupola\\Shawi\\shawi-data\\103_tei_w\\Urfa-077c_The_Jinn-Harran-2010.xml\n"
     ]
    },
    {
     "name": "stderr",
     "output_type": "stream",
     "text": [
      "2025-09-15 09:33:57,460 - XTSE0020: Serialization parameter Q{.../saxon.sf.net/}line-length is not available in Saxon-HE\n",
      "\n",
      "2025-09-15 09:33:57,460 - C:\\Users\\mrauschsupola\\Shawi\\shawi-data\\103_tei_w\\2025-09-15_09-33\\Urfa-077c_The_Jinn-Harran-2010_04_posttok.xml - C:\\Users\\mrauschsupola\\Shawi\\shawi-data\\080_scripts_generic\\080_01_ELAN2TEI\\tokenizer\\annotationBlock2div.xsl -> C:\\Users\\mrauschsupola\\Shawi\\shawi-data\\103_tei_w\\2025-09-15_09-33\\Urfa-077c_The_Jinn-Harran-2010_05_ab2div.xml failed\n",
      "2025-09-15 09:33:57,460 - there was an error transforming ../../103_tei_w/2025-09-15_09-33/Urfa-077c_The_Jinn-Harran-2010_04_posttok.xml with stylesheet ./tokenizer/annotationBlock2div.xsl\n",
      "2025-09-15 09:33:57,476 - Unable to resolve <C:\\Users\\mrauschsupola\\Shawi\\shawi-data\\103_tei_w\\2025-09-15_09-33\\Urfa-077c_The_Jinn-Harran-2010_05_ab2div.xml> into a Source. Line number: -1\n",
      "2025-09-15 09:33:57,476 - C:\\Users\\mrauschsupola\\Shawi\\shawi-data\\103_tei_w\\2025-09-15_09-33\\Urfa-077c_The_Jinn-Harran-2010_05_ab2div.xml - C:\\Users\\mrauschsupola\\Shawi\\shawi-data\\080_scripts_generic\\080_01_ELAN2TEI\\tokenizer\\custom_xtoks2tei.xsl -> C:\\Users\\mrauschsupola\\Shawi\\shawi-data\\103_tei_w\\Urfa-077c_The_Jinn-Harran-2010.xml failed\n"
     ]
    },
    {
     "name": "stdout",
     "output_type": "stream",
     "text": [
      "Urfa-077c_The_Jinn-Harran-2010: done.\n",
      "Urfa-077d_The_Jinn-Harran-2010: C:\\Users\\mrauschsupola\\Shawi\\shawi-data\\103_tei_w\\2025-09-15_09-33\\ELAN_Urfa-077d_The_Jinn-Harran-2010.xml -> C:\\Users\\mrauschsupola\\Shawi\\shawi-data\\103_tei_w\\Urfa-077d_The_Jinn-Harran-2010.xml\n"
     ]
    },
    {
     "name": "stderr",
     "output_type": "stream",
     "text": [
      "2025-09-15 09:33:58,247 - XTSE0020: Serialization parameter Q{.../saxon.sf.net/}line-length is not available in Saxon-HE\n",
      "\n",
      "2025-09-15 09:33:58,247 - C:\\Users\\mrauschsupola\\Shawi\\shawi-data\\103_tei_w\\2025-09-15_09-33\\Urfa-077d_The_Jinn-Harran-2010_04_posttok.xml - C:\\Users\\mrauschsupola\\Shawi\\shawi-data\\080_scripts_generic\\080_01_ELAN2TEI\\tokenizer\\annotationBlock2div.xsl -> C:\\Users\\mrauschsupola\\Shawi\\shawi-data\\103_tei_w\\2025-09-15_09-33\\Urfa-077d_The_Jinn-Harran-2010_05_ab2div.xml failed\n",
      "2025-09-15 09:33:58,247 - there was an error transforming ../../103_tei_w/2025-09-15_09-33/Urfa-077d_The_Jinn-Harran-2010_04_posttok.xml with stylesheet ./tokenizer/annotationBlock2div.xsl\n",
      "2025-09-15 09:33:58,258 - Unable to resolve <C:\\Users\\mrauschsupola\\Shawi\\shawi-data\\103_tei_w\\2025-09-15_09-33\\Urfa-077d_The_Jinn-Harran-2010_05_ab2div.xml> into a Source. Line number: -1\n",
      "2025-09-15 09:33:58,258 - C:\\Users\\mrauschsupola\\Shawi\\shawi-data\\103_tei_w\\2025-09-15_09-33\\Urfa-077d_The_Jinn-Harran-2010_05_ab2div.xml - C:\\Users\\mrauschsupola\\Shawi\\shawi-data\\080_scripts_generic\\080_01_ELAN2TEI\\tokenizer\\custom_xtoks2tei.xsl -> C:\\Users\\mrauschsupola\\Shawi\\shawi-data\\103_tei_w\\Urfa-077d_The_Jinn-Harran-2010.xml failed\n"
     ]
    },
    {
     "name": "stdout",
     "output_type": "stream",
     "text": [
      "Urfa-077d_The_Jinn-Harran-2010: done.\n",
      "Urfa-077e_The_Jinn-Harran-2010: C:\\Users\\mrauschsupola\\Shawi\\shawi-data\\103_tei_w\\2025-09-15_09-33\\ELAN_Urfa-077e_The_Jinn-Harran-2010.xml -> C:\\Users\\mrauschsupola\\Shawi\\shawi-data\\103_tei_w\\Urfa-077e_The_Jinn-Harran-2010.xml\n"
     ]
    },
    {
     "name": "stderr",
     "output_type": "stream",
     "text": [
      "2025-09-15 09:33:59,707 - XTSE0020: Serialization parameter Q{.../saxon.sf.net/}line-length is not available in Saxon-HE\n",
      "\n",
      "2025-09-15 09:33:59,707 - C:\\Users\\mrauschsupola\\Shawi\\shawi-data\\103_tei_w\\2025-09-15_09-33\\Urfa-077e_The_Jinn-Harran-2010_04_posttok.xml - C:\\Users\\mrauschsupola\\Shawi\\shawi-data\\080_scripts_generic\\080_01_ELAN2TEI\\tokenizer\\annotationBlock2div.xsl -> C:\\Users\\mrauschsupola\\Shawi\\shawi-data\\103_tei_w\\2025-09-15_09-33\\Urfa-077e_The_Jinn-Harran-2010_05_ab2div.xml failed\n",
      "2025-09-15 09:33:59,707 - there was an error transforming ../../103_tei_w/2025-09-15_09-33/Urfa-077e_The_Jinn-Harran-2010_04_posttok.xml with stylesheet ./tokenizer/annotationBlock2div.xsl\n",
      "2025-09-15 09:33:59,718 - Unable to resolve <C:\\Users\\mrauschsupola\\Shawi\\shawi-data\\103_tei_w\\2025-09-15_09-33\\Urfa-077e_The_Jinn-Harran-2010_05_ab2div.xml> into a Source. Line number: -1\n",
      "2025-09-15 09:33:59,718 - C:\\Users\\mrauschsupola\\Shawi\\shawi-data\\103_tei_w\\2025-09-15_09-33\\Urfa-077e_The_Jinn-Harran-2010_05_ab2div.xml - C:\\Users\\mrauschsupola\\Shawi\\shawi-data\\080_scripts_generic\\080_01_ELAN2TEI\\tokenizer\\custom_xtoks2tei.xsl -> C:\\Users\\mrauschsupola\\Shawi\\shawi-data\\103_tei_w\\Urfa-077e_The_Jinn-Harran-2010.xml failed\n"
     ]
    },
    {
     "name": "stdout",
     "output_type": "stream",
     "text": [
      "Urfa-077e_The_Jinn-Harran-2010: done.\n",
      "Urfa-080_Gazelles_and_Jews-Harran-2010: C:\\Users\\mrauschsupola\\Shawi\\shawi-data\\103_tei_w\\2025-09-15_09-33\\ELAN_Urfa-080_Gazelles_and_Jews-Harran-2010.xml -> C:\\Users\\mrauschsupola\\Shawi\\shawi-data\\103_tei_w\\Urfa-080_Gazelles_and_Jews-Harran-2010.xml\n"
     ]
    },
    {
     "name": "stderr",
     "output_type": "stream",
     "text": [
      "2025-09-15 09:34:00,223 - XTSE0020: Serialization parameter Q{.../saxon.sf.net/}line-length is not available in Saxon-HE\n",
      "\n",
      "2025-09-15 09:34:00,223 - C:\\Users\\mrauschsupola\\Shawi\\shawi-data\\103_tei_w\\2025-09-15_09-33\\Urfa-080_Gazelles_and_Jews-Harran-2010_04_posttok.xml - C:\\Users\\mrauschsupola\\Shawi\\shawi-data\\080_scripts_generic\\080_01_ELAN2TEI\\tokenizer\\annotationBlock2div.xsl -> C:\\Users\\mrauschsupola\\Shawi\\shawi-data\\103_tei_w\\2025-09-15_09-33\\Urfa-080_Gazelles_and_Jews-Harran-2010_05_ab2div.xml failed\n",
      "2025-09-15 09:34:00,239 - there was an error transforming ../../103_tei_w/2025-09-15_09-33/Urfa-080_Gazelles_and_Jews-Harran-2010_04_posttok.xml with stylesheet ./tokenizer/annotationBlock2div.xsl\n",
      "2025-09-15 09:34:00,242 - Unable to resolve <C:\\Users\\mrauschsupola\\Shawi\\shawi-data\\103_tei_w\\2025-09-15_09-33\\Urfa-080_Gazelles_and_Jews-Harran-2010_05_ab2div.xml> into a Source. Line number: -1\n",
      "2025-09-15 09:34:00,242 - C:\\Users\\mrauschsupola\\Shawi\\shawi-data\\103_tei_w\\2025-09-15_09-33\\Urfa-080_Gazelles_and_Jews-Harran-2010_05_ab2div.xml - C:\\Users\\mrauschsupola\\Shawi\\shawi-data\\080_scripts_generic\\080_01_ELAN2TEI\\tokenizer\\custom_xtoks2tei.xsl -> C:\\Users\\mrauschsupola\\Shawi\\shawi-data\\103_tei_w\\Urfa-080_Gazelles_and_Jews-Harran-2010.xml failed\n"
     ]
    },
    {
     "name": "stdout",
     "output_type": "stream",
     "text": [
      "Urfa-080_Gazelles_and_Jews-Harran-2010: done.\n",
      "Urfa-081_Food_in_Former_Times-Harran-2010: C:\\Users\\mrauschsupola\\Shawi\\shawi-data\\103_tei_w\\2025-09-15_09-33\\ELAN_Urfa-081_Food_in_Former_Times-Harran-2010.xml -> C:\\Users\\mrauschsupola\\Shawi\\shawi-data\\103_tei_w\\Urfa-081_Food_in_Former_Times-Harran-2010.xml\n"
     ]
    },
    {
     "name": "stderr",
     "output_type": "stream",
     "text": [
      "2025-09-15 09:34:00,583 - XTSE0020: Serialization parameter Q{.../saxon.sf.net/}line-length is not available in Saxon-HE\n",
      "\n",
      "2025-09-15 09:34:00,583 - C:\\Users\\mrauschsupola\\Shawi\\shawi-data\\103_tei_w\\2025-09-15_09-33\\Urfa-081_Food_in_Former_Times-Harran-2010_04_posttok.xml - C:\\Users\\mrauschsupola\\Shawi\\shawi-data\\080_scripts_generic\\080_01_ELAN2TEI\\tokenizer\\annotationBlock2div.xsl -> C:\\Users\\mrauschsupola\\Shawi\\shawi-data\\103_tei_w\\2025-09-15_09-33\\Urfa-081_Food_in_Former_Times-Harran-2010_05_ab2div.xml failed\n",
      "2025-09-15 09:34:00,583 - there was an error transforming ../../103_tei_w/2025-09-15_09-33/Urfa-081_Food_in_Former_Times-Harran-2010_04_posttok.xml with stylesheet ./tokenizer/annotationBlock2div.xsl\n",
      "2025-09-15 09:34:00,587 - Unable to resolve <C:\\Users\\mrauschsupola\\Shawi\\shawi-data\\103_tei_w\\2025-09-15_09-33\\Urfa-081_Food_in_Former_Times-Harran-2010_05_ab2div.xml> into a Source. Line number: -1\n",
      "2025-09-15 09:34:00,588 - C:\\Users\\mrauschsupola\\Shawi\\shawi-data\\103_tei_w\\2025-09-15_09-33\\Urfa-081_Food_in_Former_Times-Harran-2010_05_ab2div.xml - C:\\Users\\mrauschsupola\\Shawi\\shawi-data\\080_scripts_generic\\080_01_ELAN2TEI\\tokenizer\\custom_xtoks2tei.xsl -> C:\\Users\\mrauschsupola\\Shawi\\shawi-data\\103_tei_w\\Urfa-081_Food_in_Former_Times-Harran-2010.xml failed\n"
     ]
    },
    {
     "name": "stdout",
     "output_type": "stream",
     "text": [
      "Urfa-081_Food_in_Former_Times-Harran-2010: done.\n",
      "Urfa-085_The_Snake_in_the_Cistern-Harran-2010: C:\\Users\\mrauschsupola\\Shawi\\shawi-data\\103_tei_w\\2025-09-15_09-33\\ELAN_Urfa-085_The_Snake_in_the_Cistern-Harran-2010.xml -> C:\\Users\\mrauschsupola\\Shawi\\shawi-data\\103_tei_w\\Urfa-085_The_Snake_in_the_Cistern-Harran-2010.xml\n"
     ]
    },
    {
     "name": "stderr",
     "output_type": "stream",
     "text": [
      "2025-09-15 09:34:01,171 - XTSE0020: Serialization parameter Q{.../saxon.sf.net/}line-length is not available in Saxon-HE\n",
      "\n",
      "2025-09-15 09:34:01,181 - C:\\Users\\mrauschsupola\\Shawi\\shawi-data\\103_tei_w\\2025-09-15_09-33\\Urfa-085_The_Snake_in_the_Cistern-Harran-2010_04_posttok.xml - C:\\Users\\mrauschsupola\\Shawi\\shawi-data\\080_scripts_generic\\080_01_ELAN2TEI\\tokenizer\\annotationBlock2div.xsl -> C:\\Users\\mrauschsupola\\Shawi\\shawi-data\\103_tei_w\\2025-09-15_09-33\\Urfa-085_The_Snake_in_the_Cistern-Harran-2010_05_ab2div.xml failed\n",
      "2025-09-15 09:34:01,181 - there was an error transforming ../../103_tei_w/2025-09-15_09-33/Urfa-085_The_Snake_in_the_Cistern-Harran-2010_04_posttok.xml with stylesheet ./tokenizer/annotationBlock2div.xsl\n",
      "2025-09-15 09:34:01,184 - Unable to resolve <C:\\Users\\mrauschsupola\\Shawi\\shawi-data\\103_tei_w\\2025-09-15_09-33\\Urfa-085_The_Snake_in_the_Cistern-Harran-2010_05_ab2div.xml> into a Source. Line number: -1\n",
      "2025-09-15 09:34:01,184 - C:\\Users\\mrauschsupola\\Shawi\\shawi-data\\103_tei_w\\2025-09-15_09-33\\Urfa-085_The_Snake_in_the_Cistern-Harran-2010_05_ab2div.xml - C:\\Users\\mrauschsupola\\Shawi\\shawi-data\\080_scripts_generic\\080_01_ELAN2TEI\\tokenizer\\custom_xtoks2tei.xsl -> C:\\Users\\mrauschsupola\\Shawi\\shawi-data\\103_tei_w\\Urfa-085_The_Snake_in_the_Cistern-Harran-2010.xml failed\n",
      "2025-09-15 09:34:01,469 - XTSE0020: Serialization parameter Q{.../saxon.sf.net/}line-length is not available in Saxon-HE\n",
      "\n",
      "2025-09-15 09:34:01,469 - C:\\Users\\mrauschsupola\\Shawi\\shawi-data\\103_tei_w\\2025-09-15_09-33\\Urfa-087_Smide-Harran-2010_04_posttok.xml - C:\\Users\\mrauschsupola\\Shawi\\shawi-data\\080_scripts_generic\\080_01_ELAN2TEI\\tokenizer\\annotationBlock2div.xsl -> C:\\Users\\mrauschsupola\\Shawi\\shawi-data\\103_tei_w\\2025-09-15_09-33\\Urfa-087_Smide-Harran-2010_05_ab2div.xml failed\n",
      "2025-09-15 09:34:01,469 - there was an error transforming ../../103_tei_w/2025-09-15_09-33/Urfa-087_Smide-Harran-2010_04_posttok.xml with stylesheet ./tokenizer/annotationBlock2div.xsl\n",
      "2025-09-15 09:34:01,478 - Unable to resolve <C:\\Users\\mrauschsupola\\Shawi\\shawi-data\\103_tei_w\\2025-09-15_09-33\\Urfa-087_Smide-Harran-2010_05_ab2div.xml> into a Source. Line number: -1\n",
      "2025-09-15 09:34:01,478 - C:\\Users\\mrauschsupola\\Shawi\\shawi-data\\103_tei_w\\2025-09-15_09-33\\Urfa-087_Smide-Harran-2010_05_ab2div.xml - C:\\Users\\mrauschsupola\\Shawi\\shawi-data\\080_scripts_generic\\080_01_ELAN2TEI\\tokenizer\\custom_xtoks2tei.xsl -> C:\\Users\\mrauschsupola\\Shawi\\shawi-data\\103_tei_w\\Urfa-087_Smide-Harran-2010.xml failed\n"
     ]
    },
    {
     "name": "stdout",
     "output_type": "stream",
     "text": [
      "Urfa-085_The_Snake_in_the_Cistern-Harran-2010: done.\n",
      "Urfa-087_Smide-Harran-2010: C:\\Users\\mrauschsupola\\Shawi\\shawi-data\\103_tei_w\\2025-09-15_09-33\\ELAN_Urfa-087_Smide-Harran-2010.xml -> C:\\Users\\mrauschsupola\\Shawi\\shawi-data\\103_tei_w\\Urfa-087_Smide-Harran-2010.xml\n",
      "Urfa-087_Smide-Harran-2010: done.\n",
      "Urfa-092_Sultan_Murad-Harran-2010: C:\\Users\\mrauschsupola\\Shawi\\shawi-data\\103_tei_w\\2025-09-15_09-33\\ELAN_Urfa-092_Sultan_Murad-Harran-2010.xml -> C:\\Users\\mrauschsupola\\Shawi\\shawi-data\\103_tei_w\\Urfa-092_Sultan_Murad-Harran-2010.xml\n"
     ]
    },
    {
     "name": "stderr",
     "output_type": "stream",
     "text": [
      "2025-09-15 09:34:02,402 - XTSE0020: Serialization parameter Q{.../saxon.sf.net/}line-length is not available in Saxon-HE\n",
      "\n",
      "2025-09-15 09:34:02,403 - C:\\Users\\mrauschsupola\\Shawi\\shawi-data\\103_tei_w\\2025-09-15_09-33\\Urfa-092_Sultan_Murad-Harran-2010_04_posttok.xml - C:\\Users\\mrauschsupola\\Shawi\\shawi-data\\080_scripts_generic\\080_01_ELAN2TEI\\tokenizer\\annotationBlock2div.xsl -> C:\\Users\\mrauschsupola\\Shawi\\shawi-data\\103_tei_w\\2025-09-15_09-33\\Urfa-092_Sultan_Murad-Harran-2010_05_ab2div.xml failed\n",
      "2025-09-15 09:34:02,404 - there was an error transforming ../../103_tei_w/2025-09-15_09-33/Urfa-092_Sultan_Murad-Harran-2010_04_posttok.xml with stylesheet ./tokenizer/annotationBlock2div.xsl\n",
      "2025-09-15 09:34:02,407 - Unable to resolve <C:\\Users\\mrauschsupola\\Shawi\\shawi-data\\103_tei_w\\2025-09-15_09-33\\Urfa-092_Sultan_Murad-Harran-2010_05_ab2div.xml> into a Source. Line number: -1\n",
      "2025-09-15 09:34:02,407 - C:\\Users\\mrauschsupola\\Shawi\\shawi-data\\103_tei_w\\2025-09-15_09-33\\Urfa-092_Sultan_Murad-Harran-2010_05_ab2div.xml - C:\\Users\\mrauschsupola\\Shawi\\shawi-data\\080_scripts_generic\\080_01_ELAN2TEI\\tokenizer\\custom_xtoks2tei.xsl -> C:\\Users\\mrauschsupola\\Shawi\\shawi-data\\103_tei_w\\Urfa-092_Sultan_Murad-Harran-2010.xml failed\n"
     ]
    },
    {
     "name": "stdout",
     "output_type": "stream",
     "text": [
      "Urfa-092_Sultan_Murad-Harran-2010: done.\n",
      "Urfa-094_Three_Advices-Harran-2010: C:\\Users\\mrauschsupola\\Shawi\\shawi-data\\103_tei_w\\2025-09-15_09-33\\ELAN_Urfa-094_Three_Advices-Harran-2010.xml -> C:\\Users\\mrauschsupola\\Shawi\\shawi-data\\103_tei_w\\Urfa-094_Three_Advices-Harran-2010.xml\n"
     ]
    },
    {
     "name": "stderr",
     "output_type": "stream",
     "text": [
      "2025-09-15 09:34:03,444 - XTSE0020: Serialization parameter Q{.../saxon.sf.net/}line-length is not available in Saxon-HE\n",
      "\n",
      "2025-09-15 09:34:03,445 - C:\\Users\\mrauschsupola\\Shawi\\shawi-data\\103_tei_w\\2025-09-15_09-33\\Urfa-094_Three_Advices-Harran-2010_04_posttok.xml - C:\\Users\\mrauschsupola\\Shawi\\shawi-data\\080_scripts_generic\\080_01_ELAN2TEI\\tokenizer\\annotationBlock2div.xsl -> C:\\Users\\mrauschsupola\\Shawi\\shawi-data\\103_tei_w\\2025-09-15_09-33\\Urfa-094_Three_Advices-Harran-2010_05_ab2div.xml failed\n",
      "2025-09-15 09:34:03,446 - there was an error transforming ../../103_tei_w/2025-09-15_09-33/Urfa-094_Three_Advices-Harran-2010_04_posttok.xml with stylesheet ./tokenizer/annotationBlock2div.xsl\n",
      "2025-09-15 09:34:03,449 - Unable to resolve <C:\\Users\\mrauschsupola\\Shawi\\shawi-data\\103_tei_w\\2025-09-15_09-33\\Urfa-094_Three_Advices-Harran-2010_05_ab2div.xml> into a Source. Line number: -1\n",
      "2025-09-15 09:34:03,449 - C:\\Users\\mrauschsupola\\Shawi\\shawi-data\\103_tei_w\\2025-09-15_09-33\\Urfa-094_Three_Advices-Harran-2010_05_ab2div.xml - C:\\Users\\mrauschsupola\\Shawi\\shawi-data\\080_scripts_generic\\080_01_ELAN2TEI\\tokenizer\\custom_xtoks2tei.xsl -> C:\\Users\\mrauschsupola\\Shawi\\shawi-data\\103_tei_w\\Urfa-094_Three_Advices-Harran-2010.xml failed\n",
      "2025-09-15 09:34:03,877 - XTSE0020: Serialization parameter Q{.../saxon.sf.net/}line-length is not available in Saxon-HE\n",
      "\n",
      "2025-09-15 09:34:03,878 - C:\\Users\\mrauschsupola\\Shawi\\shawi-data\\103_tei_w\\2025-09-15_09-33\\Urfa-097_Three_Daughters-Harran-2010_04_posttok.xml - C:\\Users\\mrauschsupola\\Shawi\\shawi-data\\080_scripts_generic\\080_01_ELAN2TEI\\tokenizer\\annotationBlock2div.xsl -> C:\\Users\\mrauschsupola\\Shawi\\shawi-data\\103_tei_w\\2025-09-15_09-33\\Urfa-097_Three_Daughters-Harran-2010_05_ab2div.xml failed\n",
      "2025-09-15 09:34:03,878 - there was an error transforming ../../103_tei_w/2025-09-15_09-33/Urfa-097_Three_Daughters-Harran-2010_04_posttok.xml with stylesheet ./tokenizer/annotationBlock2div.xsl\n",
      "2025-09-15 09:34:03,885 - Unable to resolve <C:\\Users\\mrauschsupola\\Shawi\\shawi-data\\103_tei_w\\2025-09-15_09-33\\Urfa-097_Three_Daughters-Harran-2010_05_ab2div.xml> into a Source. Line number: -1\n",
      "2025-09-15 09:34:03,886 - C:\\Users\\mrauschsupola\\Shawi\\shawi-data\\103_tei_w\\2025-09-15_09-33\\Urfa-097_Three_Daughters-Harran-2010_05_ab2div.xml - C:\\Users\\mrauschsupola\\Shawi\\shawi-data\\080_scripts_generic\\080_01_ELAN2TEI\\tokenizer\\custom_xtoks2tei.xsl -> C:\\Users\\mrauschsupola\\Shawi\\shawi-data\\103_tei_w\\Urfa-097_Three_Daughters-Harran-2010.xml failed\n"
     ]
    },
    {
     "name": "stdout",
     "output_type": "stream",
     "text": [
      "Urfa-094_Three_Advices-Harran-2010: done.\n",
      "Urfa-097_Three_Daughters-Harran-2010: C:\\Users\\mrauschsupola\\Shawi\\shawi-data\\103_tei_w\\2025-09-15_09-33\\ELAN_Urfa-097_Three_Daughters-Harran-2010.xml -> C:\\Users\\mrauschsupola\\Shawi\\shawi-data\\103_tei_w\\Urfa-097_Three_Daughters-Harran-2010.xml\n",
      "Urfa-097_Three_Daughters-Harran-2010: done.\n",
      "Urfa-098_Young_Woman-Harran-2010: C:\\Users\\mrauschsupola\\Shawi\\shawi-data\\103_tei_w\\2025-09-15_09-33\\ELAN_Urfa-098_Young_Woman-Harran-2010.xml -> C:\\Users\\mrauschsupola\\Shawi\\shawi-data\\103_tei_w\\Urfa-098_Young_Woman-Harran-2010.xml\n"
     ]
    },
    {
     "name": "stderr",
     "output_type": "stream",
     "text": [
      "2025-09-15 09:34:04,214 - XTSE0020: Serialization parameter Q{.../saxon.sf.net/}line-length is not available in Saxon-HE\n",
      "\n",
      "2025-09-15 09:34:04,214 - C:\\Users\\mrauschsupola\\Shawi\\shawi-data\\103_tei_w\\2025-09-15_09-33\\Urfa-098_Young_Woman-Harran-2010_04_posttok.xml - C:\\Users\\mrauschsupola\\Shawi\\shawi-data\\080_scripts_generic\\080_01_ELAN2TEI\\tokenizer\\annotationBlock2div.xsl -> C:\\Users\\mrauschsupola\\Shawi\\shawi-data\\103_tei_w\\2025-09-15_09-33\\Urfa-098_Young_Woman-Harran-2010_05_ab2div.xml failed\n",
      "2025-09-15 09:34:04,216 - there was an error transforming ../../103_tei_w/2025-09-15_09-33/Urfa-098_Young_Woman-Harran-2010_04_posttok.xml with stylesheet ./tokenizer/annotationBlock2div.xsl\n",
      "2025-09-15 09:34:04,219 - Unable to resolve <C:\\Users\\mrauschsupola\\Shawi\\shawi-data\\103_tei_w\\2025-09-15_09-33\\Urfa-098_Young_Woman-Harran-2010_05_ab2div.xml> into a Source. Line number: -1\n",
      "2025-09-15 09:34:04,219 - C:\\Users\\mrauschsupola\\Shawi\\shawi-data\\103_tei_w\\2025-09-15_09-33\\Urfa-098_Young_Woman-Harran-2010_05_ab2div.xml - C:\\Users\\mrauschsupola\\Shawi\\shawi-data\\080_scripts_generic\\080_01_ELAN2TEI\\tokenizer\\custom_xtoks2tei.xsl -> C:\\Users\\mrauschsupola\\Shawi\\shawi-data\\103_tei_w\\Urfa-098_Young_Woman-Harran-2010.xml failed\n"
     ]
    },
    {
     "name": "stdout",
     "output_type": "stream",
     "text": [
      "Urfa-098_Young_Woman-Harran-2010: done.\n",
      "Urfa-105_Life_in_Former_Times-Harran-2010: C:\\Users\\mrauschsupola\\Shawi\\shawi-data\\103_tei_w\\2025-09-15_09-33\\ELAN_Urfa-105_Life_in_Former_Times-Harran-2010.xml -> C:\\Users\\mrauschsupola\\Shawi\\shawi-data\\103_tei_w\\Urfa-105_Life_in_Former_Times-Harran-2010.xml\n"
     ]
    },
    {
     "name": "stderr",
     "output_type": "stream",
     "text": [
      "2025-09-15 09:34:04,666 - XTSE0020: Serialization parameter Q{.../saxon.sf.net/}line-length is not available in Saxon-HE\n",
      "\n",
      "2025-09-15 09:34:04,668 - C:\\Users\\mrauschsupola\\Shawi\\shawi-data\\103_tei_w\\2025-09-15_09-33\\Urfa-105_Life_in_Former_Times-Harran-2010_04_posttok.xml - C:\\Users\\mrauschsupola\\Shawi\\shawi-data\\080_scripts_generic\\080_01_ELAN2TEI\\tokenizer\\annotationBlock2div.xsl -> C:\\Users\\mrauschsupola\\Shawi\\shawi-data\\103_tei_w\\2025-09-15_09-33\\Urfa-105_Life_in_Former_Times-Harran-2010_05_ab2div.xml failed\n",
      "2025-09-15 09:34:04,668 - there was an error transforming ../../103_tei_w/2025-09-15_09-33/Urfa-105_Life_in_Former_Times-Harran-2010_04_posttok.xml with stylesheet ./tokenizer/annotationBlock2div.xsl\n",
      "2025-09-15 09:34:04,673 - Unable to resolve <C:\\Users\\mrauschsupola\\Shawi\\shawi-data\\103_tei_w\\2025-09-15_09-33\\Urfa-105_Life_in_Former_Times-Harran-2010_05_ab2div.xml> into a Source. Line number: -1\n",
      "2025-09-15 09:34:04,673 - C:\\Users\\mrauschsupola\\Shawi\\shawi-data\\103_tei_w\\2025-09-15_09-33\\Urfa-105_Life_in_Former_Times-Harran-2010_05_ab2div.xml - C:\\Users\\mrauschsupola\\Shawi\\shawi-data\\080_scripts_generic\\080_01_ELAN2TEI\\tokenizer\\custom_xtoks2tei.xsl -> C:\\Users\\mrauschsupola\\Shawi\\shawi-data\\103_tei_w\\Urfa-105_Life_in_Former_Times-Harran-2010.xml failed\n"
     ]
    },
    {
     "name": "stdout",
     "output_type": "stream",
     "text": [
      "Urfa-105_Life_in_Former_Times-Harran-2010: done.\n",
      "Urfa-106_Visa_in_Ankara-Harran-2010: C:\\Users\\mrauschsupola\\Shawi\\shawi-data\\103_tei_w\\2025-09-15_09-33\\ELAN_Urfa-106_Visa_in_Ankara-Harran-2010.xml -> C:\\Users\\mrauschsupola\\Shawi\\shawi-data\\103_tei_w\\Urfa-106_Visa_in_Ankara-Harran-2010.xml\n"
     ]
    },
    {
     "name": "stderr",
     "output_type": "stream",
     "text": [
      "2025-09-15 09:34:05,049 - XTSE0020: Serialization parameter Q{.../saxon.sf.net/}line-length is not available in Saxon-HE\n",
      "\n",
      "2025-09-15 09:34:05,056 - C:\\Users\\mrauschsupola\\Shawi\\shawi-data\\103_tei_w\\2025-09-15_09-33\\Urfa-106_Visa_in_Ankara-Harran-2010_04_posttok.xml - C:\\Users\\mrauschsupola\\Shawi\\shawi-data\\080_scripts_generic\\080_01_ELAN2TEI\\tokenizer\\annotationBlock2div.xsl -> C:\\Users\\mrauschsupola\\Shawi\\shawi-data\\103_tei_w\\2025-09-15_09-33\\Urfa-106_Visa_in_Ankara-Harran-2010_05_ab2div.xml failed\n",
      "2025-09-15 09:34:05,056 - there was an error transforming ../../103_tei_w/2025-09-15_09-33/Urfa-106_Visa_in_Ankara-Harran-2010_04_posttok.xml with stylesheet ./tokenizer/annotationBlock2div.xsl\n",
      "2025-09-15 09:34:05,060 - Unable to resolve <C:\\Users\\mrauschsupola\\Shawi\\shawi-data\\103_tei_w\\2025-09-15_09-33\\Urfa-106_Visa_in_Ankara-Harran-2010_05_ab2div.xml> into a Source. Line number: -1\n",
      "2025-09-15 09:34:05,060 - C:\\Users\\mrauschsupola\\Shawi\\shawi-data\\103_tei_w\\2025-09-15_09-33\\Urfa-106_Visa_in_Ankara-Harran-2010_05_ab2div.xml - C:\\Users\\mrauschsupola\\Shawi\\shawi-data\\080_scripts_generic\\080_01_ELAN2TEI\\tokenizer\\custom_xtoks2tei.xsl -> C:\\Users\\mrauschsupola\\Shawi\\shawi-data\\103_tei_w\\Urfa-106_Visa_in_Ankara-Harran-2010.xml failed\n"
     ]
    },
    {
     "name": "stdout",
     "output_type": "stream",
     "text": [
      "Urfa-106_Visa_in_Ankara-Harran-2010: done.\n",
      "Urfa-107_Cotton_Business-Harran-2010: C:\\Users\\mrauschsupola\\Shawi\\shawi-data\\103_tei_w\\2025-09-15_09-33\\ELAN_Urfa-107_Cotton_Business-Harran-2010.xml -> C:\\Users\\mrauschsupola\\Shawi\\shawi-data\\103_tei_w\\Urfa-107_Cotton_Business-Harran-2010.xml\n"
     ]
    },
    {
     "name": "stderr",
     "output_type": "stream",
     "text": [
      "2025-09-15 09:34:06,112 - XTSE0020: Serialization parameter Q{.../saxon.sf.net/}line-length is not available in Saxon-HE\n",
      "\n",
      "2025-09-15 09:34:06,127 - C:\\Users\\mrauschsupola\\Shawi\\shawi-data\\103_tei_w\\2025-09-15_09-33\\Urfa-107_Cotton_Business-Harran-2010_04_posttok.xml - C:\\Users\\mrauschsupola\\Shawi\\shawi-data\\080_scripts_generic\\080_01_ELAN2TEI\\tokenizer\\annotationBlock2div.xsl -> C:\\Users\\mrauschsupola\\Shawi\\shawi-data\\103_tei_w\\2025-09-15_09-33\\Urfa-107_Cotton_Business-Harran-2010_05_ab2div.xml failed\n",
      "2025-09-15 09:34:06,127 - there was an error transforming ../../103_tei_w/2025-09-15_09-33/Urfa-107_Cotton_Business-Harran-2010_04_posttok.xml with stylesheet ./tokenizer/annotationBlock2div.xsl\n",
      "2025-09-15 09:34:06,132 - Unable to resolve <C:\\Users\\mrauschsupola\\Shawi\\shawi-data\\103_tei_w\\2025-09-15_09-33\\Urfa-107_Cotton_Business-Harran-2010_05_ab2div.xml> into a Source. Line number: -1\n",
      "2025-09-15 09:34:06,132 - C:\\Users\\mrauschsupola\\Shawi\\shawi-data\\103_tei_w\\2025-09-15_09-33\\Urfa-107_Cotton_Business-Harran-2010_05_ab2div.xml - C:\\Users\\mrauschsupola\\Shawi\\shawi-data\\080_scripts_generic\\080_01_ELAN2TEI\\tokenizer\\custom_xtoks2tei.xsl -> C:\\Users\\mrauschsupola\\Shawi\\shawi-data\\103_tei_w\\Urfa-107_Cotton_Business-Harran-2010.xml failed\n"
     ]
    },
    {
     "name": "stdout",
     "output_type": "stream",
     "text": [
      "Urfa-107_Cotton_Business-Harran-2010: done.\n",
      "Urfa-110_Salim_az-Zir-Harran-2010: C:\\Users\\mrauschsupola\\Shawi\\shawi-data\\103_tei_w\\2025-09-15_09-33\\ELAN_Urfa-110_Salim_az-Zir-Harran-2010.xml -> C:\\Users\\mrauschsupola\\Shawi\\shawi-data\\103_tei_w\\Urfa-110_Salim_az-Zir-Harran-2010.xml\n"
     ]
    },
    {
     "name": "stderr",
     "output_type": "stream",
     "text": [
      "2025-09-15 09:34:06,576 - XTSE0020: Serialization parameter Q{.../saxon.sf.net/}line-length is not available in Saxon-HE\n",
      "\n",
      "2025-09-15 09:34:06,580 - C:\\Users\\mrauschsupola\\Shawi\\shawi-data\\103_tei_w\\2025-09-15_09-33\\Urfa-110_Salim_az-Zir-Harran-2010_04_posttok.xml - C:\\Users\\mrauschsupola\\Shawi\\shawi-data\\080_scripts_generic\\080_01_ELAN2TEI\\tokenizer\\annotationBlock2div.xsl -> C:\\Users\\mrauschsupola\\Shawi\\shawi-data\\103_tei_w\\2025-09-15_09-33\\Urfa-110_Salim_az-Zir-Harran-2010_05_ab2div.xml failed\n",
      "2025-09-15 09:34:06,580 - there was an error transforming ../../103_tei_w/2025-09-15_09-33/Urfa-110_Salim_az-Zir-Harran-2010_04_posttok.xml with stylesheet ./tokenizer/annotationBlock2div.xsl\n",
      "2025-09-15 09:34:06,583 - Unable to resolve <C:\\Users\\mrauschsupola\\Shawi\\shawi-data\\103_tei_w\\2025-09-15_09-33\\Urfa-110_Salim_az-Zir-Harran-2010_05_ab2div.xml> into a Source. Line number: -1\n",
      "2025-09-15 09:34:06,583 - C:\\Users\\mrauschsupola\\Shawi\\shawi-data\\103_tei_w\\2025-09-15_09-33\\Urfa-110_Salim_az-Zir-Harran-2010_05_ab2div.xml - C:\\Users\\mrauschsupola\\Shawi\\shawi-data\\080_scripts_generic\\080_01_ELAN2TEI\\tokenizer\\custom_xtoks2tei.xsl -> C:\\Users\\mrauschsupola\\Shawi\\shawi-data\\103_tei_w\\Urfa-110_Salim_az-Zir-Harran-2010.xml failed\n",
      "2025-09-15 09:34:06,986 - XTSE0020: Serialization parameter Q{.../saxon.sf.net/}line-length is not available in Saxon-HE\n",
      "\n"
     ]
    },
    {
     "name": "stdout",
     "output_type": "stream",
     "text": [
      "Urfa-110_Salim_az-Zir-Harran-2010: done.\n",
      "Urfa-112_Tall_Nasir-Harran-2010: C:\\Users\\mrauschsupola\\Shawi\\shawi-data\\103_tei_w\\2025-09-15_09-33\\ELAN_Urfa-112_Tall_Nasir-Harran-2010.xml -> C:\\Users\\mrauschsupola\\Shawi\\shawi-data\\103_tei_w\\Urfa-112_Tall_Nasir-Harran-2010.xml\n"
     ]
    },
    {
     "name": "stderr",
     "output_type": "stream",
     "text": [
      "2025-09-15 09:34:06,997 - C:\\Users\\mrauschsupola\\Shawi\\shawi-data\\103_tei_w\\2025-09-15_09-33\\Urfa-112_Tall_Nasir-Harran-2010_04_posttok.xml - C:\\Users\\mrauschsupola\\Shawi\\shawi-data\\080_scripts_generic\\080_01_ELAN2TEI\\tokenizer\\annotationBlock2div.xsl -> C:\\Users\\mrauschsupola\\Shawi\\shawi-data\\103_tei_w\\2025-09-15_09-33\\Urfa-112_Tall_Nasir-Harran-2010_05_ab2div.xml failed\n",
      "2025-09-15 09:34:06,997 - there was an error transforming ../../103_tei_w/2025-09-15_09-33/Urfa-112_Tall_Nasir-Harran-2010_04_posttok.xml with stylesheet ./tokenizer/annotationBlock2div.xsl\n",
      "2025-09-15 09:34:07,001 - Unable to resolve <C:\\Users\\mrauschsupola\\Shawi\\shawi-data\\103_tei_w\\2025-09-15_09-33\\Urfa-112_Tall_Nasir-Harran-2010_05_ab2div.xml> into a Source. Line number: -1\n",
      "2025-09-15 09:34:07,001 - C:\\Users\\mrauschsupola\\Shawi\\shawi-data\\103_tei_w\\2025-09-15_09-33\\Urfa-112_Tall_Nasir-Harran-2010_05_ab2div.xml - C:\\Users\\mrauschsupola\\Shawi\\shawi-data\\080_scripts_generic\\080_01_ELAN2TEI\\tokenizer\\custom_xtoks2tei.xsl -> C:\\Users\\mrauschsupola\\Shawi\\shawi-data\\103_tei_w\\Urfa-112_Tall_Nasir-Harran-2010.xml failed\n",
      "2025-09-15 09:34:07,303 - XTSE0020: Serialization parameter Q{.../saxon.sf.net/}line-length is not available in Saxon-HE\n",
      "\n",
      "2025-09-15 09:34:07,303 - C:\\Users\\mrauschsupola\\Shawi\\shawi-data\\103_tei_w\\2025-09-15_09-33\\Urfa-115_Camel-Harran-2010_04_posttok.xml - C:\\Users\\mrauschsupola\\Shawi\\shawi-data\\080_scripts_generic\\080_01_ELAN2TEI\\tokenizer\\annotationBlock2div.xsl -> C:\\Users\\mrauschsupola\\Shawi\\shawi-data\\103_tei_w\\2025-09-15_09-33\\Urfa-115_Camel-Harran-2010_05_ab2div.xml failed\n",
      "2025-09-15 09:34:07,303 - there was an error transforming ../../103_tei_w/2025-09-15_09-33/Urfa-115_Camel-Harran-2010_04_posttok.xml with stylesheet ./tokenizer/annotationBlock2div.xsl\n",
      "2025-09-15 09:34:07,317 - Unable to resolve <C:\\Users\\mrauschsupola\\Shawi\\shawi-data\\103_tei_w\\2025-09-15_09-33\\Urfa-115_Camel-Harran-2010_05_ab2div.xml> into a Source. Line number: -1\n",
      "2025-09-15 09:34:07,317 - C:\\Users\\mrauschsupola\\Shawi\\shawi-data\\103_tei_w\\2025-09-15_09-33\\Urfa-115_Camel-Harran-2010_05_ab2div.xml - C:\\Users\\mrauschsupola\\Shawi\\shawi-data\\080_scripts_generic\\080_01_ELAN2TEI\\tokenizer\\custom_xtoks2tei.xsl -> C:\\Users\\mrauschsupola\\Shawi\\shawi-data\\103_tei_w\\Urfa-115_Camel-Harran-2010.xml failed\n"
     ]
    },
    {
     "name": "stdout",
     "output_type": "stream",
     "text": [
      "Urfa-112_Tall_Nasir-Harran-2010: done.\n",
      "Urfa-115_Camel-Harran-2010: C:\\Users\\mrauschsupola\\Shawi\\shawi-data\\103_tei_w\\2025-09-15_09-33\\ELAN_Urfa-115_Camel-Harran-2010.xml -> C:\\Users\\mrauschsupola\\Shawi\\shawi-data\\103_tei_w\\Urfa-115_Camel-Harran-2010.xml\n",
      "Urfa-115_Camel-Harran-2010: done.\n",
      "Urfa-119_Engagement-Harran-2010: C:\\Users\\mrauschsupola\\Shawi\\shawi-data\\103_tei_w\\2025-09-15_09-33\\ELAN_Urfa-119_Engagement-Harran-2010.xml -> C:\\Users\\mrauschsupola\\Shawi\\shawi-data\\103_tei_w\\Urfa-119_Engagement-Harran-2010.xml\n"
     ]
    },
    {
     "name": "stderr",
     "output_type": "stream",
     "text": [
      "2025-09-15 09:34:07,777 - XTSE0020: Serialization parameter Q{.../saxon.sf.net/}line-length is not available in Saxon-HE\n",
      "\n",
      "2025-09-15 09:34:07,779 - C:\\Users\\mrauschsupola\\Shawi\\shawi-data\\103_tei_w\\2025-09-15_09-33\\Urfa-119_Engagement-Harran-2010_04_posttok.xml - C:\\Users\\mrauschsupola\\Shawi\\shawi-data\\080_scripts_generic\\080_01_ELAN2TEI\\tokenizer\\annotationBlock2div.xsl -> C:\\Users\\mrauschsupola\\Shawi\\shawi-data\\103_tei_w\\2025-09-15_09-33\\Urfa-119_Engagement-Harran-2010_05_ab2div.xml failed\n",
      "2025-09-15 09:34:07,779 - there was an error transforming ../../103_tei_w/2025-09-15_09-33/Urfa-119_Engagement-Harran-2010_04_posttok.xml with stylesheet ./tokenizer/annotationBlock2div.xsl\n",
      "2025-09-15 09:34:07,782 - Unable to resolve <C:\\Users\\mrauschsupola\\Shawi\\shawi-data\\103_tei_w\\2025-09-15_09-33\\Urfa-119_Engagement-Harran-2010_05_ab2div.xml> into a Source. Line number: -1\n",
      "2025-09-15 09:34:07,782 - C:\\Users\\mrauschsupola\\Shawi\\shawi-data\\103_tei_w\\2025-09-15_09-33\\Urfa-119_Engagement-Harran-2010_05_ab2div.xml - C:\\Users\\mrauschsupola\\Shawi\\shawi-data\\080_scripts_generic\\080_01_ELAN2TEI\\tokenizer\\custom_xtoks2tei.xsl -> C:\\Users\\mrauschsupola\\Shawi\\shawi-data\\103_tei_w\\Urfa-119_Engagement-Harran-2010.xml failed\n"
     ]
    },
    {
     "name": "stdout",
     "output_type": "stream",
     "text": [
      "Urfa-119_Engagement-Harran-2010: done.\n",
      "Urfa-120_Cross_Marriage-Harran-2010: C:\\Users\\mrauschsupola\\Shawi\\shawi-data\\103_tei_w\\2025-09-15_09-33\\ELAN_Urfa-120_Cross_Marriage-Harran-2010.xml -> C:\\Users\\mrauschsupola\\Shawi\\shawi-data\\103_tei_w\\Urfa-120_Cross_Marriage-Harran-2010.xml\n"
     ]
    },
    {
     "name": "stderr",
     "output_type": "stream",
     "text": [
      "2025-09-15 09:34:08,077 - XTSE0020: Serialization parameter Q{.../saxon.sf.net/}line-length is not available in Saxon-HE\n",
      "\n",
      "2025-09-15 09:34:08,077 - C:\\Users\\mrauschsupola\\Shawi\\shawi-data\\103_tei_w\\2025-09-15_09-33\\Urfa-120_Cross_Marriage-Harran-2010_04_posttok.xml - C:\\Users\\mrauschsupola\\Shawi\\shawi-data\\080_scripts_generic\\080_01_ELAN2TEI\\tokenizer\\annotationBlock2div.xsl -> C:\\Users\\mrauschsupola\\Shawi\\shawi-data\\103_tei_w\\2025-09-15_09-33\\Urfa-120_Cross_Marriage-Harran-2010_05_ab2div.xml failed\n",
      "2025-09-15 09:34:08,077 - there was an error transforming ../../103_tei_w/2025-09-15_09-33/Urfa-120_Cross_Marriage-Harran-2010_04_posttok.xml with stylesheet ./tokenizer/annotationBlock2div.xsl\n",
      "2025-09-15 09:34:08,092 - Unable to resolve <C:\\Users\\mrauschsupola\\Shawi\\shawi-data\\103_tei_w\\2025-09-15_09-33\\Urfa-120_Cross_Marriage-Harran-2010_05_ab2div.xml> into a Source. Line number: -1\n",
      "2025-09-15 09:34:08,093 - C:\\Users\\mrauschsupola\\Shawi\\shawi-data\\103_tei_w\\2025-09-15_09-33\\Urfa-120_Cross_Marriage-Harran-2010_05_ab2div.xml - C:\\Users\\mrauschsupola\\Shawi\\shawi-data\\080_scripts_generic\\080_01_ELAN2TEI\\tokenizer\\custom_xtoks2tei.xsl -> C:\\Users\\mrauschsupola\\Shawi\\shawi-data\\103_tei_w\\Urfa-120_Cross_Marriage-Harran-2010.xml failed\n",
      "2025-09-15 09:34:08,382 - XTSE0020: Serialization parameter Q{.../saxon.sf.net/}line-length is not available in Saxon-HE\n",
      "\n",
      "2025-09-15 09:34:08,398 - C:\\Users\\mrauschsupola\\Shawi\\shawi-data\\103_tei_w\\2025-09-15_09-33\\Urfa-122_Nimrod-Harran-2010_04_posttok.xml - C:\\Users\\mrauschsupola\\Shawi\\shawi-data\\080_scripts_generic\\080_01_ELAN2TEI\\tokenizer\\annotationBlock2div.xsl -> C:\\Users\\mrauschsupola\\Shawi\\shawi-data\\103_tei_w\\2025-09-15_09-33\\Urfa-122_Nimrod-Harran-2010_05_ab2div.xml failed\n",
      "2025-09-15 09:34:08,398 - there was an error transforming ../../103_tei_w/2025-09-15_09-33/Urfa-122_Nimrod-Harran-2010_04_posttok.xml with stylesheet ./tokenizer/annotationBlock2div.xsl\n",
      "2025-09-15 09:34:08,400 - Unable to resolve <C:\\Users\\mrauschsupola\\Shawi\\shawi-data\\103_tei_w\\2025-09-15_09-33\\Urfa-122_Nimrod-Harran-2010_05_ab2div.xml> into a Source. Line number: -1\n",
      "2025-09-15 09:34:08,400 - C:\\Users\\mrauschsupola\\Shawi\\shawi-data\\103_tei_w\\2025-09-15_09-33\\Urfa-122_Nimrod-Harran-2010_05_ab2div.xml - C:\\Users\\mrauschsupola\\Shawi\\shawi-data\\080_scripts_generic\\080_01_ELAN2TEI\\tokenizer\\custom_xtoks2tei.xsl -> C:\\Users\\mrauschsupola\\Shawi\\shawi-data\\103_tei_w\\Urfa-122_Nimrod-Harran-2010.xml failed\n"
     ]
    },
    {
     "name": "stdout",
     "output_type": "stream",
     "text": [
      "Urfa-120_Cross_Marriage-Harran-2010: done.\n",
      "Urfa-122_Nimrod-Harran-2010: C:\\Users\\mrauschsupola\\Shawi\\shawi-data\\103_tei_w\\2025-09-15_09-33\\ELAN_Urfa-122_Nimrod-Harran-2010.xml -> C:\\Users\\mrauschsupola\\Shawi\\shawi-data\\103_tei_w\\Urfa-122_Nimrod-Harran-2010.xml\n",
      "Urfa-122_Nimrod-Harran-2010: done.\n",
      "Urfa-123_Stealing_Boy_P1-Harran-2010: C:\\Users\\mrauschsupola\\Shawi\\shawi-data\\103_tei_w\\2025-09-15_09-33\\ELAN_Urfa-123_Stealing_Boy_P1-Harran-2010.xml -> C:\\Users\\mrauschsupola\\Shawi\\shawi-data\\103_tei_w\\Urfa-123_Stealing_Boy_P1-Harran-2010.xml\n"
     ]
    },
    {
     "name": "stderr",
     "output_type": "stream",
     "text": [
      "2025-09-15 09:34:08,655 - XTSE0020: Serialization parameter Q{.../saxon.sf.net/}line-length is not available in Saxon-HE\n",
      "\n",
      "2025-09-15 09:34:08,655 - C:\\Users\\mrauschsupola\\Shawi\\shawi-data\\103_tei_w\\2025-09-15_09-33\\Urfa-123_Stealing_Boy_P1-Harran-2010_04_posttok.xml - C:\\Users\\mrauschsupola\\Shawi\\shawi-data\\080_scripts_generic\\080_01_ELAN2TEI\\tokenizer\\annotationBlock2div.xsl -> C:\\Users\\mrauschsupola\\Shawi\\shawi-data\\103_tei_w\\2025-09-15_09-33\\Urfa-123_Stealing_Boy_P1-Harran-2010_05_ab2div.xml failed\n",
      "2025-09-15 09:34:08,655 - there was an error transforming ../../103_tei_w/2025-09-15_09-33/Urfa-123_Stealing_Boy_P1-Harran-2010_04_posttok.xml with stylesheet ./tokenizer/annotationBlock2div.xsl\n",
      "2025-09-15 09:34:08,660 - Unable to resolve <C:\\Users\\mrauschsupola\\Shawi\\shawi-data\\103_tei_w\\2025-09-15_09-33\\Urfa-123_Stealing_Boy_P1-Harran-2010_05_ab2div.xml> into a Source. Line number: -1\n",
      "2025-09-15 09:34:08,660 - C:\\Users\\mrauschsupola\\Shawi\\shawi-data\\103_tei_w\\2025-09-15_09-33\\Urfa-123_Stealing_Boy_P1-Harran-2010_05_ab2div.xml - C:\\Users\\mrauschsupola\\Shawi\\shawi-data\\080_scripts_generic\\080_01_ELAN2TEI\\tokenizer\\custom_xtoks2tei.xsl -> C:\\Users\\mrauschsupola\\Shawi\\shawi-data\\103_tei_w\\Urfa-123_Stealing_Boy_P1-Harran-2010.xml failed\n"
     ]
    },
    {
     "name": "stdout",
     "output_type": "stream",
     "text": [
      "Urfa-123_Stealing_Boy_P1-Harran-2010: done.\n",
      "Urfa-124_Stealing_Boy_P2-Harran-2010: C:\\Users\\mrauschsupola\\Shawi\\shawi-data\\103_tei_w\\2025-09-15_09-33\\ELAN_Urfa-124_Stealing_Boy_P2-Harran-2010.xml -> C:\\Users\\mrauschsupola\\Shawi\\shawi-data\\103_tei_w\\Urfa-124_Stealing_Boy_P2-Harran-2010.xml\n"
     ]
    },
    {
     "name": "stderr",
     "output_type": "stream",
     "text": [
      "2025-09-15 09:34:09,098 - XTSE0020: Serialization parameter Q{.../saxon.sf.net/}line-length is not available in Saxon-HE\n",
      "\n",
      "2025-09-15 09:34:09,105 - C:\\Users\\mrauschsupola\\Shawi\\shawi-data\\103_tei_w\\2025-09-15_09-33\\Urfa-124_Stealing_Boy_P2-Harran-2010_04_posttok.xml - C:\\Users\\mrauschsupola\\Shawi\\shawi-data\\080_scripts_generic\\080_01_ELAN2TEI\\tokenizer\\annotationBlock2div.xsl -> C:\\Users\\mrauschsupola\\Shawi\\shawi-data\\103_tei_w\\2025-09-15_09-33\\Urfa-124_Stealing_Boy_P2-Harran-2010_05_ab2div.xml failed\n",
      "2025-09-15 09:34:09,105 - there was an error transforming ../../103_tei_w/2025-09-15_09-33/Urfa-124_Stealing_Boy_P2-Harran-2010_04_posttok.xml with stylesheet ./tokenizer/annotationBlock2div.xsl\n",
      "2025-09-15 09:34:09,109 - Unable to resolve <C:\\Users\\mrauschsupola\\Shawi\\shawi-data\\103_tei_w\\2025-09-15_09-33\\Urfa-124_Stealing_Boy_P2-Harran-2010_05_ab2div.xml> into a Source. Line number: -1\n",
      "2025-09-15 09:34:09,109 - C:\\Users\\mrauschsupola\\Shawi\\shawi-data\\103_tei_w\\2025-09-15_09-33\\Urfa-124_Stealing_Boy_P2-Harran-2010_05_ab2div.xml - C:\\Users\\mrauschsupola\\Shawi\\shawi-data\\080_scripts_generic\\080_01_ELAN2TEI\\tokenizer\\custom_xtoks2tei.xsl -> C:\\Users\\mrauschsupola\\Shawi\\shawi-data\\103_tei_w\\Urfa-124_Stealing_Boy_P2-Harran-2010.xml failed\n"
     ]
    },
    {
     "name": "stdout",
     "output_type": "stream",
     "text": [
      "Urfa-124_Stealing_Boy_P2-Harran-2010: done.\n",
      "Urfa-125_Coffee-Harran-2010: C:\\Users\\mrauschsupola\\Shawi\\shawi-data\\103_tei_w\\2025-09-15_09-33\\ELAN_Urfa-125_Coffee-Harran-2010.xml -> C:\\Users\\mrauschsupola\\Shawi\\shawi-data\\103_tei_w\\Urfa-125_Coffee-Harran-2010.xml\n"
     ]
    },
    {
     "name": "stderr",
     "output_type": "stream",
     "text": [
      "2025-09-15 09:34:09,596 - XTSE0020: Serialization parameter Q{.../saxon.sf.net/}line-length is not available in Saxon-HE\n",
      "\n",
      "2025-09-15 09:34:09,598 - C:\\Users\\mrauschsupola\\Shawi\\shawi-data\\103_tei_w\\2025-09-15_09-33\\Urfa-125_Coffee-Harran-2010_04_posttok.xml - C:\\Users\\mrauschsupola\\Shawi\\shawi-data\\080_scripts_generic\\080_01_ELAN2TEI\\tokenizer\\annotationBlock2div.xsl -> C:\\Users\\mrauschsupola\\Shawi\\shawi-data\\103_tei_w\\2025-09-15_09-33\\Urfa-125_Coffee-Harran-2010_05_ab2div.xml failed\n",
      "2025-09-15 09:34:09,598 - there was an error transforming ../../103_tei_w/2025-09-15_09-33/Urfa-125_Coffee-Harran-2010_04_posttok.xml with stylesheet ./tokenizer/annotationBlock2div.xsl\n",
      "2025-09-15 09:34:09,601 - Unable to resolve <C:\\Users\\mrauschsupola\\Shawi\\shawi-data\\103_tei_w\\2025-09-15_09-33\\Urfa-125_Coffee-Harran-2010_05_ab2div.xml> into a Source. Line number: -1\n",
      "2025-09-15 09:34:09,602 - C:\\Users\\mrauschsupola\\Shawi\\shawi-data\\103_tei_w\\2025-09-15_09-33\\Urfa-125_Coffee-Harran-2010_05_ab2div.xml - C:\\Users\\mrauschsupola\\Shawi\\shawi-data\\080_scripts_generic\\080_01_ELAN2TEI\\tokenizer\\custom_xtoks2tei.xsl -> C:\\Users\\mrauschsupola\\Shawi\\shawi-data\\103_tei_w\\Urfa-125_Coffee-Harran-2010.xml failed\n"
     ]
    },
    {
     "name": "stdout",
     "output_type": "stream",
     "text": [
      "Urfa-125_Coffee-Harran-2010: done.\n",
      "Urfa-133_Sheikh_Musa-Harran-2013: C:\\Users\\mrauschsupola\\Shawi\\shawi-data\\103_tei_w\\2025-09-15_09-33\\ELAN_Urfa-133_Sheikh_Musa-Harran-2013.xml -> C:\\Users\\mrauschsupola\\Shawi\\shawi-data\\103_tei_w\\Urfa-133_Sheikh_Musa-Harran-2013.xml\n"
     ]
    },
    {
     "name": "stderr",
     "output_type": "stream",
     "text": [
      "2025-09-15 09:34:10,943 - XTSE0020: Serialization parameter Q{.../saxon.sf.net/}line-length is not available in Saxon-HE\n",
      "\n",
      "2025-09-15 09:34:10,944 - C:\\Users\\mrauschsupola\\Shawi\\shawi-data\\103_tei_w\\2025-09-15_09-33\\Urfa-133_Sheikh_Musa-Harran-2013_04_posttok.xml - C:\\Users\\mrauschsupola\\Shawi\\shawi-data\\080_scripts_generic\\080_01_ELAN2TEI\\tokenizer\\annotationBlock2div.xsl -> C:\\Users\\mrauschsupola\\Shawi\\shawi-data\\103_tei_w\\2025-09-15_09-33\\Urfa-133_Sheikh_Musa-Harran-2013_05_ab2div.xml failed\n",
      "2025-09-15 09:34:10,944 - there was an error transforming ../../103_tei_w/2025-09-15_09-33/Urfa-133_Sheikh_Musa-Harran-2013_04_posttok.xml with stylesheet ./tokenizer/annotationBlock2div.xsl\n",
      "2025-09-15 09:34:10,947 - Unable to resolve <C:\\Users\\mrauschsupola\\Shawi\\shawi-data\\103_tei_w\\2025-09-15_09-33\\Urfa-133_Sheikh_Musa-Harran-2013_05_ab2div.xml> into a Source. Line number: -1\n",
      "2025-09-15 09:34:10,948 - C:\\Users\\mrauschsupola\\Shawi\\shawi-data\\103_tei_w\\2025-09-15_09-33\\Urfa-133_Sheikh_Musa-Harran-2013_05_ab2div.xml - C:\\Users\\mrauschsupola\\Shawi\\shawi-data\\080_scripts_generic\\080_01_ELAN2TEI\\tokenizer\\custom_xtoks2tei.xsl -> C:\\Users\\mrauschsupola\\Shawi\\shawi-data\\103_tei_w\\Urfa-133_Sheikh_Musa-Harran-2013.xml failed\n"
     ]
    },
    {
     "name": "stdout",
     "output_type": "stream",
     "text": [
      "Urfa-133_Sheikh_Musa-Harran-2013: done.\n",
      "Urfa-135_Burglars_From_Syria-Harran-2013: C:\\Users\\mrauschsupola\\Shawi\\shawi-data\\103_tei_w\\2025-09-15_09-33\\ELAN_Urfa-135_Burglars_From_Syria-Harran-2013.xml -> C:\\Users\\mrauschsupola\\Shawi\\shawi-data\\103_tei_w\\Urfa-135_Burglars_From_Syria-Harran-2013.xml\n"
     ]
    },
    {
     "name": "stderr",
     "output_type": "stream",
     "text": [
      "2025-09-15 09:34:11,407 - XTSE0020: Serialization parameter Q{.../saxon.sf.net/}line-length is not available in Saxon-HE\n",
      "\n",
      "2025-09-15 09:34:11,408 - C:\\Users\\mrauschsupola\\Shawi\\shawi-data\\103_tei_w\\2025-09-15_09-33\\Urfa-135_Burglars_From_Syria-Harran-2013_04_posttok.xml - C:\\Users\\mrauschsupola\\Shawi\\shawi-data\\080_scripts_generic\\080_01_ELAN2TEI\\tokenizer\\annotationBlock2div.xsl -> C:\\Users\\mrauschsupola\\Shawi\\shawi-data\\103_tei_w\\2025-09-15_09-33\\Urfa-135_Burglars_From_Syria-Harran-2013_05_ab2div.xml failed\n",
      "2025-09-15 09:34:11,409 - there was an error transforming ../../103_tei_w/2025-09-15_09-33/Urfa-135_Burglars_From_Syria-Harran-2013_04_posttok.xml with stylesheet ./tokenizer/annotationBlock2div.xsl\n",
      "2025-09-15 09:34:11,412 - Unable to resolve <C:\\Users\\mrauschsupola\\Shawi\\shawi-data\\103_tei_w\\2025-09-15_09-33\\Urfa-135_Burglars_From_Syria-Harran-2013_05_ab2div.xml> into a Source. Line number: -1\n",
      "2025-09-15 09:34:11,412 - C:\\Users\\mrauschsupola\\Shawi\\shawi-data\\103_tei_w\\2025-09-15_09-33\\Urfa-135_Burglars_From_Syria-Harran-2013_05_ab2div.xml - C:\\Users\\mrauschsupola\\Shawi\\shawi-data\\080_scripts_generic\\080_01_ELAN2TEI\\tokenizer\\custom_xtoks2tei.xsl -> C:\\Users\\mrauschsupola\\Shawi\\shawi-data\\103_tei_w\\Urfa-135_Burglars_From_Syria-Harran-2013.xml failed\n",
      "2025-09-15 09:34:11,797 - XTSE0020: Serialization parameter Q{.../saxon.sf.net/}line-length is not available in Saxon-HE\n",
      "\n",
      "2025-09-15 09:34:11,798 - C:\\Users\\mrauschsupola\\Shawi\\shawi-data\\103_tei_w\\2025-09-15_09-33\\Urfa-136_Cigkofte-Harran-2013_04_posttok.xml - C:\\Users\\mrauschsupola\\Shawi\\shawi-data\\080_scripts_generic\\080_01_ELAN2TEI\\tokenizer\\annotationBlock2div.xsl -> C:\\Users\\mrauschsupola\\Shawi\\shawi-data\\103_tei_w\\2025-09-15_09-33\\Urfa-136_Cigkofte-Harran-2013_05_ab2div.xml failed\n",
      "2025-09-15 09:34:11,798 - there was an error transforming ../../103_tei_w/2025-09-15_09-33/Urfa-136_Cigkofte-Harran-2013_04_posttok.xml with stylesheet ./tokenizer/annotationBlock2div.xsl\n",
      "2025-09-15 09:34:11,802 - Unable to resolve <C:\\Users\\mrauschsupola\\Shawi\\shawi-data\\103_tei_w\\2025-09-15_09-33\\Urfa-136_Cigkofte-Harran-2013_05_ab2div.xml> into a Source. Line number: -1\n",
      "2025-09-15 09:34:11,803 - C:\\Users\\mrauschsupola\\Shawi\\shawi-data\\103_tei_w\\2025-09-15_09-33\\Urfa-136_Cigkofte-Harran-2013_05_ab2div.xml - C:\\Users\\mrauschsupola\\Shawi\\shawi-data\\080_scripts_generic\\080_01_ELAN2TEI\\tokenizer\\custom_xtoks2tei.xsl -> C:\\Users\\mrauschsupola\\Shawi\\shawi-data\\103_tei_w\\Urfa-136_Cigkofte-Harran-2013.xml failed\n"
     ]
    },
    {
     "name": "stdout",
     "output_type": "stream",
     "text": [
      "Urfa-135_Burglars_From_Syria-Harran-2013: done.\n",
      "Urfa-136_Cigkofte-Harran-2013: C:\\Users\\mrauschsupola\\Shawi\\shawi-data\\103_tei_w\\2025-09-15_09-33\\ELAN_Urfa-136_Cigkofte-Harran-2013.xml -> C:\\Users\\mrauschsupola\\Shawi\\shawi-data\\103_tei_w\\Urfa-136_Cigkofte-Harran-2013.xml\n",
      "Urfa-136_Cigkofte-Harran-2013: done.\n",
      "Urfa-137_Kazan_Kebab-Harran-2013: C:\\Users\\mrauschsupola\\Shawi\\shawi-data\\103_tei_w\\2025-09-15_09-33\\ELAN_Urfa-137_Kazan_Kebab-Harran-2013.xml -> C:\\Users\\mrauschsupola\\Shawi\\shawi-data\\103_tei_w\\Urfa-137_Kazan_Kebab-Harran-2013.xml\n"
     ]
    },
    {
     "name": "stderr",
     "output_type": "stream",
     "text": [
      "2025-09-15 09:34:12,089 - XTSE0020: Serialization parameter Q{.../saxon.sf.net/}line-length is not available in Saxon-HE\n",
      "\n",
      "2025-09-15 09:34:12,091 - C:\\Users\\mrauschsupola\\Shawi\\shawi-data\\103_tei_w\\2025-09-15_09-33\\Urfa-137_Kazan_Kebab-Harran-2013_04_posttok.xml - C:\\Users\\mrauschsupola\\Shawi\\shawi-data\\080_scripts_generic\\080_01_ELAN2TEI\\tokenizer\\annotationBlock2div.xsl -> C:\\Users\\mrauschsupola\\Shawi\\shawi-data\\103_tei_w\\2025-09-15_09-33\\Urfa-137_Kazan_Kebab-Harran-2013_05_ab2div.xml failed\n",
      "2025-09-15 09:34:12,091 - there was an error transforming ../../103_tei_w/2025-09-15_09-33/Urfa-137_Kazan_Kebab-Harran-2013_04_posttok.xml with stylesheet ./tokenizer/annotationBlock2div.xsl\n",
      "2025-09-15 09:34:12,096 - Unable to resolve <C:\\Users\\mrauschsupola\\Shawi\\shawi-data\\103_tei_w\\2025-09-15_09-33\\Urfa-137_Kazan_Kebab-Harran-2013_05_ab2div.xml> into a Source. Line number: -1\n",
      "2025-09-15 09:34:12,096 - C:\\Users\\mrauschsupola\\Shawi\\shawi-data\\103_tei_w\\2025-09-15_09-33\\Urfa-137_Kazan_Kebab-Harran-2013_05_ab2div.xml - C:\\Users\\mrauschsupola\\Shawi\\shawi-data\\080_scripts_generic\\080_01_ELAN2TEI\\tokenizer\\custom_xtoks2tei.xsl -> C:\\Users\\mrauschsupola\\Shawi\\shawi-data\\103_tei_w\\Urfa-137_Kazan_Kebab-Harran-2013.xml failed\n",
      "2025-09-15 09:34:12,435 - XTSE0020: Serialization parameter Q{.../saxon.sf.net/}line-length is not available in Saxon-HE\n",
      "\n",
      "2025-09-15 09:34:12,435 - C:\\Users\\mrauschsupola\\Shawi\\shawi-data\\103_tei_w\\2025-09-15_09-33\\Urfa-138_Kazan_Kebab-Harran-2013_04_posttok.xml - C:\\Users\\mrauschsupola\\Shawi\\shawi-data\\080_scripts_generic\\080_01_ELAN2TEI\\tokenizer\\annotationBlock2div.xsl -> C:\\Users\\mrauschsupola\\Shawi\\shawi-data\\103_tei_w\\2025-09-15_09-33\\Urfa-138_Kazan_Kebab-Harran-2013_05_ab2div.xml failed\n",
      "2025-09-15 09:34:12,435 - there was an error transforming ../../103_tei_w/2025-09-15_09-33/Urfa-138_Kazan_Kebab-Harran-2013_04_posttok.xml with stylesheet ./tokenizer/annotationBlock2div.xsl\n",
      "2025-09-15 09:34:12,438 - Unable to resolve <C:\\Users\\mrauschsupola\\Shawi\\shawi-data\\103_tei_w\\2025-09-15_09-33\\Urfa-138_Kazan_Kebab-Harran-2013_05_ab2div.xml> into a Source. Line number: -1\n",
      "2025-09-15 09:34:12,441 - C:\\Users\\mrauschsupola\\Shawi\\shawi-data\\103_tei_w\\2025-09-15_09-33\\Urfa-138_Kazan_Kebab-Harran-2013_05_ab2div.xml - C:\\Users\\mrauschsupola\\Shawi\\shawi-data\\080_scripts_generic\\080_01_ELAN2TEI\\tokenizer\\custom_xtoks2tei.xsl -> C:\\Users\\mrauschsupola\\Shawi\\shawi-data\\103_tei_w\\Urfa-138_Kazan_Kebab-Harran-2013.xml failed\n"
     ]
    },
    {
     "name": "stdout",
     "output_type": "stream",
     "text": [
      "Urfa-137_Kazan_Kebab-Harran-2013: done.\n",
      "Urfa-138_Kazan_Kebab-Harran-2013: C:\\Users\\mrauschsupola\\Shawi\\shawi-data\\103_tei_w\\2025-09-15_09-33\\ELAN_Urfa-138_Kazan_Kebab-Harran-2013.xml -> C:\\Users\\mrauschsupola\\Shawi\\shawi-data\\103_tei_w\\Urfa-138_Kazan_Kebab-Harran-2013.xml\n",
      "Urfa-138_Kazan_Kebab-Harran-2013: done.\n",
      "Urfa-139_Lahmacun-Harran-2013: C:\\Users\\mrauschsupola\\Shawi\\shawi-data\\103_tei_w\\2025-09-15_09-33\\ELAN_Urfa-139_Lahmacun-Harran-2013.xml -> C:\\Users\\mrauschsupola\\Shawi\\shawi-data\\103_tei_w\\Urfa-139_Lahmacun-Harran-2013.xml\n"
     ]
    },
    {
     "name": "stderr",
     "output_type": "stream",
     "text": [
      "2025-09-15 09:34:12,776 - XTSE0020: Serialization parameter Q{.../saxon.sf.net/}line-length is not available in Saxon-HE\n",
      "\n",
      "2025-09-15 09:34:12,777 - C:\\Users\\mrauschsupola\\Shawi\\shawi-data\\103_tei_w\\2025-09-15_09-33\\Urfa-139_Lahmacun-Harran-2013_04_posttok.xml - C:\\Users\\mrauschsupola\\Shawi\\shawi-data\\080_scripts_generic\\080_01_ELAN2TEI\\tokenizer\\annotationBlock2div.xsl -> C:\\Users\\mrauschsupola\\Shawi\\shawi-data\\103_tei_w\\2025-09-15_09-33\\Urfa-139_Lahmacun-Harran-2013_05_ab2div.xml failed\n",
      "2025-09-15 09:34:12,777 - there was an error transforming ../../103_tei_w/2025-09-15_09-33/Urfa-139_Lahmacun-Harran-2013_04_posttok.xml with stylesheet ./tokenizer/annotationBlock2div.xsl\n",
      "2025-09-15 09:34:12,780 - Unable to resolve <C:\\Users\\mrauschsupola\\Shawi\\shawi-data\\103_tei_w\\2025-09-15_09-33\\Urfa-139_Lahmacun-Harran-2013_05_ab2div.xml> into a Source. Line number: -1\n",
      "2025-09-15 09:34:12,782 - C:\\Users\\mrauschsupola\\Shawi\\shawi-data\\103_tei_w\\2025-09-15_09-33\\Urfa-139_Lahmacun-Harran-2013_05_ab2div.xml - C:\\Users\\mrauschsupola\\Shawi\\shawi-data\\080_scripts_generic\\080_01_ELAN2TEI\\tokenizer\\custom_xtoks2tei.xsl -> C:\\Users\\mrauschsupola\\Shawi\\shawi-data\\103_tei_w\\Urfa-139_Lahmacun-Harran-2013.xml failed\n",
      "2025-09-15 09:34:13,171 - XTSE0020: Serialization parameter Q{.../saxon.sf.net/}line-length is not available in Saxon-HE\n",
      "\n",
      "2025-09-15 09:34:13,173 - C:\\Users\\mrauschsupola\\Shawi\\shawi-data\\103_tei_w\\2025-09-15_09-33\\Urfa-140_Biyat-Harran-2013_04_posttok.xml - C:\\Users\\mrauschsupola\\Shawi\\shawi-data\\080_scripts_generic\\080_01_ELAN2TEI\\tokenizer\\annotationBlock2div.xsl -> C:\\Users\\mrauschsupola\\Shawi\\shawi-data\\103_tei_w\\2025-09-15_09-33\\Urfa-140_Biyat-Harran-2013_05_ab2div.xml failed\n",
      "2025-09-15 09:34:13,173 - there was an error transforming ../../103_tei_w/2025-09-15_09-33/Urfa-140_Biyat-Harran-2013_04_posttok.xml with stylesheet ./tokenizer/annotationBlock2div.xsl\n",
      "2025-09-15 09:34:13,178 - Unable to resolve <C:\\Users\\mrauschsupola\\Shawi\\shawi-data\\103_tei_w\\2025-09-15_09-33\\Urfa-140_Biyat-Harran-2013_05_ab2div.xml> into a Source. Line number: -1\n",
      "2025-09-15 09:34:13,179 - C:\\Users\\mrauschsupola\\Shawi\\shawi-data\\103_tei_w\\2025-09-15_09-33\\Urfa-140_Biyat-Harran-2013_05_ab2div.xml - C:\\Users\\mrauschsupola\\Shawi\\shawi-data\\080_scripts_generic\\080_01_ELAN2TEI\\tokenizer\\custom_xtoks2tei.xsl -> C:\\Users\\mrauschsupola\\Shawi\\shawi-data\\103_tei_w\\Urfa-140_Biyat-Harran-2013.xml failed\n"
     ]
    },
    {
     "name": "stdout",
     "output_type": "stream",
     "text": [
      "Urfa-139_Lahmacun-Harran-2013: done.\n",
      "Urfa-140_Biyat-Harran-2013: C:\\Users\\mrauschsupola\\Shawi\\shawi-data\\103_tei_w\\2025-09-15_09-33\\ELAN_Urfa-140_Biyat-Harran-2013.xml -> C:\\Users\\mrauschsupola\\Shawi\\shawi-data\\103_tei_w\\Urfa-140_Biyat-Harran-2013.xml\n",
      "Urfa-140_Biyat-Harran-2013: done.\n",
      "Urfa-141_Istishara-Harran-2013: C:\\Users\\mrauschsupola\\Shawi\\shawi-data\\103_tei_w\\2025-09-15_09-33\\ELAN_Urfa-141_Istishara-Harran-2013.xml -> C:\\Users\\mrauschsupola\\Shawi\\shawi-data\\103_tei_w\\Urfa-141_Istishara-Harran-2013.xml\n"
     ]
    },
    {
     "name": "stderr",
     "output_type": "stream",
     "text": [
      "2025-09-15 09:34:13,582 - XTSE0020: Serialization parameter Q{.../saxon.sf.net/}line-length is not available in Saxon-HE\n",
      "\n",
      "2025-09-15 09:34:13,584 - C:\\Users\\mrauschsupola\\Shawi\\shawi-data\\103_tei_w\\2025-09-15_09-33\\Urfa-141_Istishara-Harran-2013_04_posttok.xml - C:\\Users\\mrauschsupola\\Shawi\\shawi-data\\080_scripts_generic\\080_01_ELAN2TEI\\tokenizer\\annotationBlock2div.xsl -> C:\\Users\\mrauschsupola\\Shawi\\shawi-data\\103_tei_w\\2025-09-15_09-33\\Urfa-141_Istishara-Harran-2013_05_ab2div.xml failed\n",
      "2025-09-15 09:34:13,585 - there was an error transforming ../../103_tei_w/2025-09-15_09-33/Urfa-141_Istishara-Harran-2013_04_posttok.xml with stylesheet ./tokenizer/annotationBlock2div.xsl\n",
      "2025-09-15 09:34:13,588 - Unable to resolve <C:\\Users\\mrauschsupola\\Shawi\\shawi-data\\103_tei_w\\2025-09-15_09-33\\Urfa-141_Istishara-Harran-2013_05_ab2div.xml> into a Source. Line number: -1\n",
      "2025-09-15 09:34:13,589 - C:\\Users\\mrauschsupola\\Shawi\\shawi-data\\103_tei_w\\2025-09-15_09-33\\Urfa-141_Istishara-Harran-2013_05_ab2div.xml - C:\\Users\\mrauschsupola\\Shawi\\shawi-data\\080_scripts_generic\\080_01_ELAN2TEI\\tokenizer\\custom_xtoks2tei.xsl -> C:\\Users\\mrauschsupola\\Shawi\\shawi-data\\103_tei_w\\Urfa-141_Istishara-Harran-2013.xml failed\n"
     ]
    },
    {
     "name": "stdout",
     "output_type": "stream",
     "text": [
      "Urfa-141_Istishara-Harran-2013: done.\n",
      "Urfa-142_Chilli_Pepper-Harran-2013: C:\\Users\\mrauschsupola\\Shawi\\shawi-data\\103_tei_w\\2025-09-15_09-33\\ELAN_Urfa-142_Chilli_Pepper-Harran-2013.xml -> C:\\Users\\mrauschsupola\\Shawi\\shawi-data\\103_tei_w\\Urfa-142_Chilli_Pepper-Harran-2013.xml\n"
     ]
    },
    {
     "name": "stderr",
     "output_type": "stream",
     "text": [
      "2025-09-15 09:34:14,101 - XTSE0020: Serialization parameter Q{.../saxon.sf.net/}line-length is not available in Saxon-HE\n",
      "\n",
      "2025-09-15 09:34:14,101 - C:\\Users\\mrauschsupola\\Shawi\\shawi-data\\103_tei_w\\2025-09-15_09-33\\Urfa-142_Chilli_Pepper-Harran-2013_04_posttok.xml - C:\\Users\\mrauschsupola\\Shawi\\shawi-data\\080_scripts_generic\\080_01_ELAN2TEI\\tokenizer\\annotationBlock2div.xsl -> C:\\Users\\mrauschsupola\\Shawi\\shawi-data\\103_tei_w\\2025-09-15_09-33\\Urfa-142_Chilli_Pepper-Harran-2013_05_ab2div.xml failed\n",
      "2025-09-15 09:34:14,101 - there was an error transforming ../../103_tei_w/2025-09-15_09-33/Urfa-142_Chilli_Pepper-Harran-2013_04_posttok.xml with stylesheet ./tokenizer/annotationBlock2div.xsl\n",
      "2025-09-15 09:34:14,110 - Unable to resolve <C:\\Users\\mrauschsupola\\Shawi\\shawi-data\\103_tei_w\\2025-09-15_09-33\\Urfa-142_Chilli_Pepper-Harran-2013_05_ab2div.xml> into a Source. Line number: -1\n",
      "2025-09-15 09:34:14,110 - C:\\Users\\mrauschsupola\\Shawi\\shawi-data\\103_tei_w\\2025-09-15_09-33\\Urfa-142_Chilli_Pepper-Harran-2013_05_ab2div.xml - C:\\Users\\mrauschsupola\\Shawi\\shawi-data\\080_scripts_generic\\080_01_ELAN2TEI\\tokenizer\\custom_xtoks2tei.xsl -> C:\\Users\\mrauschsupola\\Shawi\\shawi-data\\103_tei_w\\Urfa-142_Chilli_Pepper-Harran-2013.xml failed\n"
     ]
    },
    {
     "name": "stdout",
     "output_type": "stream",
     "text": [
      "Urfa-142_Chilli_Pepper-Harran-2013: done.\n",
      "Urfa-144_Malfuf-Harran-2013: C:\\Users\\mrauschsupola\\Shawi\\shawi-data\\103_tei_w\\2025-09-15_09-33\\ELAN_Urfa-144_Malfuf-Harran-2013.xml -> C:\\Users\\mrauschsupola\\Shawi\\shawi-data\\103_tei_w\\Urfa-144_Malfuf-Harran-2013.xml\n"
     ]
    },
    {
     "name": "stderr",
     "output_type": "stream",
     "text": [
      "2025-09-15 09:34:14,585 - XTSE0020: Serialization parameter Q{.../saxon.sf.net/}line-length is not available in Saxon-HE\n",
      "\n",
      "2025-09-15 09:34:14,585 - C:\\Users\\mrauschsupola\\Shawi\\shawi-data\\103_tei_w\\2025-09-15_09-33\\Urfa-144_Malfuf-Harran-2013_04_posttok.xml - C:\\Users\\mrauschsupola\\Shawi\\shawi-data\\080_scripts_generic\\080_01_ELAN2TEI\\tokenizer\\annotationBlock2div.xsl -> C:\\Users\\mrauschsupola\\Shawi\\shawi-data\\103_tei_w\\2025-09-15_09-33\\Urfa-144_Malfuf-Harran-2013_05_ab2div.xml failed\n",
      "2025-09-15 09:34:14,585 - there was an error transforming ../../103_tei_w/2025-09-15_09-33/Urfa-144_Malfuf-Harran-2013_04_posttok.xml with stylesheet ./tokenizer/annotationBlock2div.xsl\n",
      "2025-09-15 09:34:14,585 - Unable to resolve <C:\\Users\\mrauschsupola\\Shawi\\shawi-data\\103_tei_w\\2025-09-15_09-33\\Urfa-144_Malfuf-Harran-2013_05_ab2div.xml> into a Source. Line number: -1\n",
      "2025-09-15 09:34:14,585 - C:\\Users\\mrauschsupola\\Shawi\\shawi-data\\103_tei_w\\2025-09-15_09-33\\Urfa-144_Malfuf-Harran-2013_05_ab2div.xml - C:\\Users\\mrauschsupola\\Shawi\\shawi-data\\080_scripts_generic\\080_01_ELAN2TEI\\tokenizer\\custom_xtoks2tei.xsl -> C:\\Users\\mrauschsupola\\Shawi\\shawi-data\\103_tei_w\\Urfa-144_Malfuf-Harran-2013.xml failed\n"
     ]
    },
    {
     "name": "stdout",
     "output_type": "stream",
     "text": [
      "Urfa-144_Malfuf-Harran-2013: done.\n",
      "Urfa-145_Prophet_Ayyub-Harran-2013: C:\\Users\\mrauschsupola\\Shawi\\shawi-data\\103_tei_w\\2025-09-15_09-33\\ELAN_Urfa-145_Prophet_Ayyub-Harran-2013.xml -> C:\\Users\\mrauschsupola\\Shawi\\shawi-data\\103_tei_w\\Urfa-145_Prophet_Ayyub-Harran-2013.xml\n"
     ]
    },
    {
     "name": "stderr",
     "output_type": "stream",
     "text": [
      "2025-09-15 09:34:15,225 - XTSE0020: Serialization parameter Q{.../saxon.sf.net/}line-length is not available in Saxon-HE\n",
      "\n",
      "2025-09-15 09:34:15,226 - C:\\Users\\mrauschsupola\\Shawi\\shawi-data\\103_tei_w\\2025-09-15_09-33\\Urfa-145_Prophet_Ayyub-Harran-2013_04_posttok.xml - C:\\Users\\mrauschsupola\\Shawi\\shawi-data\\080_scripts_generic\\080_01_ELAN2TEI\\tokenizer\\annotationBlock2div.xsl -> C:\\Users\\mrauschsupola\\Shawi\\shawi-data\\103_tei_w\\2025-09-15_09-33\\Urfa-145_Prophet_Ayyub-Harran-2013_05_ab2div.xml failed\n",
      "2025-09-15 09:34:15,227 - there was an error transforming ../../103_tei_w/2025-09-15_09-33/Urfa-145_Prophet_Ayyub-Harran-2013_04_posttok.xml with stylesheet ./tokenizer/annotationBlock2div.xsl\n",
      "2025-09-15 09:34:15,231 - Unable to resolve <C:\\Users\\mrauschsupola\\Shawi\\shawi-data\\103_tei_w\\2025-09-15_09-33\\Urfa-145_Prophet_Ayyub-Harran-2013_05_ab2div.xml> into a Source. Line number: -1\n",
      "2025-09-15 09:34:15,231 - C:\\Users\\mrauschsupola\\Shawi\\shawi-data\\103_tei_w\\2025-09-15_09-33\\Urfa-145_Prophet_Ayyub-Harran-2013_05_ab2div.xml - C:\\Users\\mrauschsupola\\Shawi\\shawi-data\\080_scripts_generic\\080_01_ELAN2TEI\\tokenizer\\custom_xtoks2tei.xsl -> C:\\Users\\mrauschsupola\\Shawi\\shawi-data\\103_tei_w\\Urfa-145_Prophet_Ayyub-Harran-2013.xml failed\n"
     ]
    },
    {
     "name": "stdout",
     "output_type": "stream",
     "text": [
      "Urfa-145_Prophet_Ayyub-Harran-2013: done.\n",
      "Urfa-146_Wolf-Harran-2013: C:\\Users\\mrauschsupola\\Shawi\\shawi-data\\103_tei_w\\2025-09-15_09-33\\ELAN_Urfa-146_Wolf-Harran-2013.xml -> C:\\Users\\mrauschsupola\\Shawi\\shawi-data\\103_tei_w\\Urfa-146_Wolf-Harran-2013.xml\n"
     ]
    },
    {
     "name": "stderr",
     "output_type": "stream",
     "text": [
      "2025-09-15 09:34:16,047 - XTSE0020: Serialization parameter Q{.../saxon.sf.net/}line-length is not available in Saxon-HE\n",
      "\n",
      "2025-09-15 09:34:16,049 - C:\\Users\\mrauschsupola\\Shawi\\shawi-data\\103_tei_w\\2025-09-15_09-33\\Urfa-146_Wolf-Harran-2013_04_posttok.xml - C:\\Users\\mrauschsupola\\Shawi\\shawi-data\\080_scripts_generic\\080_01_ELAN2TEI\\tokenizer\\annotationBlock2div.xsl -> C:\\Users\\mrauschsupola\\Shawi\\shawi-data\\103_tei_w\\2025-09-15_09-33\\Urfa-146_Wolf-Harran-2013_05_ab2div.xml failed\n",
      "2025-09-15 09:34:16,049 - there was an error transforming ../../103_tei_w/2025-09-15_09-33/Urfa-146_Wolf-Harran-2013_04_posttok.xml with stylesheet ./tokenizer/annotationBlock2div.xsl\n",
      "2025-09-15 09:34:16,053 - Unable to resolve <C:\\Users\\mrauschsupola\\Shawi\\shawi-data\\103_tei_w\\2025-09-15_09-33\\Urfa-146_Wolf-Harran-2013_05_ab2div.xml> into a Source. Line number: -1\n",
      "2025-09-15 09:34:16,053 - C:\\Users\\mrauschsupola\\Shawi\\shawi-data\\103_tei_w\\2025-09-15_09-33\\Urfa-146_Wolf-Harran-2013_05_ab2div.xml - C:\\Users\\mrauschsupola\\Shawi\\shawi-data\\080_scripts_generic\\080_01_ELAN2TEI\\tokenizer\\custom_xtoks2tei.xsl -> C:\\Users\\mrauschsupola\\Shawi\\shawi-data\\103_tei_w\\Urfa-146_Wolf-Harran-2013.xml failed\n"
     ]
    },
    {
     "name": "stdout",
     "output_type": "stream",
     "text": [
      "Urfa-146_Wolf-Harran-2013: done.\n",
      "Urfa-149_Bird-Harran-2014: C:\\Users\\mrauschsupola\\Shawi\\shawi-data\\103_tei_w\\2025-09-15_09-33\\ELAN_Urfa-149_Bird-Harran-2014.xml -> C:\\Users\\mrauschsupola\\Shawi\\shawi-data\\103_tei_w\\Urfa-149_Bird-Harran-2014.xml\n"
     ]
    },
    {
     "name": "stderr",
     "output_type": "stream",
     "text": [
      "2025-09-15 09:34:16,879 - XTSE0020: Serialization parameter Q{.../saxon.sf.net/}line-length is not available in Saxon-HE\n",
      "\n",
      "2025-09-15 09:34:16,880 - C:\\Users\\mrauschsupola\\Shawi\\shawi-data\\103_tei_w\\2025-09-15_09-33\\Urfa-149_Bird-Harran-2014_04_posttok.xml - C:\\Users\\mrauschsupola\\Shawi\\shawi-data\\080_scripts_generic\\080_01_ELAN2TEI\\tokenizer\\annotationBlock2div.xsl -> C:\\Users\\mrauschsupola\\Shawi\\shawi-data\\103_tei_w\\2025-09-15_09-33\\Urfa-149_Bird-Harran-2014_05_ab2div.xml failed\n",
      "2025-09-15 09:34:16,881 - there was an error transforming ../../103_tei_w/2025-09-15_09-33/Urfa-149_Bird-Harran-2014_04_posttok.xml with stylesheet ./tokenizer/annotationBlock2div.xsl\n",
      "2025-09-15 09:34:16,885 - Unable to resolve <C:\\Users\\mrauschsupola\\Shawi\\shawi-data\\103_tei_w\\2025-09-15_09-33\\Urfa-149_Bird-Harran-2014_05_ab2div.xml> into a Source. Line number: -1\n",
      "2025-09-15 09:34:16,885 - C:\\Users\\mrauschsupola\\Shawi\\shawi-data\\103_tei_w\\2025-09-15_09-33\\Urfa-149_Bird-Harran-2014_05_ab2div.xml - C:\\Users\\mrauschsupola\\Shawi\\shawi-data\\080_scripts_generic\\080_01_ELAN2TEI\\tokenizer\\custom_xtoks2tei.xsl -> C:\\Users\\mrauschsupola\\Shawi\\shawi-data\\103_tei_w\\Urfa-149_Bird-Harran-2014.xml failed\n"
     ]
    },
    {
     "name": "stdout",
     "output_type": "stream",
     "text": [
      "Urfa-149_Bird-Harran-2014: done.\n",
      "Urfa-150_Iclikofte-Harran-2014: C:\\Users\\mrauschsupola\\Shawi\\shawi-data\\103_tei_w\\2025-09-15_09-33\\ELAN_Urfa-150_Iclikofte-Harran-2014.xml -> C:\\Users\\mrauschsupola\\Shawi\\shawi-data\\103_tei_w\\Urfa-150_Iclikofte-Harran-2014.xml\n"
     ]
    },
    {
     "name": "stderr",
     "output_type": "stream",
     "text": [
      "2025-09-15 09:34:17,235 - XTSE0020: Serialization parameter Q{.../saxon.sf.net/}line-length is not available in Saxon-HE\n",
      "\n",
      "2025-09-15 09:34:17,239 - C:\\Users\\mrauschsupola\\Shawi\\shawi-data\\103_tei_w\\2025-09-15_09-33\\Urfa-150_Iclikofte-Harran-2014_04_posttok.xml - C:\\Users\\mrauschsupola\\Shawi\\shawi-data\\080_scripts_generic\\080_01_ELAN2TEI\\tokenizer\\annotationBlock2div.xsl -> C:\\Users\\mrauschsupola\\Shawi\\shawi-data\\103_tei_w\\2025-09-15_09-33\\Urfa-150_Iclikofte-Harran-2014_05_ab2div.xml failed\n",
      "2025-09-15 09:34:17,240 - there was an error transforming ../../103_tei_w/2025-09-15_09-33/Urfa-150_Iclikofte-Harran-2014_04_posttok.xml with stylesheet ./tokenizer/annotationBlock2div.xsl\n",
      "2025-09-15 09:34:17,243 - Unable to resolve <C:\\Users\\mrauschsupola\\Shawi\\shawi-data\\103_tei_w\\2025-09-15_09-33\\Urfa-150_Iclikofte-Harran-2014_05_ab2div.xml> into a Source. Line number: -1\n",
      "2025-09-15 09:34:17,243 - C:\\Users\\mrauschsupola\\Shawi\\shawi-data\\103_tei_w\\2025-09-15_09-33\\Urfa-150_Iclikofte-Harran-2014_05_ab2div.xml - C:\\Users\\mrauschsupola\\Shawi\\shawi-data\\080_scripts_generic\\080_01_ELAN2TEI\\tokenizer\\custom_xtoks2tei.xsl -> C:\\Users\\mrauschsupola\\Shawi\\shawi-data\\103_tei_w\\Urfa-150_Iclikofte-Harran-2014.xml failed\n",
      "2025-09-15 09:34:17,650 - XTSE0020: Serialization parameter Q{.../saxon.sf.net/}line-length is not available in Saxon-HE\n",
      "\n",
      "2025-09-15 09:34:17,650 - C:\\Users\\mrauschsupola\\Shawi\\shawi-data\\103_tei_w\\2025-09-15_09-33\\Urfa-151_Ashura-Harran-2014_04_posttok.xml - C:\\Users\\mrauschsupola\\Shawi\\shawi-data\\080_scripts_generic\\080_01_ELAN2TEI\\tokenizer\\annotationBlock2div.xsl -> C:\\Users\\mrauschsupola\\Shawi\\shawi-data\\103_tei_w\\2025-09-15_09-33\\Urfa-151_Ashura-Harran-2014_05_ab2div.xml failed\n",
      "2025-09-15 09:34:17,650 - there was an error transforming ../../103_tei_w/2025-09-15_09-33/Urfa-151_Ashura-Harran-2014_04_posttok.xml with stylesheet ./tokenizer/annotationBlock2div.xsl\n",
      "2025-09-15 09:34:17,655 - Unable to resolve <C:\\Users\\mrauschsupola\\Shawi\\shawi-data\\103_tei_w\\2025-09-15_09-33\\Urfa-151_Ashura-Harran-2014_05_ab2div.xml> into a Source. Line number: -1\n",
      "2025-09-15 09:34:17,655 - C:\\Users\\mrauschsupola\\Shawi\\shawi-data\\103_tei_w\\2025-09-15_09-33\\Urfa-151_Ashura-Harran-2014_05_ab2div.xml - C:\\Users\\mrauschsupola\\Shawi\\shawi-data\\080_scripts_generic\\080_01_ELAN2TEI\\tokenizer\\custom_xtoks2tei.xsl -> C:\\Users\\mrauschsupola\\Shawi\\shawi-data\\103_tei_w\\Urfa-151_Ashura-Harran-2014.xml failed\n"
     ]
    },
    {
     "name": "stdout",
     "output_type": "stream",
     "text": [
      "Urfa-150_Iclikofte-Harran-2014: done.\n",
      "Urfa-151_Ashura-Harran-2014: C:\\Users\\mrauschsupola\\Shawi\\shawi-data\\103_tei_w\\2025-09-15_09-33\\ELAN_Urfa-151_Ashura-Harran-2014.xml -> C:\\Users\\mrauschsupola\\Shawi\\shawi-data\\103_tei_w\\Urfa-151_Ashura-Harran-2014.xml\n",
      "Urfa-151_Ashura-Harran-2014: done.\n",
      "Urfa-152_Dream-Harran-2014: C:\\Users\\mrauschsupola\\Shawi\\shawi-data\\103_tei_w\\2025-09-15_09-33\\ELAN_Urfa-152_Dream-Harran-2014.xml -> C:\\Users\\mrauschsupola\\Shawi\\shawi-data\\103_tei_w\\Urfa-152_Dream-Harran-2014.xml\n"
     ]
    },
    {
     "name": "stderr",
     "output_type": "stream",
     "text": [
      "2025-09-15 09:34:18,055 - XTSE0020: Serialization parameter Q{.../saxon.sf.net/}line-length is not available in Saxon-HE\n",
      "\n",
      "2025-09-15 09:34:18,060 - C:\\Users\\mrauschsupola\\Shawi\\shawi-data\\103_tei_w\\2025-09-15_09-33\\Urfa-152_Dream-Harran-2014_04_posttok.xml - C:\\Users\\mrauschsupola\\Shawi\\shawi-data\\080_scripts_generic\\080_01_ELAN2TEI\\tokenizer\\annotationBlock2div.xsl -> C:\\Users\\mrauschsupola\\Shawi\\shawi-data\\103_tei_w\\2025-09-15_09-33\\Urfa-152_Dream-Harran-2014_05_ab2div.xml failed\n",
      "2025-09-15 09:34:18,060 - there was an error transforming ../../103_tei_w/2025-09-15_09-33/Urfa-152_Dream-Harran-2014_04_posttok.xml with stylesheet ./tokenizer/annotationBlock2div.xsl\n",
      "2025-09-15 09:34:18,060 - Unable to resolve <C:\\Users\\mrauschsupola\\Shawi\\shawi-data\\103_tei_w\\2025-09-15_09-33\\Urfa-152_Dream-Harran-2014_05_ab2div.xml> into a Source. Line number: -1\n",
      "2025-09-15 09:34:18,065 - C:\\Users\\mrauschsupola\\Shawi\\shawi-data\\103_tei_w\\2025-09-15_09-33\\Urfa-152_Dream-Harran-2014_05_ab2div.xml - C:\\Users\\mrauschsupola\\Shawi\\shawi-data\\080_scripts_generic\\080_01_ELAN2TEI\\tokenizer\\custom_xtoks2tei.xsl -> C:\\Users\\mrauschsupola\\Shawi\\shawi-data\\103_tei_w\\Urfa-152_Dream-Harran-2014.xml failed\n"
     ]
    },
    {
     "name": "stdout",
     "output_type": "stream",
     "text": [
      "Urfa-152_Dream-Harran-2014: done.\n",
      "Urfa-153_Sheikh_Hasan-Harran-2014: C:\\Users\\mrauschsupola\\Shawi\\shawi-data\\103_tei_w\\2025-09-15_09-33\\ELAN_Urfa-153_Sheikh_Hasan-Harran-2014.xml -> C:\\Users\\mrauschsupola\\Shawi\\shawi-data\\103_tei_w\\Urfa-153_Sheikh_Hasan-Harran-2014.xml\n"
     ]
    },
    {
     "name": "stderr",
     "output_type": "stream",
     "text": [
      "2025-09-15 09:34:18,465 - XTSE0020: Serialization parameter Q{.../saxon.sf.net/}line-length is not available in Saxon-HE\n",
      "\n",
      "2025-09-15 09:34:18,475 - C:\\Users\\mrauschsupola\\Shawi\\shawi-data\\103_tei_w\\2025-09-15_09-33\\Urfa-153_Sheikh_Hasan-Harran-2014_04_posttok.xml - C:\\Users\\mrauschsupola\\Shawi\\shawi-data\\080_scripts_generic\\080_01_ELAN2TEI\\tokenizer\\annotationBlock2div.xsl -> C:\\Users\\mrauschsupola\\Shawi\\shawi-data\\103_tei_w\\2025-09-15_09-33\\Urfa-153_Sheikh_Hasan-Harran-2014_05_ab2div.xml failed\n",
      "2025-09-15 09:34:18,475 - there was an error transforming ../../103_tei_w/2025-09-15_09-33/Urfa-153_Sheikh_Hasan-Harran-2014_04_posttok.xml with stylesheet ./tokenizer/annotationBlock2div.xsl\n",
      "2025-09-15 09:34:18,480 - Unable to resolve <C:\\Users\\mrauschsupola\\Shawi\\shawi-data\\103_tei_w\\2025-09-15_09-33\\Urfa-153_Sheikh_Hasan-Harran-2014_05_ab2div.xml> into a Source. Line number: -1\n",
      "2025-09-15 09:34:18,481 - C:\\Users\\mrauschsupola\\Shawi\\shawi-data\\103_tei_w\\2025-09-15_09-33\\Urfa-153_Sheikh_Hasan-Harran-2014_05_ab2div.xml - C:\\Users\\mrauschsupola\\Shawi\\shawi-data\\080_scripts_generic\\080_01_ELAN2TEI\\tokenizer\\custom_xtoks2tei.xsl -> C:\\Users\\mrauschsupola\\Shawi\\shawi-data\\103_tei_w\\Urfa-153_Sheikh_Hasan-Harran-2014.xml failed\n"
     ]
    },
    {
     "name": "stdout",
     "output_type": "stream",
     "text": [
      "Urfa-153_Sheikh_Hasan-Harran-2014: done.\n",
      "Urfa-155_Childhood-Harran-2014: C:\\Users\\mrauschsupola\\Shawi\\shawi-data\\103_tei_w\\2025-09-15_09-33\\ELAN_Urfa-155_Childhood-Harran-2014.xml -> C:\\Users\\mrauschsupola\\Shawi\\shawi-data\\103_tei_w\\Urfa-155_Childhood-Harran-2014.xml\n"
     ]
    },
    {
     "name": "stderr",
     "output_type": "stream",
     "text": [
      "2025-09-15 09:34:18,975 - XTSE0020: Serialization parameter Q{.../saxon.sf.net/}line-length is not available in Saxon-HE\n",
      "\n",
      "2025-09-15 09:34:18,975 - C:\\Users\\mrauschsupola\\Shawi\\shawi-data\\103_tei_w\\2025-09-15_09-33\\Urfa-155_Childhood-Harran-2014_04_posttok.xml - C:\\Users\\mrauschsupola\\Shawi\\shawi-data\\080_scripts_generic\\080_01_ELAN2TEI\\tokenizer\\annotationBlock2div.xsl -> C:\\Users\\mrauschsupola\\Shawi\\shawi-data\\103_tei_w\\2025-09-15_09-33\\Urfa-155_Childhood-Harran-2014_05_ab2div.xml failed\n",
      "2025-09-15 09:34:18,975 - there was an error transforming ../../103_tei_w/2025-09-15_09-33/Urfa-155_Childhood-Harran-2014_04_posttok.xml with stylesheet ./tokenizer/annotationBlock2div.xsl\n",
      "2025-09-15 09:34:18,978 - Unable to resolve <C:\\Users\\mrauschsupola\\Shawi\\shawi-data\\103_tei_w\\2025-09-15_09-33\\Urfa-155_Childhood-Harran-2014_05_ab2div.xml> into a Source. Line number: -1\n",
      "2025-09-15 09:34:18,978 - C:\\Users\\mrauschsupola\\Shawi\\shawi-data\\103_tei_w\\2025-09-15_09-33\\Urfa-155_Childhood-Harran-2014_05_ab2div.xml - C:\\Users\\mrauschsupola\\Shawi\\shawi-data\\080_scripts_generic\\080_01_ELAN2TEI\\tokenizer\\custom_xtoks2tei.xsl -> C:\\Users\\mrauschsupola\\Shawi\\shawi-data\\103_tei_w\\Urfa-155_Childhood-Harran-2014.xml failed\n"
     ]
    },
    {
     "name": "stdout",
     "output_type": "stream",
     "text": [
      "Urfa-155_Childhood-Harran-2014: done.\n",
      "Urfa-158_Moses_and_Dog-Harran-2014: C:\\Users\\mrauschsupola\\Shawi\\shawi-data\\103_tei_w\\2025-09-15_09-33\\ELAN_Urfa-158_Moses_and_Dog-Harran-2014.xml -> C:\\Users\\mrauschsupola\\Shawi\\shawi-data\\103_tei_w\\Urfa-158_Moses_and_Dog-Harran-2014.xml\n"
     ]
    },
    {
     "name": "stderr",
     "output_type": "stream",
     "text": [
      "2025-09-15 09:34:19,291 - XTSE0020: Serialization parameter Q{.../saxon.sf.net/}line-length is not available in Saxon-HE\n",
      "\n",
      "2025-09-15 09:34:19,295 - C:\\Users\\mrauschsupola\\Shawi\\shawi-data\\103_tei_w\\2025-09-15_09-33\\Urfa-158_Moses_and_Dog-Harran-2014_04_posttok.xml - C:\\Users\\mrauschsupola\\Shawi\\shawi-data\\080_scripts_generic\\080_01_ELAN2TEI\\tokenizer\\annotationBlock2div.xsl -> C:\\Users\\mrauschsupola\\Shawi\\shawi-data\\103_tei_w\\2025-09-15_09-33\\Urfa-158_Moses_and_Dog-Harran-2014_05_ab2div.xml failed\n",
      "2025-09-15 09:34:19,295 - there was an error transforming ../../103_tei_w/2025-09-15_09-33/Urfa-158_Moses_and_Dog-Harran-2014_04_posttok.xml with stylesheet ./tokenizer/annotationBlock2div.xsl\n",
      "2025-09-15 09:34:19,298 - Unable to resolve <C:\\Users\\mrauschsupola\\Shawi\\shawi-data\\103_tei_w\\2025-09-15_09-33\\Urfa-158_Moses_and_Dog-Harran-2014_05_ab2div.xml> into a Source. Line number: -1\n",
      "2025-09-15 09:34:19,298 - C:\\Users\\mrauschsupola\\Shawi\\shawi-data\\103_tei_w\\2025-09-15_09-33\\Urfa-158_Moses_and_Dog-Harran-2014_05_ab2div.xml - C:\\Users\\mrauschsupola\\Shawi\\shawi-data\\080_scripts_generic\\080_01_ELAN2TEI\\tokenizer\\custom_xtoks2tei.xsl -> C:\\Users\\mrauschsupola\\Shawi\\shawi-data\\103_tei_w\\Urfa-158_Moses_and_Dog-Harran-2014.xml failed\n"
     ]
    },
    {
     "name": "stdout",
     "output_type": "stream",
     "text": [
      "Urfa-158_Moses_and_Dog-Harran-2014: done.\n",
      "Urfa-160_Seyhmus-Harran-2014: C:\\Users\\mrauschsupola\\Shawi\\shawi-data\\103_tei_w\\2025-09-15_09-33\\ELAN_Urfa-160_Seyhmus-Harran-2014.xml -> C:\\Users\\mrauschsupola\\Shawi\\shawi-data\\103_tei_w\\Urfa-160_Seyhmus-Harran-2014.xml\n"
     ]
    },
    {
     "name": "stderr",
     "output_type": "stream",
     "text": [
      "2025-09-15 09:34:19,758 - XTSE0020: Serialization parameter Q{.../saxon.sf.net/}line-length is not available in Saxon-HE\n",
      "\n",
      "2025-09-15 09:34:19,758 - C:\\Users\\mrauschsupola\\Shawi\\shawi-data\\103_tei_w\\2025-09-15_09-33\\Urfa-160_Seyhmus-Harran-2014_04_posttok.xml - C:\\Users\\mrauschsupola\\Shawi\\shawi-data\\080_scripts_generic\\080_01_ELAN2TEI\\tokenizer\\annotationBlock2div.xsl -> C:\\Users\\mrauschsupola\\Shawi\\shawi-data\\103_tei_w\\2025-09-15_09-33\\Urfa-160_Seyhmus-Harran-2014_05_ab2div.xml failed\n",
      "2025-09-15 09:34:19,758 - there was an error transforming ../../103_tei_w/2025-09-15_09-33/Urfa-160_Seyhmus-Harran-2014_04_posttok.xml with stylesheet ./tokenizer/annotationBlock2div.xsl\n",
      "2025-09-15 09:34:19,765 - Unable to resolve <C:\\Users\\mrauschsupola\\Shawi\\shawi-data\\103_tei_w\\2025-09-15_09-33\\Urfa-160_Seyhmus-Harran-2014_05_ab2div.xml> into a Source. Line number: -1\n",
      "2025-09-15 09:34:19,765 - C:\\Users\\mrauschsupola\\Shawi\\shawi-data\\103_tei_w\\2025-09-15_09-33\\Urfa-160_Seyhmus-Harran-2014_05_ab2div.xml - C:\\Users\\mrauschsupola\\Shawi\\shawi-data\\080_scripts_generic\\080_01_ELAN2TEI\\tokenizer\\custom_xtoks2tei.xsl -> C:\\Users\\mrauschsupola\\Shawi\\shawi-data\\103_tei_w\\Urfa-160_Seyhmus-Harran-2014.xml failed\n"
     ]
    },
    {
     "name": "stdout",
     "output_type": "stream",
     "text": [
      "Urfa-160_Seyhmus-Harran-2014: done.\n",
      "Urfa-162_Umm_al-Qet-Harran-2014: C:\\Users\\mrauschsupola\\Shawi\\shawi-data\\103_tei_w\\2025-09-15_09-33\\ELAN_Urfa-162_Umm_al-Qet-Harran-2014.xml -> C:\\Users\\mrauschsupola\\Shawi\\shawi-data\\103_tei_w\\Urfa-162_Umm_al-Qet-Harran-2014.xml\n"
     ]
    },
    {
     "name": "stderr",
     "output_type": "stream",
     "text": [
      "2025-09-15 09:34:20,096 - XTSE0020: Serialization parameter Q{.../saxon.sf.net/}line-length is not available in Saxon-HE\n",
      "\n",
      "2025-09-15 09:34:20,096 - C:\\Users\\mrauschsupola\\Shawi\\shawi-data\\103_tei_w\\2025-09-15_09-33\\Urfa-162_Umm_al-Qet-Harran-2014_04_posttok.xml - C:\\Users\\mrauschsupola\\Shawi\\shawi-data\\080_scripts_generic\\080_01_ELAN2TEI\\tokenizer\\annotationBlock2div.xsl -> C:\\Users\\mrauschsupola\\Shawi\\shawi-data\\103_tei_w\\2025-09-15_09-33\\Urfa-162_Umm_al-Qet-Harran-2014_05_ab2div.xml failed\n",
      "2025-09-15 09:34:20,096 - there was an error transforming ../../103_tei_w/2025-09-15_09-33/Urfa-162_Umm_al-Qet-Harran-2014_04_posttok.xml with stylesheet ./tokenizer/annotationBlock2div.xsl\n",
      "2025-09-15 09:34:20,108 - Unable to resolve <C:\\Users\\mrauschsupola\\Shawi\\shawi-data\\103_tei_w\\2025-09-15_09-33\\Urfa-162_Umm_al-Qet-Harran-2014_05_ab2div.xml> into a Source. Line number: -1\n",
      "2025-09-15 09:34:20,108 - C:\\Users\\mrauschsupola\\Shawi\\shawi-data\\103_tei_w\\2025-09-15_09-33\\Urfa-162_Umm_al-Qet-Harran-2014_05_ab2div.xml - C:\\Users\\mrauschsupola\\Shawi\\shawi-data\\080_scripts_generic\\080_01_ELAN2TEI\\tokenizer\\custom_xtoks2tei.xsl -> C:\\Users\\mrauschsupola\\Shawi\\shawi-data\\103_tei_w\\Urfa-162_Umm_al-Qet-Harran-2014.xml failed\n"
     ]
    },
    {
     "name": "stdout",
     "output_type": "stream",
     "text": [
      "Urfa-162_Umm_al-Qet-Harran-2014: done.\n",
      "Urfa-163_Quilts-Harran-2014: C:\\Users\\mrauschsupola\\Shawi\\shawi-data\\103_tei_w\\2025-09-15_09-33\\ELAN_Urfa-163_Quilts-Harran-2014.xml -> C:\\Users\\mrauschsupola\\Shawi\\shawi-data\\103_tei_w\\Urfa-163_Quilts-Harran-2014.xml\n"
     ]
    },
    {
     "name": "stderr",
     "output_type": "stream",
     "text": [
      "2025-09-15 09:34:20,575 - XTSE0020: Serialization parameter Q{.../saxon.sf.net/}line-length is not available in Saxon-HE\n",
      "\n",
      "2025-09-15 09:34:20,575 - C:\\Users\\mrauschsupola\\Shawi\\shawi-data\\103_tei_w\\2025-09-15_09-33\\Urfa-163_Quilts-Harran-2014_04_posttok.xml - C:\\Users\\mrauschsupola\\Shawi\\shawi-data\\080_scripts_generic\\080_01_ELAN2TEI\\tokenizer\\annotationBlock2div.xsl -> C:\\Users\\mrauschsupola\\Shawi\\shawi-data\\103_tei_w\\2025-09-15_09-33\\Urfa-163_Quilts-Harran-2014_05_ab2div.xml failed\n",
      "2025-09-15 09:34:20,575 - there was an error transforming ../../103_tei_w/2025-09-15_09-33/Urfa-163_Quilts-Harran-2014_04_posttok.xml with stylesheet ./tokenizer/annotationBlock2div.xsl\n",
      "2025-09-15 09:34:20,591 - Unable to resolve <C:\\Users\\mrauschsupola\\Shawi\\shawi-data\\103_tei_w\\2025-09-15_09-33\\Urfa-163_Quilts-Harran-2014_05_ab2div.xml> into a Source. Line number: -1\n",
      "2025-09-15 09:34:20,591 - C:\\Users\\mrauschsupola\\Shawi\\shawi-data\\103_tei_w\\2025-09-15_09-33\\Urfa-163_Quilts-Harran-2014_05_ab2div.xml - C:\\Users\\mrauschsupola\\Shawi\\shawi-data\\080_scripts_generic\\080_01_ELAN2TEI\\tokenizer\\custom_xtoks2tei.xsl -> C:\\Users\\mrauschsupola\\Shawi\\shawi-data\\103_tei_w\\Urfa-163_Quilts-Harran-2014.xml failed\n"
     ]
    },
    {
     "name": "stdout",
     "output_type": "stream",
     "text": [
      "Urfa-163_Quilts-Harran-2014: done.\n",
      "Urfa-164_Baking_Bread-Harran-2014: C:\\Users\\mrauschsupola\\Shawi\\shawi-data\\103_tei_w\\2025-09-15_09-33\\ELAN_Urfa-164_Baking_Bread-Harran-2014.xml -> C:\\Users\\mrauschsupola\\Shawi\\shawi-data\\103_tei_w\\Urfa-164_Baking_Bread-Harran-2014.xml\n"
     ]
    },
    {
     "name": "stderr",
     "output_type": "stream",
     "text": [
      "2025-09-15 09:34:21,498 - XTSE0020: Serialization parameter Q{.../saxon.sf.net/}line-length is not available in Saxon-HE\n",
      "\n",
      "2025-09-15 09:34:21,498 - C:\\Users\\mrauschsupola\\Shawi\\shawi-data\\103_tei_w\\2025-09-15_09-33\\Urfa-164_Baking_Bread-Harran-2014_04_posttok.xml - C:\\Users\\mrauschsupola\\Shawi\\shawi-data\\080_scripts_generic\\080_01_ELAN2TEI\\tokenizer\\annotationBlock2div.xsl -> C:\\Users\\mrauschsupola\\Shawi\\shawi-data\\103_tei_w\\2025-09-15_09-33\\Urfa-164_Baking_Bread-Harran-2014_05_ab2div.xml failed\n",
      "2025-09-15 09:34:21,498 - there was an error transforming ../../103_tei_w/2025-09-15_09-33/Urfa-164_Baking_Bread-Harran-2014_04_posttok.xml with stylesheet ./tokenizer/annotationBlock2div.xsl\n",
      "2025-09-15 09:34:21,505 - Unable to resolve <C:\\Users\\mrauschsupola\\Shawi\\shawi-data\\103_tei_w\\2025-09-15_09-33\\Urfa-164_Baking_Bread-Harran-2014_05_ab2div.xml> into a Source. Line number: -1\n",
      "2025-09-15 09:34:21,506 - C:\\Users\\mrauschsupola\\Shawi\\shawi-data\\103_tei_w\\2025-09-15_09-33\\Urfa-164_Baking_Bread-Harran-2014_05_ab2div.xml - C:\\Users\\mrauschsupola\\Shawi\\shawi-data\\080_scripts_generic\\080_01_ELAN2TEI\\tokenizer\\custom_xtoks2tei.xsl -> C:\\Users\\mrauschsupola\\Shawi\\shawi-data\\103_tei_w\\Urfa-164_Baking_Bread-Harran-2014.xml failed\n"
     ]
    },
    {
     "name": "stdout",
     "output_type": "stream",
     "text": [
      "Urfa-164_Baking_Bread-Harran-2014: done.\n",
      "Urfa-165_Childhood-Harran-2014: C:\\Users\\mrauschsupola\\Shawi\\shawi-data\\103_tei_w\\2025-09-15_09-33\\ELAN_Urfa-165_Childhood-Harran-2014.xml -> C:\\Users\\mrauschsupola\\Shawi\\shawi-data\\103_tei_w\\Urfa-165_Childhood-Harran-2014.xml\n"
     ]
    },
    {
     "name": "stderr",
     "output_type": "stream",
     "text": [
      "2025-09-15 09:34:22,248 - XTSE0020: Serialization parameter Q{.../saxon.sf.net/}line-length is not available in Saxon-HE\n",
      "\n",
      "2025-09-15 09:34:22,248 - C:\\Users\\mrauschsupola\\Shawi\\shawi-data\\103_tei_w\\2025-09-15_09-33\\Urfa-165_Childhood-Harran-2014_04_posttok.xml - C:\\Users\\mrauschsupola\\Shawi\\shawi-data\\080_scripts_generic\\080_01_ELAN2TEI\\tokenizer\\annotationBlock2div.xsl -> C:\\Users\\mrauschsupola\\Shawi\\shawi-data\\103_tei_w\\2025-09-15_09-33\\Urfa-165_Childhood-Harran-2014_05_ab2div.xml failed\n",
      "2025-09-15 09:34:22,248 - there was an error transforming ../../103_tei_w/2025-09-15_09-33/Urfa-165_Childhood-Harran-2014_04_posttok.xml with stylesheet ./tokenizer/annotationBlock2div.xsl\n",
      "2025-09-15 09:34:22,248 - Unable to resolve <C:\\Users\\mrauschsupola\\Shawi\\shawi-data\\103_tei_w\\2025-09-15_09-33\\Urfa-165_Childhood-Harran-2014_05_ab2div.xml> into a Source. Line number: -1\n",
      "2025-09-15 09:34:22,248 - C:\\Users\\mrauschsupola\\Shawi\\shawi-data\\103_tei_w\\2025-09-15_09-33\\Urfa-165_Childhood-Harran-2014_05_ab2div.xml - C:\\Users\\mrauschsupola\\Shawi\\shawi-data\\080_scripts_generic\\080_01_ELAN2TEI\\tokenizer\\custom_xtoks2tei.xsl -> C:\\Users\\mrauschsupola\\Shawi\\shawi-data\\103_tei_w\\Urfa-165_Childhood-Harran-2014.xml failed\n"
     ]
    },
    {
     "name": "stdout",
     "output_type": "stream",
     "text": [
      "Urfa-165_Childhood-Harran-2014: done.\n",
      "Urfa-167_Sheikh_'Nad-Harran-2014: C:\\Users\\mrauschsupola\\Shawi\\shawi-data\\103_tei_w\\2025-09-15_09-33\\ELAN_Urfa-167_Sheikh_'Nad-Harran-2014.xml -> C:\\Users\\mrauschsupola\\Shawi\\shawi-data\\103_tei_w\\Urfa-167_Sheikh_'Nad-Harran-2014.xml\n"
     ]
    },
    {
     "name": "stderr",
     "output_type": "stream",
     "text": [
      "2025-09-15 09:34:22,865 - XTSE0020: Serialization parameter Q{.../saxon.sf.net/}line-length is not available in Saxon-HE\n",
      "\n",
      "2025-09-15 09:34:22,880 - C:\\Users\\mrauschsupola\\Shawi\\shawi-data\\103_tei_w\\2025-09-15_09-33\\Urfa-167_Sheikh_'Nad-Harran-2014_04_posttok.xml - C:\\Users\\mrauschsupola\\Shawi\\shawi-data\\080_scripts_generic\\080_01_ELAN2TEI\\tokenizer\\annotationBlock2div.xsl -> C:\\Users\\mrauschsupola\\Shawi\\shawi-data\\103_tei_w\\2025-09-15_09-33\\Urfa-167_Sheikh_'Nad-Harran-2014_05_ab2div.xml failed\n",
      "2025-09-15 09:34:22,880 - there was an error transforming ../../103_tei_w/2025-09-15_09-33/Urfa-167_Sheikh_'Nad-Harran-2014_04_posttok.xml with stylesheet ./tokenizer/annotationBlock2div.xsl\n",
      "2025-09-15 09:34:22,882 - Unable to resolve <C:\\Users\\mrauschsupola\\Shawi\\shawi-data\\103_tei_w\\2025-09-15_09-33\\Urfa-167_Sheikh_'Nad-Harran-2014_05_ab2div.xml> into a Source. Line number: -1\n",
      "2025-09-15 09:34:22,882 - C:\\Users\\mrauschsupola\\Shawi\\shawi-data\\103_tei_w\\2025-09-15_09-33\\Urfa-167_Sheikh_'Nad-Harran-2014_05_ab2div.xml - C:\\Users\\mrauschsupola\\Shawi\\shawi-data\\080_scripts_generic\\080_01_ELAN2TEI\\tokenizer\\custom_xtoks2tei.xsl -> C:\\Users\\mrauschsupola\\Shawi\\shawi-data\\103_tei_w\\Urfa-167_Sheikh_'Nad-Harran-2014.xml failed\n"
     ]
    },
    {
     "name": "stdout",
     "output_type": "stream",
     "text": [
      "Urfa-167_Sheikh_'Nad-Harran-2014: done.\n",
      "Urfa-173_Woman_with_No_Lover_Short-Harran-2014: C:\\Users\\mrauschsupola\\Shawi\\shawi-data\\103_tei_w\\2025-09-15_09-33\\ELAN_Urfa-173_Woman_with_No_Lover_Short-Harran-2014.xml -> C:\\Users\\mrauschsupola\\Shawi\\shawi-data\\103_tei_w\\Urfa-173_Woman_with_No_Lover_Short-Harran-2014.xml\n"
     ]
    },
    {
     "name": "stderr",
     "output_type": "stream",
     "text": [
      "2025-09-15 09:34:23,208 - XTSE0020: Serialization parameter Q{.../saxon.sf.net/}line-length is not available in Saxon-HE\n",
      "\n",
      "2025-09-15 09:34:23,208 - C:\\Users\\mrauschsupola\\Shawi\\shawi-data\\103_tei_w\\2025-09-15_09-33\\Urfa-173_Woman_with_No_Lover_Short-Harran-2014_04_posttok.xml - C:\\Users\\mrauschsupola\\Shawi\\shawi-data\\080_scripts_generic\\080_01_ELAN2TEI\\tokenizer\\annotationBlock2div.xsl -> C:\\Users\\mrauschsupola\\Shawi\\shawi-data\\103_tei_w\\2025-09-15_09-33\\Urfa-173_Woman_with_No_Lover_Short-Harran-2014_05_ab2div.xml failed\n",
      "2025-09-15 09:34:23,221 - there was an error transforming ../../103_tei_w/2025-09-15_09-33/Urfa-173_Woman_with_No_Lover_Short-Harran-2014_04_posttok.xml with stylesheet ./tokenizer/annotationBlock2div.xsl\n",
      "2025-09-15 09:34:23,221 - Unable to resolve <C:\\Users\\mrauschsupola\\Shawi\\shawi-data\\103_tei_w\\2025-09-15_09-33\\Urfa-173_Woman_with_No_Lover_Short-Harran-2014_05_ab2div.xml> into a Source. Line number: -1\n",
      "2025-09-15 09:34:23,221 - C:\\Users\\mrauschsupola\\Shawi\\shawi-data\\103_tei_w\\2025-09-15_09-33\\Urfa-173_Woman_with_No_Lover_Short-Harran-2014_05_ab2div.xml - C:\\Users\\mrauschsupola\\Shawi\\shawi-data\\080_scripts_generic\\080_01_ELAN2TEI\\tokenizer\\custom_xtoks2tei.xsl -> C:\\Users\\mrauschsupola\\Shawi\\shawi-data\\103_tei_w\\Urfa-173_Woman_with_No_Lover_Short-Harran-2014.xml failed\n"
     ]
    },
    {
     "name": "stdout",
     "output_type": "stream",
     "text": [
      "Urfa-173_Woman_with_No_Lover_Short-Harran-2014: done.\n",
      "Urfa-175_Bastig-Harran-2014: C:\\Users\\mrauschsupola\\Shawi\\shawi-data\\103_tei_w\\2025-09-15_09-33\\ELAN_Urfa-175_Bastig-Harran-2014.xml -> C:\\Users\\mrauschsupola\\Shawi\\shawi-data\\103_tei_w\\Urfa-175_Bastig-Harran-2014.xml\n"
     ]
    },
    {
     "name": "stderr",
     "output_type": "stream",
     "text": [
      "2025-09-15 09:34:23,661 - XTSE0020: Serialization parameter Q{.../saxon.sf.net/}line-length is not available in Saxon-HE\n",
      "\n",
      "2025-09-15 09:34:23,662 - C:\\Users\\mrauschsupola\\Shawi\\shawi-data\\103_tei_w\\2025-09-15_09-33\\Urfa-175_Bastig-Harran-2014_04_posttok.xml - C:\\Users\\mrauschsupola\\Shawi\\shawi-data\\080_scripts_generic\\080_01_ELAN2TEI\\tokenizer\\annotationBlock2div.xsl -> C:\\Users\\mrauschsupola\\Shawi\\shawi-data\\103_tei_w\\2025-09-15_09-33\\Urfa-175_Bastig-Harran-2014_05_ab2div.xml failed\n",
      "2025-09-15 09:34:23,664 - there was an error transforming ../../103_tei_w/2025-09-15_09-33/Urfa-175_Bastig-Harran-2014_04_posttok.xml with stylesheet ./tokenizer/annotationBlock2div.xsl\n",
      "2025-09-15 09:34:23,667 - Unable to resolve <C:\\Users\\mrauschsupola\\Shawi\\shawi-data\\103_tei_w\\2025-09-15_09-33\\Urfa-175_Bastig-Harran-2014_05_ab2div.xml> into a Source. Line number: -1\n",
      "2025-09-15 09:34:23,667 - C:\\Users\\mrauschsupola\\Shawi\\shawi-data\\103_tei_w\\2025-09-15_09-33\\Urfa-175_Bastig-Harran-2014_05_ab2div.xml - C:\\Users\\mrauschsupola\\Shawi\\shawi-data\\080_scripts_generic\\080_01_ELAN2TEI\\tokenizer\\custom_xtoks2tei.xsl -> C:\\Users\\mrauschsupola\\Shawi\\shawi-data\\103_tei_w\\Urfa-175_Bastig-Harran-2014.xml failed\n"
     ]
    },
    {
     "name": "stdout",
     "output_type": "stream",
     "text": [
      "Urfa-175_Bastig-Harran-2014: done.\n",
      "Urfa-176_Condolences-Harran-2014: C:\\Users\\mrauschsupola\\Shawi\\shawi-data\\103_tei_w\\2025-09-15_09-33\\ELAN_Urfa-176_Condolences-Harran-2014.xml -> C:\\Users\\mrauschsupola\\Shawi\\shawi-data\\103_tei_w\\Urfa-176_Condolences-Harran-2014.xml\n"
     ]
    },
    {
     "name": "stderr",
     "output_type": "stream",
     "text": [
      "2025-09-15 09:34:24,282 - XTSE0020: Serialization parameter Q{.../saxon.sf.net/}line-length is not available in Saxon-HE\n",
      "\n",
      "2025-09-15 09:34:24,282 - C:\\Users\\mrauschsupola\\Shawi\\shawi-data\\103_tei_w\\2025-09-15_09-33\\Urfa-176_Condolences-Harran-2014_04_posttok.xml - C:\\Users\\mrauschsupola\\Shawi\\shawi-data\\080_scripts_generic\\080_01_ELAN2TEI\\tokenizer\\annotationBlock2div.xsl -> C:\\Users\\mrauschsupola\\Shawi\\shawi-data\\103_tei_w\\2025-09-15_09-33\\Urfa-176_Condolences-Harran-2014_05_ab2div.xml failed\n",
      "2025-09-15 09:34:24,290 - there was an error transforming ../../103_tei_w/2025-09-15_09-33/Urfa-176_Condolences-Harran-2014_04_posttok.xml with stylesheet ./tokenizer/annotationBlock2div.xsl\n",
      "2025-09-15 09:34:24,296 - Unable to resolve <C:\\Users\\mrauschsupola\\Shawi\\shawi-data\\103_tei_w\\2025-09-15_09-33\\Urfa-176_Condolences-Harran-2014_05_ab2div.xml> into a Source. Line number: -1\n",
      "2025-09-15 09:34:24,297 - C:\\Users\\mrauschsupola\\Shawi\\shawi-data\\103_tei_w\\2025-09-15_09-33\\Urfa-176_Condolences-Harran-2014_05_ab2div.xml - C:\\Users\\mrauschsupola\\Shawi\\shawi-data\\080_scripts_generic\\080_01_ELAN2TEI\\tokenizer\\custom_xtoks2tei.xsl -> C:\\Users\\mrauschsupola\\Shawi\\shawi-data\\103_tei_w\\Urfa-176_Condolences-Harran-2014.xml failed\n"
     ]
    },
    {
     "name": "stdout",
     "output_type": "stream",
     "text": [
      "Urfa-176_Condolences-Harran-2014: done.\n",
      "Urfa-177_Wedding_in_Former_Times-Harran-2014: C:\\Users\\mrauschsupola\\Shawi\\shawi-data\\103_tei_w\\2025-09-15_09-33\\ELAN_Urfa-177_Wedding_in_Former_Times-Harran-2014.xml -> C:\\Users\\mrauschsupola\\Shawi\\shawi-data\\103_tei_w\\Urfa-177_Wedding_in_Former_Times-Harran-2014.xml\n"
     ]
    },
    {
     "name": "stderr",
     "output_type": "stream",
     "text": [
      "2025-09-15 09:34:26,315 - XTSE0020: Serialization parameter Q{.../saxon.sf.net/}line-length is not available in Saxon-HE\n",
      "\n",
      "2025-09-15 09:34:26,315 - C:\\Users\\mrauschsupola\\Shawi\\shawi-data\\103_tei_w\\2025-09-15_09-33\\Urfa-177_Wedding_in_Former_Times-Harran-2014_04_posttok.xml - C:\\Users\\mrauschsupola\\Shawi\\shawi-data\\080_scripts_generic\\080_01_ELAN2TEI\\tokenizer\\annotationBlock2div.xsl -> C:\\Users\\mrauschsupola\\Shawi\\shawi-data\\103_tei_w\\2025-09-15_09-33\\Urfa-177_Wedding_in_Former_Times-Harran-2014_05_ab2div.xml failed\n",
      "2025-09-15 09:34:26,315 - there was an error transforming ../../103_tei_w/2025-09-15_09-33/Urfa-177_Wedding_in_Former_Times-Harran-2014_04_posttok.xml with stylesheet ./tokenizer/annotationBlock2div.xsl\n",
      "2025-09-15 09:34:26,315 - Unable to resolve <C:\\Users\\mrauschsupola\\Shawi\\shawi-data\\103_tei_w\\2025-09-15_09-33\\Urfa-177_Wedding_in_Former_Times-Harran-2014_05_ab2div.xml> into a Source. Line number: -1\n",
      "2025-09-15 09:34:26,315 - C:\\Users\\mrauschsupola\\Shawi\\shawi-data\\103_tei_w\\2025-09-15_09-33\\Urfa-177_Wedding_in_Former_Times-Harran-2014_05_ab2div.xml - C:\\Users\\mrauschsupola\\Shawi\\shawi-data\\080_scripts_generic\\080_01_ELAN2TEI\\tokenizer\\custom_xtoks2tei.xsl -> C:\\Users\\mrauschsupola\\Shawi\\shawi-data\\103_tei_w\\Urfa-177_Wedding_in_Former_Times-Harran-2014.xml failed\n"
     ]
    },
    {
     "name": "stdout",
     "output_type": "stream",
     "text": [
      "Urfa-177_Wedding_in_Former_Times-Harran-2014: done.\n",
      "Urfa-179_Grandfather-Harran-2014: C:\\Users\\mrauschsupola\\Shawi\\shawi-data\\103_tei_w\\2025-09-15_09-33\\ELAN_Urfa-179_Grandfather-Harran-2014.xml -> C:\\Users\\mrauschsupola\\Shawi\\shawi-data\\103_tei_w\\Urfa-179_Grandfather-Harran-2014.xml\n"
     ]
    },
    {
     "name": "stderr",
     "output_type": "stream",
     "text": [
      "2025-09-15 09:34:27,403 - XTSE0020: Serialization parameter Q{.../saxon.sf.net/}line-length is not available in Saxon-HE\n",
      "\n",
      "2025-09-15 09:34:27,404 - C:\\Users\\mrauschsupola\\Shawi\\shawi-data\\103_tei_w\\2025-09-15_09-33\\Urfa-179_Grandfather-Harran-2014_04_posttok.xml - C:\\Users\\mrauschsupola\\Shawi\\shawi-data\\080_scripts_generic\\080_01_ELAN2TEI\\tokenizer\\annotationBlock2div.xsl -> C:\\Users\\mrauschsupola\\Shawi\\shawi-data\\103_tei_w\\2025-09-15_09-33\\Urfa-179_Grandfather-Harran-2014_05_ab2div.xml failed\n",
      "2025-09-15 09:34:27,404 - there was an error transforming ../../103_tei_w/2025-09-15_09-33/Urfa-179_Grandfather-Harran-2014_04_posttok.xml with stylesheet ./tokenizer/annotationBlock2div.xsl\n",
      "2025-09-15 09:34:27,408 - Unable to resolve <C:\\Users\\mrauschsupola\\Shawi\\shawi-data\\103_tei_w\\2025-09-15_09-33\\Urfa-179_Grandfather-Harran-2014_05_ab2div.xml> into a Source. Line number: -1\n",
      "2025-09-15 09:34:27,409 - C:\\Users\\mrauschsupola\\Shawi\\shawi-data\\103_tei_w\\2025-09-15_09-33\\Urfa-179_Grandfather-Harran-2014_05_ab2div.xml - C:\\Users\\mrauschsupola\\Shawi\\shawi-data\\080_scripts_generic\\080_01_ELAN2TEI\\tokenizer\\custom_xtoks2tei.xsl -> C:\\Users\\mrauschsupola\\Shawi\\shawi-data\\103_tei_w\\Urfa-179_Grandfather-Harran-2014.xml failed\n"
     ]
    },
    {
     "name": "stdout",
     "output_type": "stream",
     "text": [
      "Urfa-179_Grandfather-Harran-2014: done.\n",
      "Urfa-183_Policeman_and_Carp-Harran-2014: C:\\Users\\mrauschsupola\\Shawi\\shawi-data\\103_tei_w\\2025-09-15_09-33\\ELAN_Urfa-183_Policeman_and_Carp-Harran-2014.xml -> C:\\Users\\mrauschsupola\\Shawi\\shawi-data\\103_tei_w\\Urfa-183_Policeman_and_Carp-Harran-2014.xml\n"
     ]
    },
    {
     "name": "stderr",
     "output_type": "stream",
     "text": [
      "2025-09-15 09:34:27,747 - XTSE0020: Serialization parameter Q{.../saxon.sf.net/}line-length is not available in Saxon-HE\n",
      "\n",
      "2025-09-15 09:34:27,763 - C:\\Users\\mrauschsupola\\Shawi\\shawi-data\\103_tei_w\\2025-09-15_09-33\\Urfa-183_Policeman_and_Carp-Harran-2014_04_posttok.xml - C:\\Users\\mrauschsupola\\Shawi\\shawi-data\\080_scripts_generic\\080_01_ELAN2TEI\\tokenizer\\annotationBlock2div.xsl -> C:\\Users\\mrauschsupola\\Shawi\\shawi-data\\103_tei_w\\2025-09-15_09-33\\Urfa-183_Policeman_and_Carp-Harran-2014_05_ab2div.xml failed\n",
      "2025-09-15 09:34:27,763 - there was an error transforming ../../103_tei_w/2025-09-15_09-33/Urfa-183_Policeman_and_Carp-Harran-2014_04_posttok.xml with stylesheet ./tokenizer/annotationBlock2div.xsl\n",
      "2025-09-15 09:34:27,768 - Unable to resolve <C:\\Users\\mrauschsupola\\Shawi\\shawi-data\\103_tei_w\\2025-09-15_09-33\\Urfa-183_Policeman_and_Carp-Harran-2014_05_ab2div.xml> into a Source. Line number: -1\n",
      "2025-09-15 09:34:27,769 - C:\\Users\\mrauschsupola\\Shawi\\shawi-data\\103_tei_w\\2025-09-15_09-33\\Urfa-183_Policeman_and_Carp-Harran-2014_05_ab2div.xml - C:\\Users\\mrauschsupola\\Shawi\\shawi-data\\080_scripts_generic\\080_01_ELAN2TEI\\tokenizer\\custom_xtoks2tei.xsl -> C:\\Users\\mrauschsupola\\Shawi\\shawi-data\\103_tei_w\\Urfa-183_Policeman_and_Carp-Harran-2014.xml failed\n",
      "2025-09-15 09:34:28,178 - XTSE0020: Serialization parameter Q{.../saxon.sf.net/}line-length is not available in Saxon-HE\n",
      "\n",
      "2025-09-15 09:34:28,179 - C:\\Users\\mrauschsupola\\Shawi\\shawi-data\\103_tei_w\\2025-09-15_09-33\\Urfa-184_Evil_Eye-Harran-2014_04_posttok.xml - C:\\Users\\mrauschsupola\\Shawi\\shawi-data\\080_scripts_generic\\080_01_ELAN2TEI\\tokenizer\\annotationBlock2div.xsl -> C:\\Users\\mrauschsupola\\Shawi\\shawi-data\\103_tei_w\\2025-09-15_09-33\\Urfa-184_Evil_Eye-Harran-2014_05_ab2div.xml failed\n",
      "2025-09-15 09:34:28,180 - there was an error transforming ../../103_tei_w/2025-09-15_09-33/Urfa-184_Evil_Eye-Harran-2014_04_posttok.xml with stylesheet ./tokenizer/annotationBlock2div.xsl\n",
      "2025-09-15 09:34:28,185 - Unable to resolve <C:\\Users\\mrauschsupola\\Shawi\\shawi-data\\103_tei_w\\2025-09-15_09-33\\Urfa-184_Evil_Eye-Harran-2014_05_ab2div.xml> into a Source. Line number: -1\n"
     ]
    },
    {
     "name": "stdout",
     "output_type": "stream",
     "text": [
      "Urfa-183_Policeman_and_Carp-Harran-2014: done.\n",
      "Urfa-184_Evil_Eye-Harran-2014: C:\\Users\\mrauschsupola\\Shawi\\shawi-data\\103_tei_w\\2025-09-15_09-33\\ELAN_Urfa-184_Evil_Eye-Harran-2014.xml -> C:\\Users\\mrauschsupola\\Shawi\\shawi-data\\103_tei_w\\Urfa-184_Evil_Eye-Harran-2014.xml\n"
     ]
    },
    {
     "name": "stderr",
     "output_type": "stream",
     "text": [
      "2025-09-15 09:34:28,185 - C:\\Users\\mrauschsupola\\Shawi\\shawi-data\\103_tei_w\\2025-09-15_09-33\\Urfa-184_Evil_Eye-Harran-2014_05_ab2div.xml - C:\\Users\\mrauschsupola\\Shawi\\shawi-data\\080_scripts_generic\\080_01_ELAN2TEI\\tokenizer\\custom_xtoks2tei.xsl -> C:\\Users\\mrauschsupola\\Shawi\\shawi-data\\103_tei_w\\Urfa-184_Evil_Eye-Harran-2014.xml failed\n"
     ]
    },
    {
     "name": "stdout",
     "output_type": "stream",
     "text": [
      "Urfa-184_Evil_Eye-Harran-2014: done.\n",
      "Urfa-187_Two_Women_and_Fridge-Harran-2015: C:\\Users\\mrauschsupola\\Shawi\\shawi-data\\103_tei_w\\2025-09-15_09-33\\ELAN_Urfa-187_Two_Women_and_Fridge-Harran-2015.xml -> C:\\Users\\mrauschsupola\\Shawi\\shawi-data\\103_tei_w\\Urfa-187_Two_Women_and_Fridge-Harran-2015.xml\n"
     ]
    },
    {
     "name": "stderr",
     "output_type": "stream",
     "text": [
      "2025-09-15 09:34:28,632 - XTSE0020: Serialization parameter Q{.../saxon.sf.net/}line-length is not available in Saxon-HE\n",
      "\n",
      "2025-09-15 09:34:28,632 - C:\\Users\\mrauschsupola\\Shawi\\shawi-data\\103_tei_w\\2025-09-15_09-33\\Urfa-187_Two_Women_and_Fridge-Harran-2015_04_posttok.xml - C:\\Users\\mrauschsupola\\Shawi\\shawi-data\\080_scripts_generic\\080_01_ELAN2TEI\\tokenizer\\annotationBlock2div.xsl -> C:\\Users\\mrauschsupola\\Shawi\\shawi-data\\103_tei_w\\2025-09-15_09-33\\Urfa-187_Two_Women_and_Fridge-Harran-2015_05_ab2div.xml failed\n",
      "2025-09-15 09:34:28,632 - there was an error transforming ../../103_tei_w/2025-09-15_09-33/Urfa-187_Two_Women_and_Fridge-Harran-2015_04_posttok.xml with stylesheet ./tokenizer/annotationBlock2div.xsl\n",
      "2025-09-15 09:34:28,632 - Unable to resolve <C:\\Users\\mrauschsupola\\Shawi\\shawi-data\\103_tei_w\\2025-09-15_09-33\\Urfa-187_Two_Women_and_Fridge-Harran-2015_05_ab2div.xml> into a Source. Line number: -1\n",
      "2025-09-15 09:34:28,632 - C:\\Users\\mrauschsupola\\Shawi\\shawi-data\\103_tei_w\\2025-09-15_09-33\\Urfa-187_Two_Women_and_Fridge-Harran-2015_05_ab2div.xml - C:\\Users\\mrauschsupola\\Shawi\\shawi-data\\080_scripts_generic\\080_01_ELAN2TEI\\tokenizer\\custom_xtoks2tei.xsl -> C:\\Users\\mrauschsupola\\Shawi\\shawi-data\\103_tei_w\\Urfa-187_Two_Women_and_Fridge-Harran-2015.xml failed\n"
     ]
    },
    {
     "name": "stdout",
     "output_type": "stream",
     "text": [
      "Urfa-187_Two_Women_and_Fridge-Harran-2015: done.\n",
      "Urfa-188_Shepherd-Harran-2015: C:\\Users\\mrauschsupola\\Shawi\\shawi-data\\103_tei_w\\2025-09-15_09-33\\ELAN_Urfa-188_Shepherd-Harran-2015.xml -> C:\\Users\\mrauschsupola\\Shawi\\shawi-data\\103_tei_w\\Urfa-188_Shepherd-Harran-2015.xml\n"
     ]
    },
    {
     "name": "stderr",
     "output_type": "stream",
     "text": [
      "2025-09-15 09:34:29,096 - XTSE0020: Serialization parameter Q{.../saxon.sf.net/}line-length is not available in Saxon-HE\n",
      "\n",
      "2025-09-15 09:34:29,096 - C:\\Users\\mrauschsupola\\Shawi\\shawi-data\\103_tei_w\\2025-09-15_09-33\\Urfa-188_Shepherd-Harran-2015_04_posttok.xml - C:\\Users\\mrauschsupola\\Shawi\\shawi-data\\080_scripts_generic\\080_01_ELAN2TEI\\tokenizer\\annotationBlock2div.xsl -> C:\\Users\\mrauschsupola\\Shawi\\shawi-data\\103_tei_w\\2025-09-15_09-33\\Urfa-188_Shepherd-Harran-2015_05_ab2div.xml failed\n",
      "2025-09-15 09:34:29,104 - there was an error transforming ../../103_tei_w/2025-09-15_09-33/Urfa-188_Shepherd-Harran-2015_04_posttok.xml with stylesheet ./tokenizer/annotationBlock2div.xsl\n",
      "2025-09-15 09:34:29,106 - Unable to resolve <C:\\Users\\mrauschsupola\\Shawi\\shawi-data\\103_tei_w\\2025-09-15_09-33\\Urfa-188_Shepherd-Harran-2015_05_ab2div.xml> into a Source. Line number: -1\n",
      "2025-09-15 09:34:29,106 - C:\\Users\\mrauschsupola\\Shawi\\shawi-data\\103_tei_w\\2025-09-15_09-33\\Urfa-188_Shepherd-Harran-2015_05_ab2div.xml - C:\\Users\\mrauschsupola\\Shawi\\shawi-data\\080_scripts_generic\\080_01_ELAN2TEI\\tokenizer\\custom_xtoks2tei.xsl -> C:\\Users\\mrauschsupola\\Shawi\\shawi-data\\103_tei_w\\Urfa-188_Shepherd-Harran-2015.xml failed\n"
     ]
    },
    {
     "name": "stdout",
     "output_type": "stream",
     "text": [
      "Urfa-188_Shepherd-Harran-2015: done.\n",
      "Urfa-189_Wanted_to_Marry-Harran: C:\\Users\\mrauschsupola\\Shawi\\shawi-data\\103_tei_w\\2025-09-15_09-33\\ELAN_Urfa-189_Wanted_to_Marry-Harran.xml -> C:\\Users\\mrauschsupola\\Shawi\\shawi-data\\103_tei_w\\Urfa-189_Wanted_to_Marry-Harran.xml\n"
     ]
    },
    {
     "name": "stderr",
     "output_type": "stream",
     "text": [
      "2025-09-15 09:34:29,450 - XTSE0020: Serialization parameter Q{.../saxon.sf.net/}line-length is not available in Saxon-HE\n",
      "\n",
      "2025-09-15 09:34:29,450 - C:\\Users\\mrauschsupola\\Shawi\\shawi-data\\103_tei_w\\2025-09-15_09-33\\Urfa-189_Wanted_to_Marry-Harran_04_posttok.xml - C:\\Users\\mrauschsupola\\Shawi\\shawi-data\\080_scripts_generic\\080_01_ELAN2TEI\\tokenizer\\annotationBlock2div.xsl -> C:\\Users\\mrauschsupola\\Shawi\\shawi-data\\103_tei_w\\2025-09-15_09-33\\Urfa-189_Wanted_to_Marry-Harran_05_ab2div.xml failed\n",
      "2025-09-15 09:34:29,450 - there was an error transforming ../../103_tei_w/2025-09-15_09-33/Urfa-189_Wanted_to_Marry-Harran_04_posttok.xml with stylesheet ./tokenizer/annotationBlock2div.xsl\n",
      "2025-09-15 09:34:29,450 - Unable to resolve <C:\\Users\\mrauschsupola\\Shawi\\shawi-data\\103_tei_w\\2025-09-15_09-33\\Urfa-189_Wanted_to_Marry-Harran_05_ab2div.xml> into a Source. Line number: -1\n",
      "2025-09-15 09:34:29,450 - C:\\Users\\mrauschsupola\\Shawi\\shawi-data\\103_tei_w\\2025-09-15_09-33\\Urfa-189_Wanted_to_Marry-Harran_05_ab2div.xml - C:\\Users\\mrauschsupola\\Shawi\\shawi-data\\080_scripts_generic\\080_01_ELAN2TEI\\tokenizer\\custom_xtoks2tei.xsl -> C:\\Users\\mrauschsupola\\Shawi\\shawi-data\\103_tei_w\\Urfa-189_Wanted_to_Marry-Harran.xml failed\n"
     ]
    },
    {
     "name": "stdout",
     "output_type": "stream",
     "text": [
      "Urfa-189_Wanted_to_Marry-Harran: done.\n",
      "Urfa-190_ill_Blind_Mother-Harran-2015: C:\\Users\\mrauschsupola\\Shawi\\shawi-data\\103_tei_w\\2025-09-15_09-33\\ELAN_Urfa-190_ill_Blind_Mother-Harran-2015.xml -> C:\\Users\\mrauschsupola\\Shawi\\shawi-data\\103_tei_w\\Urfa-190_ill_Blind_Mother-Harran-2015.xml\n"
     ]
    },
    {
     "name": "stderr",
     "output_type": "stream",
     "text": [
      "2025-09-15 09:34:29,865 - XTSE0020: Serialization parameter Q{.../saxon.sf.net/}line-length is not available in Saxon-HE\n",
      "\n",
      "2025-09-15 09:34:29,881 - C:\\Users\\mrauschsupola\\Shawi\\shawi-data\\103_tei_w\\2025-09-15_09-33\\Urfa-190_ill_Blind_Mother-Harran-2015_04_posttok.xml - C:\\Users\\mrauschsupola\\Shawi\\shawi-data\\080_scripts_generic\\080_01_ELAN2TEI\\tokenizer\\annotationBlock2div.xsl -> C:\\Users\\mrauschsupola\\Shawi\\shawi-data\\103_tei_w\\2025-09-15_09-33\\Urfa-190_ill_Blind_Mother-Harran-2015_05_ab2div.xml failed\n",
      "2025-09-15 09:34:29,881 - there was an error transforming ../../103_tei_w/2025-09-15_09-33/Urfa-190_ill_Blind_Mother-Harran-2015_04_posttok.xml with stylesheet ./tokenizer/annotationBlock2div.xsl\n",
      "2025-09-15 09:34:29,886 - Unable to resolve <C:\\Users\\mrauschsupola\\Shawi\\shawi-data\\103_tei_w\\2025-09-15_09-33\\Urfa-190_ill_Blind_Mother-Harran-2015_05_ab2div.xml> into a Source. Line number: -1\n",
      "2025-09-15 09:34:29,886 - C:\\Users\\mrauschsupola\\Shawi\\shawi-data\\103_tei_w\\2025-09-15_09-33\\Urfa-190_ill_Blind_Mother-Harran-2015_05_ab2div.xml - C:\\Users\\mrauschsupola\\Shawi\\shawi-data\\080_scripts_generic\\080_01_ELAN2TEI\\tokenizer\\custom_xtoks2tei.xsl -> C:\\Users\\mrauschsupola\\Shawi\\shawi-data\\103_tei_w\\Urfa-190_ill_Blind_Mother-Harran-2015.xml failed\n"
     ]
    },
    {
     "name": "stdout",
     "output_type": "stream",
     "text": [
      "Urfa-190_ill_Blind_Mother-Harran-2015: done.\n",
      "Urfa-191_Kurd_and_Two_Wives-Harran-2015: C:\\Users\\mrauschsupola\\Shawi\\shawi-data\\103_tei_w\\2025-09-15_09-33\\ELAN_Urfa-191_Kurd_and_Two_Wives-Harran-2015.xml -> C:\\Users\\mrauschsupola\\Shawi\\shawi-data\\103_tei_w\\Urfa-191_Kurd_and_Two_Wives-Harran-2015.xml\n"
     ]
    },
    {
     "name": "stderr",
     "output_type": "stream",
     "text": [
      "2025-09-15 09:34:30,264 - XTSE0020: Serialization parameter Q{.../saxon.sf.net/}line-length is not available in Saxon-HE\n",
      "\n",
      "2025-09-15 09:34:30,264 - C:\\Users\\mrauschsupola\\Shawi\\shawi-data\\103_tei_w\\2025-09-15_09-33\\Urfa-191_Kurd_and_Two_Wives-Harran-2015_04_posttok.xml - C:\\Users\\mrauschsupola\\Shawi\\shawi-data\\080_scripts_generic\\080_01_ELAN2TEI\\tokenizer\\annotationBlock2div.xsl -> C:\\Users\\mrauschsupola\\Shawi\\shawi-data\\103_tei_w\\2025-09-15_09-33\\Urfa-191_Kurd_and_Two_Wives-Harran-2015_05_ab2div.xml failed\n",
      "2025-09-15 09:34:30,264 - there was an error transforming ../../103_tei_w/2025-09-15_09-33/Urfa-191_Kurd_and_Two_Wives-Harran-2015_04_posttok.xml with stylesheet ./tokenizer/annotationBlock2div.xsl\n",
      "2025-09-15 09:34:30,281 - Unable to resolve <C:\\Users\\mrauschsupola\\Shawi\\shawi-data\\103_tei_w\\2025-09-15_09-33\\Urfa-191_Kurd_and_Two_Wives-Harran-2015_05_ab2div.xml> into a Source. Line number: -1\n",
      "2025-09-15 09:34:30,281 - C:\\Users\\mrauschsupola\\Shawi\\shawi-data\\103_tei_w\\2025-09-15_09-33\\Urfa-191_Kurd_and_Two_Wives-Harran-2015_05_ab2div.xml - C:\\Users\\mrauschsupola\\Shawi\\shawi-data\\080_scripts_generic\\080_01_ELAN2TEI\\tokenizer\\custom_xtoks2tei.xsl -> C:\\Users\\mrauschsupola\\Shawi\\shawi-data\\103_tei_w\\Urfa-191_Kurd_and_Two_Wives-Harran-2015.xml failed\n"
     ]
    },
    {
     "name": "stdout",
     "output_type": "stream",
     "text": [
      "Urfa-191_Kurd_and_Two_Wives-Harran-2015: done.\n",
      "Urfa-192_Who_chooses_a_horse-Harran: C:\\Users\\mrauschsupola\\Shawi\\shawi-data\\103_tei_w\\2025-09-15_09-33\\ELAN_Urfa-192_Who_chooses_a_horse-Harran.xml -> C:\\Users\\mrauschsupola\\Shawi\\shawi-data\\103_tei_w\\Urfa-192_Who_chooses_a_horse-Harran.xml\n"
     ]
    },
    {
     "name": "stderr",
     "output_type": "stream",
     "text": [
      "2025-09-15 09:34:30,774 - XTSE0020: Serialization parameter Q{.../saxon.sf.net/}line-length is not available in Saxon-HE\n",
      "\n",
      "2025-09-15 09:34:30,776 - C:\\Users\\mrauschsupola\\Shawi\\shawi-data\\103_tei_w\\2025-09-15_09-33\\Urfa-192_Who_chooses_a_horse-Harran_04_posttok.xml - C:\\Users\\mrauschsupola\\Shawi\\shawi-data\\080_scripts_generic\\080_01_ELAN2TEI\\tokenizer\\annotationBlock2div.xsl -> C:\\Users\\mrauschsupola\\Shawi\\shawi-data\\103_tei_w\\2025-09-15_09-33\\Urfa-192_Who_chooses_a_horse-Harran_05_ab2div.xml failed\n",
      "2025-09-15 09:34:30,777 - there was an error transforming ../../103_tei_w/2025-09-15_09-33/Urfa-192_Who_chooses_a_horse-Harran_04_posttok.xml with stylesheet ./tokenizer/annotationBlock2div.xsl\n",
      "2025-09-15 09:34:30,782 - Unable to resolve <C:\\Users\\mrauschsupola\\Shawi\\shawi-data\\103_tei_w\\2025-09-15_09-33\\Urfa-192_Who_chooses_a_horse-Harran_05_ab2div.xml> into a Source. Line number: -1\n",
      "2025-09-15 09:34:30,782 - C:\\Users\\mrauschsupola\\Shawi\\shawi-data\\103_tei_w\\2025-09-15_09-33\\Urfa-192_Who_chooses_a_horse-Harran_05_ab2div.xml - C:\\Users\\mrauschsupola\\Shawi\\shawi-data\\080_scripts_generic\\080_01_ELAN2TEI\\tokenizer\\custom_xtoks2tei.xsl -> C:\\Users\\mrauschsupola\\Shawi\\shawi-data\\103_tei_w\\Urfa-192_Who_chooses_a_horse-Harran.xml failed\n"
     ]
    },
    {
     "name": "stdout",
     "output_type": "stream",
     "text": [
      "Urfa-192_Who_chooses_a_horse-Harran: done.\n",
      "Urfa-193_Priapism-Harran-2015: C:\\Users\\mrauschsupola\\Shawi\\shawi-data\\103_tei_w\\2025-09-15_09-33\\ELAN_Urfa-193_Priapism-Harran-2015.xml -> C:\\Users\\mrauschsupola\\Shawi\\shawi-data\\103_tei_w\\Urfa-193_Priapism-Harran-2015.xml\n"
     ]
    },
    {
     "name": "stderr",
     "output_type": "stream",
     "text": [
      "2025-09-15 09:34:31,320 - XTSE0020: Serialization parameter Q{.../saxon.sf.net/}line-length is not available in Saxon-HE\n",
      "\n",
      "2025-09-15 09:34:31,321 - C:\\Users\\mrauschsupola\\Shawi\\shawi-data\\103_tei_w\\2025-09-15_09-33\\Urfa-193_Priapism-Harran-2015_04_posttok.xml - C:\\Users\\mrauschsupola\\Shawi\\shawi-data\\080_scripts_generic\\080_01_ELAN2TEI\\tokenizer\\annotationBlock2div.xsl -> C:\\Users\\mrauschsupola\\Shawi\\shawi-data\\103_tei_w\\2025-09-15_09-33\\Urfa-193_Priapism-Harran-2015_05_ab2div.xml failed\n",
      "2025-09-15 09:34:31,322 - there was an error transforming ../../103_tei_w/2025-09-15_09-33/Urfa-193_Priapism-Harran-2015_04_posttok.xml with stylesheet ./tokenizer/annotationBlock2div.xsl\n",
      "2025-09-15 09:34:31,326 - Unable to resolve <C:\\Users\\mrauschsupola\\Shawi\\shawi-data\\103_tei_w\\2025-09-15_09-33\\Urfa-193_Priapism-Harran-2015_05_ab2div.xml> into a Source. Line number: -1\n",
      "2025-09-15 09:34:31,327 - C:\\Users\\mrauschsupola\\Shawi\\shawi-data\\103_tei_w\\2025-09-15_09-33\\Urfa-193_Priapism-Harran-2015_05_ab2div.xml - C:\\Users\\mrauschsupola\\Shawi\\shawi-data\\080_scripts_generic\\080_01_ELAN2TEI\\tokenizer\\custom_xtoks2tei.xsl -> C:\\Users\\mrauschsupola\\Shawi\\shawi-data\\103_tei_w\\Urfa-193_Priapism-Harran-2015.xml failed\n",
      "2025-09-15 09:34:31,731 - XTSE0020: Serialization parameter Q{.../saxon.sf.net/}line-length is not available in Saxon-HE\n",
      "\n",
      "2025-09-15 09:34:31,732 - C:\\Users\\mrauschsupola\\Shawi\\shawi-data\\103_tei_w\\2025-09-15_09-33\\Urfa-194_Afraid_of_Dogs-Harran-2017_04_posttok.xml - C:\\Users\\mrauschsupola\\Shawi\\shawi-data\\080_scripts_generic\\080_01_ELAN2TEI\\tokenizer\\annotationBlock2div.xsl -> C:\\Users\\mrauschsupola\\Shawi\\shawi-data\\103_tei_w\\2025-09-15_09-33\\Urfa-194_Afraid_of_Dogs-Harran-2017_05_ab2div.xml failed\n",
      "2025-09-15 09:34:31,732 - there was an error transforming ../../103_tei_w/2025-09-15_09-33/Urfa-194_Afraid_of_Dogs-Harran-2017_04_posttok.xml with stylesheet ./tokenizer/annotationBlock2div.xsl\n",
      "2025-09-15 09:34:31,736 - Unable to resolve <C:\\Users\\mrauschsupola\\Shawi\\shawi-data\\103_tei_w\\2025-09-15_09-33\\Urfa-194_Afraid_of_Dogs-Harran-2017_05_ab2div.xml> into a Source. Line number: -1\n",
      "2025-09-15 09:34:31,737 - C:\\Users\\mrauschsupola\\Shawi\\shawi-data\\103_tei_w\\2025-09-15_09-33\\Urfa-194_Afraid_of_Dogs-Harran-2017_05_ab2div.xml - C:\\Users\\mrauschsupola\\Shawi\\shawi-data\\080_scripts_generic\\080_01_ELAN2TEI\\tokenizer\\custom_xtoks2tei.xsl -> C:\\Users\\mrauschsupola\\Shawi\\shawi-data\\103_tei_w\\Urfa-194_Afraid_of_Dogs-Harran-2017.xml failed\n"
     ]
    },
    {
     "name": "stdout",
     "output_type": "stream",
     "text": [
      "Urfa-193_Priapism-Harran-2015: done.\n",
      "Urfa-194_Afraid_of_Dogs-Harran-2017: C:\\Users\\mrauschsupola\\Shawi\\shawi-data\\103_tei_w\\2025-09-15_09-33\\ELAN_Urfa-194_Afraid_of_Dogs-Harran-2017.xml -> C:\\Users\\mrauschsupola\\Shawi\\shawi-data\\103_tei_w\\Urfa-194_Afraid_of_Dogs-Harran-2017.xml\n",
      "Urfa-194_Afraid_of_Dogs-Harran-2017: done.\n",
      "Urfa-195_Best_and_Worst_Part_of_the_Sheep-Harran-2017: C:\\Users\\mrauschsupola\\Shawi\\shawi-data\\103_tei_w\\2025-09-15_09-33\\ELAN_Urfa-195_Best_and_Worst_Part_of_the_Sheep-Harran-2017.xml -> C:\\Users\\mrauschsupola\\Shawi\\shawi-data\\103_tei_w\\Urfa-195_Best_and_Worst_Part_of_the_Sheep-Harran-2017.xml\n"
     ]
    },
    {
     "name": "stderr",
     "output_type": "stream",
     "text": [
      "2025-09-15 09:34:32,100 - XTSE0020: Serialization parameter Q{.../saxon.sf.net/}line-length is not available in Saxon-HE\n",
      "\n",
      "2025-09-15 09:34:32,101 - C:\\Users\\mrauschsupola\\Shawi\\shawi-data\\103_tei_w\\2025-09-15_09-33\\Urfa-195_Best_and_Worst_Part_of_the_Sheep-Harran-2017_04_posttok.xml - C:\\Users\\mrauschsupola\\Shawi\\shawi-data\\080_scripts_generic\\080_01_ELAN2TEI\\tokenizer\\annotationBlock2div.xsl -> C:\\Users\\mrauschsupola\\Shawi\\shawi-data\\103_tei_w\\2025-09-15_09-33\\Urfa-195_Best_and_Worst_Part_of_the_Sheep-Harran-2017_05_ab2div.xml failed\n",
      "2025-09-15 09:34:32,102 - there was an error transforming ../../103_tei_w/2025-09-15_09-33/Urfa-195_Best_and_Worst_Part_of_the_Sheep-Harran-2017_04_posttok.xml with stylesheet ./tokenizer/annotationBlock2div.xsl\n",
      "2025-09-15 09:34:32,105 - Unable to resolve <C:\\Users\\mrauschsupola\\Shawi\\shawi-data\\103_tei_w\\2025-09-15_09-33\\Urfa-195_Best_and_Worst_Part_of_the_Sheep-Harran-2017_05_ab2div.xml> into a Source. Line number: -1\n",
      "2025-09-15 09:34:32,106 - C:\\Users\\mrauschsupola\\Shawi\\shawi-data\\103_tei_w\\2025-09-15_09-33\\Urfa-195_Best_and_Worst_Part_of_the_Sheep-Harran-2017_05_ab2div.xml - C:\\Users\\mrauschsupola\\Shawi\\shawi-data\\080_scripts_generic\\080_01_ELAN2TEI\\tokenizer\\custom_xtoks2tei.xsl -> C:\\Users\\mrauschsupola\\Shawi\\shawi-data\\103_tei_w\\Urfa-195_Best_and_Worst_Part_of_the_Sheep-Harran-2017.xml failed\n"
     ]
    },
    {
     "name": "stdout",
     "output_type": "stream",
     "text": [
      "Urfa-195_Best_and_Worst_Part_of_the_Sheep-Harran-2017: done.\n",
      "Urfa-201_Story_of_Cigkofte-Harran-2017: C:\\Users\\mrauschsupola\\Shawi\\shawi-data\\103_tei_w\\2025-09-15_09-33\\ELAN_Urfa-201_Story_of_Cigkofte-Harran-2017.xml -> C:\\Users\\mrauschsupola\\Shawi\\shawi-data\\103_tei_w\\Urfa-201_Story_of_Cigkofte-Harran-2017.xml\n"
     ]
    },
    {
     "name": "stderr",
     "output_type": "stream",
     "text": [
      "2025-09-15 09:34:32,462 - XTSE0020: Serialization parameter Q{.../saxon.sf.net/}line-length is not available in Saxon-HE\n",
      "\n",
      "2025-09-15 09:34:32,462 - C:\\Users\\mrauschsupola\\Shawi\\shawi-data\\103_tei_w\\2025-09-15_09-33\\Urfa-201_Story_of_Cigkofte-Harran-2017_04_posttok.xml - C:\\Users\\mrauschsupola\\Shawi\\shawi-data\\080_scripts_generic\\080_01_ELAN2TEI\\tokenizer\\annotationBlock2div.xsl -> C:\\Users\\mrauschsupola\\Shawi\\shawi-data\\103_tei_w\\2025-09-15_09-33\\Urfa-201_Story_of_Cigkofte-Harran-2017_05_ab2div.xml failed\n",
      "2025-09-15 09:34:32,470 - there was an error transforming ../../103_tei_w/2025-09-15_09-33/Urfa-201_Story_of_Cigkofte-Harran-2017_04_posttok.xml with stylesheet ./tokenizer/annotationBlock2div.xsl\n",
      "2025-09-15 09:34:32,472 - Unable to resolve <C:\\Users\\mrauschsupola\\Shawi\\shawi-data\\103_tei_w\\2025-09-15_09-33\\Urfa-201_Story_of_Cigkofte-Harran-2017_05_ab2div.xml> into a Source. Line number: -1\n",
      "2025-09-15 09:34:32,472 - C:\\Users\\mrauschsupola\\Shawi\\shawi-data\\103_tei_w\\2025-09-15_09-33\\Urfa-201_Story_of_Cigkofte-Harran-2017_05_ab2div.xml - C:\\Users\\mrauschsupola\\Shawi\\shawi-data\\080_scripts_generic\\080_01_ELAN2TEI\\tokenizer\\custom_xtoks2tei.xsl -> C:\\Users\\mrauschsupola\\Shawi\\shawi-data\\103_tei_w\\Urfa-201_Story_of_Cigkofte-Harran-2017.xml failed\n"
     ]
    },
    {
     "name": "stdout",
     "output_type": "stream",
     "text": [
      "Urfa-201_Story_of_Cigkofte-Harran-2017: done.\n",
      "Urfa-202_Al-Shukwa-Harran-2017: C:\\Users\\mrauschsupola\\Shawi\\shawi-data\\103_tei_w\\2025-09-15_09-33\\ELAN_Urfa-202_Al-Shukwa-Harran-2017.xml -> C:\\Users\\mrauschsupola\\Shawi\\shawi-data\\103_tei_w\\Urfa-202_Al-Shukwa-Harran-2017.xml\n"
     ]
    },
    {
     "name": "stderr",
     "output_type": "stream",
     "text": [
      "2025-09-15 09:34:32,816 - XTSE0020: Serialization parameter Q{.../saxon.sf.net/}line-length is not available in Saxon-HE\n",
      "\n",
      "2025-09-15 09:34:32,816 - C:\\Users\\mrauschsupola\\Shawi\\shawi-data\\103_tei_w\\2025-09-15_09-33\\Urfa-202_Al-Shukwa-Harran-2017_04_posttok.xml - C:\\Users\\mrauschsupola\\Shawi\\shawi-data\\080_scripts_generic\\080_01_ELAN2TEI\\tokenizer\\annotationBlock2div.xsl -> C:\\Users\\mrauschsupola\\Shawi\\shawi-data\\103_tei_w\\2025-09-15_09-33\\Urfa-202_Al-Shukwa-Harran-2017_05_ab2div.xml failed\n",
      "2025-09-15 09:34:32,818 - there was an error transforming ../../103_tei_w/2025-09-15_09-33/Urfa-202_Al-Shukwa-Harran-2017_04_posttok.xml with stylesheet ./tokenizer/annotationBlock2div.xsl\n",
      "2025-09-15 09:34:32,820 - Unable to resolve <C:\\Users\\mrauschsupola\\Shawi\\shawi-data\\103_tei_w\\2025-09-15_09-33\\Urfa-202_Al-Shukwa-Harran-2017_05_ab2div.xml> into a Source. Line number: -1\n",
      "2025-09-15 09:34:32,820 - C:\\Users\\mrauschsupola\\Shawi\\shawi-data\\103_tei_w\\2025-09-15_09-33\\Urfa-202_Al-Shukwa-Harran-2017_05_ab2div.xml - C:\\Users\\mrauschsupola\\Shawi\\shawi-data\\080_scripts_generic\\080_01_ELAN2TEI\\tokenizer\\custom_xtoks2tei.xsl -> C:\\Users\\mrauschsupola\\Shawi\\shawi-data\\103_tei_w\\Urfa-202_Al-Shukwa-Harran-2017.xml failed\n"
     ]
    },
    {
     "name": "stdout",
     "output_type": "stream",
     "text": [
      "Urfa-202_Al-Shukwa-Harran-2017: done.\n",
      "Urfa-203_Tattooing-Harran-2017: C:\\Users\\mrauschsupola\\Shawi\\shawi-data\\103_tei_w\\2025-09-15_09-33\\ELAN_Urfa-203_Tattooing-Harran-2017.xml -> C:\\Users\\mrauschsupola\\Shawi\\shawi-data\\103_tei_w\\Urfa-203_Tattooing-Harran-2017.xml\n"
     ]
    },
    {
     "name": "stderr",
     "output_type": "stream",
     "text": [
      "2025-09-15 09:34:33,186 - XTSE0020: Serialization parameter Q{.../saxon.sf.net/}line-length is not available in Saxon-HE\n",
      "\n",
      "2025-09-15 09:34:33,198 - C:\\Users\\mrauschsupola\\Shawi\\shawi-data\\103_tei_w\\2025-09-15_09-33\\Urfa-203_Tattooing-Harran-2017_04_posttok.xml - C:\\Users\\mrauschsupola\\Shawi\\shawi-data\\080_scripts_generic\\080_01_ELAN2TEI\\tokenizer\\annotationBlock2div.xsl -> C:\\Users\\mrauschsupola\\Shawi\\shawi-data\\103_tei_w\\2025-09-15_09-33\\Urfa-203_Tattooing-Harran-2017_05_ab2div.xml failed\n",
      "2025-09-15 09:34:33,198 - there was an error transforming ../../103_tei_w/2025-09-15_09-33/Urfa-203_Tattooing-Harran-2017_04_posttok.xml with stylesheet ./tokenizer/annotationBlock2div.xsl\n",
      "2025-09-15 09:34:33,201 - Unable to resolve <C:\\Users\\mrauschsupola\\Shawi\\shawi-data\\103_tei_w\\2025-09-15_09-33\\Urfa-203_Tattooing-Harran-2017_05_ab2div.xml> into a Source. Line number: -1\n",
      "2025-09-15 09:34:33,201 - C:\\Users\\mrauschsupola\\Shawi\\shawi-data\\103_tei_w\\2025-09-15_09-33\\Urfa-203_Tattooing-Harran-2017_05_ab2div.xml - C:\\Users\\mrauschsupola\\Shawi\\shawi-data\\080_scripts_generic\\080_01_ELAN2TEI\\tokenizer\\custom_xtoks2tei.xsl -> C:\\Users\\mrauschsupola\\Shawi\\shawi-data\\103_tei_w\\Urfa-203_Tattooing-Harran-2017.xml failed\n"
     ]
    },
    {
     "name": "stdout",
     "output_type": "stream",
     "text": [
      "Urfa-203_Tattooing-Harran-2017: done.\n",
      "Urfa-352_Washing_Clothes-Harran-2021: C:\\Users\\mrauschsupola\\Shawi\\shawi-data\\103_tei_w\\2025-09-15_09-33\\ELAN_Urfa-352_Washing_Clothes-Harran-2021.xml -> C:\\Users\\mrauschsupola\\Shawi\\shawi-data\\103_tei_w\\Urfa-352_Washing_Clothes-Harran-2021.xml\n"
     ]
    },
    {
     "name": "stderr",
     "output_type": "stream",
     "text": [
      "2025-09-15 09:34:33,685 - XTSE0020: Serialization parameter Q{.../saxon.sf.net/}line-length is not available in Saxon-HE\n",
      "\n",
      "2025-09-15 09:34:33,701 - C:\\Users\\mrauschsupola\\Shawi\\shawi-data\\103_tei_w\\2025-09-15_09-33\\Urfa-352_Washing_Clothes-Harran-2021_04_posttok.xml - C:\\Users\\mrauschsupola\\Shawi\\shawi-data\\080_scripts_generic\\080_01_ELAN2TEI\\tokenizer\\annotationBlock2div.xsl -> C:\\Users\\mrauschsupola\\Shawi\\shawi-data\\103_tei_w\\2025-09-15_09-33\\Urfa-352_Washing_Clothes-Harran-2021_05_ab2div.xml failed\n",
      "2025-09-15 09:34:33,701 - there was an error transforming ../../103_tei_w/2025-09-15_09-33/Urfa-352_Washing_Clothes-Harran-2021_04_posttok.xml with stylesheet ./tokenizer/annotationBlock2div.xsl\n",
      "2025-09-15 09:34:33,701 - Unable to resolve <C:\\Users\\mrauschsupola\\Shawi\\shawi-data\\103_tei_w\\2025-09-15_09-33\\Urfa-352_Washing_Clothes-Harran-2021_05_ab2div.xml> into a Source. Line number: -1\n",
      "2025-09-15 09:34:33,701 - C:\\Users\\mrauschsupola\\Shawi\\shawi-data\\103_tei_w\\2025-09-15_09-33\\Urfa-352_Washing_Clothes-Harran-2021_05_ab2div.xml - C:\\Users\\mrauschsupola\\Shawi\\shawi-data\\080_scripts_generic\\080_01_ELAN2TEI\\tokenizer\\custom_xtoks2tei.xsl -> C:\\Users\\mrauschsupola\\Shawi\\shawi-data\\103_tei_w\\Urfa-352_Washing_Clothes-Harran-2021.xml failed\n"
     ]
    }
   ],
   "source": [
    "print(os.path.abspath(pathToTeiCorpus))\n",
    "mergeParam = { \"pathToCorpusDoc\": pathlib.Path(os.path.abspath(pathToTeiCorpus)).as_uri() }\n",
    "for doc in ELANDocs:\n",
    "    print(doc[\"basename\"]+': '+doc[\"filepath_tmp_TEI\"]+\" -> \"+doc[\"TEI\"])\n",
    "    mergeMetadata(doc, mergeParam)\n",
    "    removeNL(doc)\n",
    "    tokenize(doc)\n",
    "    addP(doc)\n",
    "    postProcess(doc)\n",
    "    annotationBlock2div(doc)\n",
    "    createTEIForAnnotation(doc)\n",
    "    #createXMLVert(doc)\n",
    "    #attachAnnotationsToXMLVert(doc)\n",
    "    #createNoSkEVert(doc)\n",
    "    print(doc[\"basename\"]+\": done.\")"
   ]
  },
  {
   "cell_type": "markdown",
   "id": "c1fb522d",
   "metadata": {},
   "source": [
    "## Replace TEI elements with x-includes in corpus document"
   ]
  },
  {
   "cell_type": "code",
   "execution_count": null,
   "id": "b1045b01-72db-4104-8ebe-e4c4dffa385d",
   "metadata": {},
   "outputs": [],
   "source": []
  }
 ],
 "metadata": {
  "kernelspec": {
   "display_name": "Python 3 (ipykernel)",
   "language": "python",
   "name": "python3"
  },
  "language_info": {
   "codemirror_mode": {
    "name": "ipython",
    "version": 3
   },
   "file_extension": ".py",
   "mimetype": "text/x-python",
   "name": "python",
   "nbconvert_exporter": "python",
   "pygments_lexer": "ipython3",
   "version": "3.12.0"
  },
  "vscode": {
   "interpreter": {
    "hash": "6b0b902fac6ad7dd00456e1f7dc72379c0baf1ab5135d56a56b79f9771306c5e"
   }
  }
 },
 "nbformat": 4,
 "nbformat_minor": 5
}
